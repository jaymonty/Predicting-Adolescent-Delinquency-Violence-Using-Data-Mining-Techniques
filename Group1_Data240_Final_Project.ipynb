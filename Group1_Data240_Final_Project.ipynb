{
  "nbformat": 4,
  "nbformat_minor": 0,
  "metadata": {
    "colab": {
      "provenance": [],
      "include_colab_link": true
    },
    "kernelspec": {
      "name": "python3",
      "display_name": "Python 3"
    },
    "language_info": {
      "name": "python"
    },
    "accelerator": "TPU",
    "gpuClass": "standard"
  },
  "cells": [
    {
      "cell_type": "markdown",
      "metadata": {
        "id": "view-in-github",
        "colab_type": "text"
      },
      "source": [
        "<a href=\"https://colab.research.google.com/github/jaymonty/Predicting-Adolescent-Delinquency-Violence-Using-Data-Mining-Techniques/blob/main/Group1_Data240_Final_Project.ipynb\" target=\"_parent\"><img src=\"https://colab.research.google.com/assets/colab-badge.svg\" alt=\"Open In Colab\"/></a>"
      ]
    },
    {
      "cell_type": "code",
      "source": [
        "pip install scikit-plot"
      ],
      "metadata": {
        "colab": {
          "base_uri": "https://localhost:8080/"
        },
        "id": "_GFkqazMV1qX",
        "outputId": "9159b3da-5509-4958-94e8-f5e5357fefc0"
      },
      "execution_count": null,
      "outputs": [
        {
          "output_type": "stream",
          "name": "stdout",
          "text": [
            "Looking in indexes: https://pypi.org/simple, https://us-python.pkg.dev/colab-wheels/public/simple/\n",
            "Collecting scikit-plot\n",
            "  Downloading scikit_plot-0.3.7-py3-none-any.whl (33 kB)\n",
            "Requirement already satisfied: matplotlib>=1.4.0 in /usr/local/lib/python3.10/dist-packages (from scikit-plot) (3.7.1)\n",
            "Requirement already satisfied: scikit-learn>=0.18 in /usr/local/lib/python3.10/dist-packages (from scikit-plot) (1.2.2)\n",
            "Requirement already satisfied: joblib>=0.10 in /usr/local/lib/python3.10/dist-packages (from scikit-plot) (1.2.0)\n",
            "Requirement already satisfied: scipy>=0.9 in /usr/local/lib/python3.10/dist-packages (from scikit-plot) (1.10.1)\n",
            "Requirement already satisfied: cycler>=0.10 in /usr/local/lib/python3.10/dist-packages (from matplotlib>=1.4.0->scikit-plot) (0.11.0)\n",
            "Requirement already satisfied: pillow>=6.2.0 in /usr/local/lib/python3.10/dist-packages (from matplotlib>=1.4.0->scikit-plot) (8.4.0)\n",
            "Requirement already satisfied: packaging>=20.0 in /usr/local/lib/python3.10/dist-packages (from matplotlib>=1.4.0->scikit-plot) (23.1)\n",
            "Requirement already satisfied: kiwisolver>=1.0.1 in /usr/local/lib/python3.10/dist-packages (from matplotlib>=1.4.0->scikit-plot) (1.4.4)\n",
            "Requirement already satisfied: numpy>=1.20 in /usr/local/lib/python3.10/dist-packages (from matplotlib>=1.4.0->scikit-plot) (1.24.3)\n",
            "Requirement already satisfied: pyparsing>=2.3.1 in /usr/local/lib/python3.10/dist-packages (from matplotlib>=1.4.0->scikit-plot) (3.0.9)\n",
            "Requirement already satisfied: contourpy>=1.0.1 in /usr/local/lib/python3.10/dist-packages (from matplotlib>=1.4.0->scikit-plot) (1.0.7)\n",
            "Requirement already satisfied: fonttools>=4.22.0 in /usr/local/lib/python3.10/dist-packages (from matplotlib>=1.4.0->scikit-plot) (4.39.3)\n",
            "Requirement already satisfied: python-dateutil>=2.7 in /usr/local/lib/python3.10/dist-packages (from matplotlib>=1.4.0->scikit-plot) (2.8.2)\n",
            "Requirement already satisfied: threadpoolctl>=2.0.0 in /usr/local/lib/python3.10/dist-packages (from scikit-learn>=0.18->scikit-plot) (3.1.0)\n",
            "Requirement already satisfied: six>=1.5 in /usr/local/lib/python3.10/dist-packages (from python-dateutil>=2.7->matplotlib>=1.4.0->scikit-plot) (1.16.0)\n",
            "Installing collected packages: scikit-plot\n",
            "Successfully installed scikit-plot-0.3.7\n"
          ]
        }
      ]
    },
    {
      "cell_type": "code",
      "execution_count": null,
      "metadata": {
        "id": "ow9u5r7p2BAC"
      },
      "outputs": [],
      "source": [
        "import pandas as pd\n",
        "import numpy as np\n",
        "import matplotlib.pyplot as plt\n",
        "import seaborn as sns\n",
        "import io"
      ]
    },
    {
      "cell_type": "code",
      "source": [
        "from pydrive.auth import GoogleAuth\n",
        "from google.colab import drive\n",
        "from pydrive.drive import GoogleDrive\n",
        "from google.colab import auth\n",
        "from oauth2client.client import GoogleCredentials\n",
        "from google.colab import files"
      ],
      "metadata": {
        "id": "JZJRJZnm2HqW"
      },
      "execution_count": null,
      "outputs": []
    },
    {
      "cell_type": "code",
      "source": [
        "from sklearn.model_selection import train_test_split\n",
        "from sklearn.tree import DecisionTreeClassifier\n",
        "from sklearn.metrics import confusion_matrix, accuracy_score, classification_report\n",
        "from sklearn.ensemble import RandomForestClassifier\n",
        "from sklearn.linear_model import LogisticRegression\n",
        "from sklearn.preprocessing import MinMaxScaler\n",
        "import statsmodels.api as sm\n",
        "from sklearn.metrics import precision_recall_curve\n",
        "from sklearn.metrics import f1_score\n",
        "from sklearn.metrics import recall_score\n",
        "from sklearn.model_selection import GridSearchCV\n",
        "from sklearn.preprocessing import LabelEncoder\n",
        "from sklearn.metrics import roc_curve\n",
        "import scikitplot as skplt"
      ],
      "metadata": {
        "id": "fGWGvQdGEWt0"
      },
      "execution_count": null,
      "outputs": []
    },
    {
      "cell_type": "code",
      "source": [
        "auth.authenticate_user()\n",
        "gauth = GoogleAuth()\n",
        "gauth.credentials = GoogleCredentials.get_application_default()\n",
        "drive = GoogleDrive(gauth)\n",
        "\n",
        "file_id = '19IWNzmJ0k41UVUc320EnvwEDKi77YiyC'\n",
        "download = drive.CreateFile({'id': file_id})\n",
        "\n",
        "# Download the file to a local disc\n",
        "download.GetContentFile('file.csv')\n",
        "df = pd.read_csv('file.csv')"
      ],
      "metadata": {
        "id": "JCtX306H2JfZ"
      },
      "execution_count": null,
      "outputs": []
    },
    {
      "cell_type": "code",
      "source": [
        "pd.set_option('display.max_columns', None)\n",
        "pd.set_option('display.max_rows', None)"
      ],
      "metadata": {
        "id": "9wnQb0jf2huh"
      },
      "execution_count": null,
      "outputs": []
    },
    {
      "cell_type": "code",
      "source": [
        "df.shape"
      ],
      "metadata": {
        "id": "SlYhyqOS2oIo",
        "colab": {
          "base_uri": "https://localhost:8080/"
        },
        "outputId": "e5714817-b354-41ea-ba11-ce2a386959dc"
      },
      "execution_count": null,
      "outputs": [
        {
          "output_type": "execute_result",
          "data": {
            "text/plain": [
              "(68507, 146)"
            ]
          },
          "metadata": {},
          "execution_count": 7
        }
      ]
    },
    {
      "cell_type": "code",
      "source": [
        "df.head()"
      ],
      "metadata": {
        "colab": {
          "base_uri": "https://localhost:8080/",
          "height": 287
        },
        "id": "FtyJiaMGiSkl",
        "outputId": "f7802c44-8962-422b-df64-63234176b5fb"
      },
      "execution_count": null,
      "outputs": [
        {
          "output_type": "execute_result",
          "data": {
            "text/plain": [
              "   Unnamed: 0  CASEID SCOUNTRY  MALE  AGEGROUP  BIRTHP  BIRTHPM  BIRTHPF  \\\n",
              "0           0  101001      USA     1         1       1        1        1   \n",
              "1           1  101002      USA     0         1       1        1        1   \n",
              "2           2  101003      USA     1         1       1        2        1   \n",
              "3           3  101004      USA     1         1       1        1        1   \n",
              "4           4  101005      USA     1         1       1        1        1   \n",
              "\n",
              "   FAMILY  LANGH1  DISCRIM  WORKFATH  WORKMOTH  OWNROOM  COMPUSE  OWNMOBPH  \\\n",
              "0       5       1        1         1         7        1        0         1   \n",
              "1       1       1        1         1         3        1        1         1   \n",
              "2       1       1        1         2         1        1        1         1   \n",
              "3       1       1        1         1         1        1        1         0   \n",
              "4       6       1        1         3         6        1        1         0   \n",
              "\n",
              "   FAMILCAR  VICROBBP  VICASSAP  VICTHEFP  VICBULLP  GETALFA  GETALMO  \\\n",
              "0         1         0         0         1         0        4        4   \n",
              "1         1         0         0         0         0        2        4   \n",
              "2         1         0         0         0         0        3        4   \n",
              "3         1         0         0         0         0        3        4   \n",
              "4         1         0         0         0         0        4        4   \n",
              "\n",
              "   LEISFAM  DINNFAM  KNOWFR  TELLTIME  OBEYTIME  LIFEEV01  LIFEEV02  LIFEEV03  \\\n",
              "0        5        5       2         1         2         0         0         1   \n",
              "1        1        8       3         1         3         0         0         0   \n",
              "2        4        3       2         1         2         0         0         1   \n",
              "3        6        4       2         1         2         0         0         1   \n",
              "4        6        8       3         1         3         0         0         0   \n",
              "\n",
              "   LIFEEV04  LIFEEV05  LIFEEV06  LIFEEV07  LIFEEV08  NIGHTACT  ACTIV01  \\\n",
              "0         0         1         1         0         1         8        2   \n",
              "1         0         1         1         1         0         1        6   \n",
              "2         0         0         0         0         0         8        6   \n",
              "3         0         0         0         0         0         8        4   \n",
              "4         0         0         0         0         0         3        3   \n",
              "\n",
              "   ACTIV02  ACTIV03  ACTIV04  ACTIV05  ACTIV06  ACTIV07  TRANSP01  TRANSP02  \\\n",
              "0        1        5        1        6        6        1         0         0   \n",
              "1        1        2        1        1        5        9         0         0   \n",
              "2        1        5        1        6        5        1         0         0   \n",
              "3        1        5        1        4        3        1         0         1   \n",
              "4        2        2        1        1        4        1         0         1   \n",
              "\n",
              "   TRANSP03  TRANSP04  TRANSP05  TRANSP06  TRANSP07  LEISSP01  LEISSP02  \\\n",
              "0         0         1         0         0         0         0         0   \n",
              "1         1         0         0         0         0         0         0   \n",
              "2         1         0         0         0         0         0         0   \n",
              "3         1         1         0         0         0         0         0   \n",
              "4         1         1         0         0         0         1         0   \n",
              "\n",
              "   LEISSP03  LEISSP04  GROUPFR  GRPAGE01  GRPAGE02  GRPAGE03  GRPAGE04  \\\n",
              "0         1         1        1         0         1         1         0   \n",
              "1         0         1        0         8         8         8         8   \n",
              "2         0         1        1         0         1         0         0   \n",
              "3         0         1        1         0         1         0         0   \n",
              "4         0         0        1         0         1         0         0   \n",
              "\n",
              "   GRPAGE05  GRPPUBL  GRPEXIST  GRPILLAC  GRPILLDO  GRPGANG  GRPGEND  GRPETHN  \\\n",
              "0         0        1         3         1         1        7        3        2   \n",
              "1         8        8         8         8         8        8        8        2   \n",
              "2         0        1         3         0         0        0        3        1   \n",
              "3         0        1         3         0         0        0        3        1   \n",
              "4         0        0         3         0         0        0        1        1   \n",
              "\n",
              "   ETHNFRND  FRNDAC01  FRNDAC02  FRNDAC03  FRNDAC04  FRNDAC05  FRNDAC06  \\\n",
              "0         6         1         1         2         2         2         3   \n",
              "1         1         1         1         1         1         1         4   \n",
              "2         1         1         1         1         1         1         3   \n",
              "3         1         2         1         1         1         1         2   \n",
              "4         1         1         1         1         1         1         4   \n",
              "\n",
              "   FRNDAC07  FRNDAC08  FRNDAC09  ATTVIO01  ATTVIO02  ATTVIO03  ATTVIO04  \\\n",
              "0         2         9         9         3         1         4         4   \n",
              "1         2         1         9         3         1         1         2   \n",
              "2         3         1         9         3         2         4         2   \n",
              "3         2         1         9         3         2         4         2   \n",
              "4         2         1         7         2         1         4         1   \n",
              "\n",
              "   ATTVIO05  SELFC01  SELFC02  SELFC03  SELFC04  SELFC05  SELFC06  SELFC07  \\\n",
              "0         4        3        3        3        4        4        3        2   \n",
              "1         4        3        1        1        2        9        2        1   \n",
              "2         3        3        2        2        4        4        4        3   \n",
              "3         3        3        2        2        4        4        4        2   \n",
              "4         1        1        1        3        3        2        3        1   \n",
              "\n",
              "   SELFC08  SELFC09  SELFC10  SELFC11  SELFC12  ACCIDP  ATTSCH  REPGRADE  \\\n",
              "0        2        2        2        2        2       7       1         1   \n",
              "1        1        2        2        1        4       1       3         1   \n",
              "2        1        3        1        4        1       3       1         1   \n",
              "3        1        3        1        4        1       3       3         1   \n",
              "4        1        1        3        1        1       1       3         1   \n",
              "\n",
              "   TRUANCY  ACHIEV  ATSCH01  ATSCH02  ATSCH03  ATSCH04  ATSCH05  ATSCH06  \\\n",
              "0        2       2        2        3        1        4        3        3   \n",
              "1        1       3        4        7        3        1        1        1   \n",
              "2        1       2        1        3        1        2        3        3   \n",
              "3        1       2        2        1        3        4        3        3   \n",
              "4        1       3        4        2        3        3        1        1   \n",
              "\n",
              "   ATSCH07  ATSCH08  AFTSCH  NHOOD01  NHOOD02  NHOOD03  NHOOD04  NHOOD05  \\\n",
              "0        3        3       4        3        2        4        3        3   \n",
              "1        4        2       5        2        1        2        1        1   \n",
              "2        1        4      99        9        9        9        9        9   \n",
              "3        3        3      99        9        9        9        9        9   \n",
              "4        1        1       5        3        1        1        1        1   \n",
              "\n",
              "   NHOOD06  NHOOD07  NHOOD08  NHOOD09  NHOOD10  NHOOD11  NHOOD12  NHOOD13  \\\n",
              "0        3        3        2        3        3        3        4        2   \n",
              "1        1        1        1        1        3        3        4        1   \n",
              "2        9        9        9        9        9        9        9        9   \n",
              "3        9        9        9        9        9        9        9        9   \n",
              "4        1        1        1        1        3        1        2        1   \n",
              "\n",
              "   DELPDR  DELPSL  DELPBU  DELPEX  DELPAS  BEERLTP  SPIRLTP  HASHLTP  XTCLTP  \\\n",
              "0       1       1       1       1       1        1        1        1       0   \n",
              "1       0       0       0       0       0        0        0        0       0   \n",
              "2       9       9       9       9       9        9        9        9       9   \n",
              "3       9       9       9       9       9        9        9        9       9   \n",
              "4       0       0       0       0       0        0        0        0       0   \n",
              "\n",
              "   LHCLTP  VANDLTP  SHOPLTP  BURGLTP  BICTLTP  CARTLTP  DOWNLTP  HACKLTP  \\\n",
              "0       0        1        1        1        1        9        9        9   \n",
              "1       0        0        1        9        9        9        9        9   \n",
              "2       9        9        9        9        9        9        9        9   \n",
              "3       9        9        9        9        9        9        9        9   \n",
              "4       0        0        0        0        0        0        0        0   \n",
              "\n",
              "   CARBLTP  SNATLTP  WEAPLTP  EXTOLTP  GFIGLTP  ASLTLTP  DRUDLTP  \n",
              "0        9        9        9        9        9        9        9  \n",
              "1        9        9        9        9        9        9        9  \n",
              "2        9        9        9        9        9        9        9  \n",
              "3        9        9        9        9        9        9        9  \n",
              "4        0        0        0        0        0        0        0  "
            ],
            "text/html": [
              "\n",
              "  <div id=\"df-ee84d267-c53a-4859-87a9-d8fe59d16d85\">\n",
              "    <div class=\"colab-df-container\">\n",
              "      <div>\n",
              "<style scoped>\n",
              "    .dataframe tbody tr th:only-of-type {\n",
              "        vertical-align: middle;\n",
              "    }\n",
              "\n",
              "    .dataframe tbody tr th {\n",
              "        vertical-align: top;\n",
              "    }\n",
              "\n",
              "    .dataframe thead th {\n",
              "        text-align: right;\n",
              "    }\n",
              "</style>\n",
              "<table border=\"1\" class=\"dataframe\">\n",
              "  <thead>\n",
              "    <tr style=\"text-align: right;\">\n",
              "      <th></th>\n",
              "      <th>Unnamed: 0</th>\n",
              "      <th>CASEID</th>\n",
              "      <th>SCOUNTRY</th>\n",
              "      <th>MALE</th>\n",
              "      <th>AGEGROUP</th>\n",
              "      <th>BIRTHP</th>\n",
              "      <th>BIRTHPM</th>\n",
              "      <th>BIRTHPF</th>\n",
              "      <th>FAMILY</th>\n",
              "      <th>LANGH1</th>\n",
              "      <th>DISCRIM</th>\n",
              "      <th>WORKFATH</th>\n",
              "      <th>WORKMOTH</th>\n",
              "      <th>OWNROOM</th>\n",
              "      <th>COMPUSE</th>\n",
              "      <th>OWNMOBPH</th>\n",
              "      <th>FAMILCAR</th>\n",
              "      <th>VICROBBP</th>\n",
              "      <th>VICASSAP</th>\n",
              "      <th>VICTHEFP</th>\n",
              "      <th>VICBULLP</th>\n",
              "      <th>GETALFA</th>\n",
              "      <th>GETALMO</th>\n",
              "      <th>LEISFAM</th>\n",
              "      <th>DINNFAM</th>\n",
              "      <th>KNOWFR</th>\n",
              "      <th>TELLTIME</th>\n",
              "      <th>OBEYTIME</th>\n",
              "      <th>LIFEEV01</th>\n",
              "      <th>LIFEEV02</th>\n",
              "      <th>LIFEEV03</th>\n",
              "      <th>LIFEEV04</th>\n",
              "      <th>LIFEEV05</th>\n",
              "      <th>LIFEEV06</th>\n",
              "      <th>LIFEEV07</th>\n",
              "      <th>LIFEEV08</th>\n",
              "      <th>NIGHTACT</th>\n",
              "      <th>ACTIV01</th>\n",
              "      <th>ACTIV02</th>\n",
              "      <th>ACTIV03</th>\n",
              "      <th>ACTIV04</th>\n",
              "      <th>ACTIV05</th>\n",
              "      <th>ACTIV06</th>\n",
              "      <th>ACTIV07</th>\n",
              "      <th>TRANSP01</th>\n",
              "      <th>TRANSP02</th>\n",
              "      <th>TRANSP03</th>\n",
              "      <th>TRANSP04</th>\n",
              "      <th>TRANSP05</th>\n",
              "      <th>TRANSP06</th>\n",
              "      <th>TRANSP07</th>\n",
              "      <th>LEISSP01</th>\n",
              "      <th>LEISSP02</th>\n",
              "      <th>LEISSP03</th>\n",
              "      <th>LEISSP04</th>\n",
              "      <th>GROUPFR</th>\n",
              "      <th>GRPAGE01</th>\n",
              "      <th>GRPAGE02</th>\n",
              "      <th>GRPAGE03</th>\n",
              "      <th>GRPAGE04</th>\n",
              "      <th>GRPAGE05</th>\n",
              "      <th>GRPPUBL</th>\n",
              "      <th>GRPEXIST</th>\n",
              "      <th>GRPILLAC</th>\n",
              "      <th>GRPILLDO</th>\n",
              "      <th>GRPGANG</th>\n",
              "      <th>GRPGEND</th>\n",
              "      <th>GRPETHN</th>\n",
              "      <th>ETHNFRND</th>\n",
              "      <th>FRNDAC01</th>\n",
              "      <th>FRNDAC02</th>\n",
              "      <th>FRNDAC03</th>\n",
              "      <th>FRNDAC04</th>\n",
              "      <th>FRNDAC05</th>\n",
              "      <th>FRNDAC06</th>\n",
              "      <th>FRNDAC07</th>\n",
              "      <th>FRNDAC08</th>\n",
              "      <th>FRNDAC09</th>\n",
              "      <th>ATTVIO01</th>\n",
              "      <th>ATTVIO02</th>\n",
              "      <th>ATTVIO03</th>\n",
              "      <th>ATTVIO04</th>\n",
              "      <th>ATTVIO05</th>\n",
              "      <th>SELFC01</th>\n",
              "      <th>SELFC02</th>\n",
              "      <th>SELFC03</th>\n",
              "      <th>SELFC04</th>\n",
              "      <th>SELFC05</th>\n",
              "      <th>SELFC06</th>\n",
              "      <th>SELFC07</th>\n",
              "      <th>SELFC08</th>\n",
              "      <th>SELFC09</th>\n",
              "      <th>SELFC10</th>\n",
              "      <th>SELFC11</th>\n",
              "      <th>SELFC12</th>\n",
              "      <th>ACCIDP</th>\n",
              "      <th>ATTSCH</th>\n",
              "      <th>REPGRADE</th>\n",
              "      <th>TRUANCY</th>\n",
              "      <th>ACHIEV</th>\n",
              "      <th>ATSCH01</th>\n",
              "      <th>ATSCH02</th>\n",
              "      <th>ATSCH03</th>\n",
              "      <th>ATSCH04</th>\n",
              "      <th>ATSCH05</th>\n",
              "      <th>ATSCH06</th>\n",
              "      <th>ATSCH07</th>\n",
              "      <th>ATSCH08</th>\n",
              "      <th>AFTSCH</th>\n",
              "      <th>NHOOD01</th>\n",
              "      <th>NHOOD02</th>\n",
              "      <th>NHOOD03</th>\n",
              "      <th>NHOOD04</th>\n",
              "      <th>NHOOD05</th>\n",
              "      <th>NHOOD06</th>\n",
              "      <th>NHOOD07</th>\n",
              "      <th>NHOOD08</th>\n",
              "      <th>NHOOD09</th>\n",
              "      <th>NHOOD10</th>\n",
              "      <th>NHOOD11</th>\n",
              "      <th>NHOOD12</th>\n",
              "      <th>NHOOD13</th>\n",
              "      <th>DELPDR</th>\n",
              "      <th>DELPSL</th>\n",
              "      <th>DELPBU</th>\n",
              "      <th>DELPEX</th>\n",
              "      <th>DELPAS</th>\n",
              "      <th>BEERLTP</th>\n",
              "      <th>SPIRLTP</th>\n",
              "      <th>HASHLTP</th>\n",
              "      <th>XTCLTP</th>\n",
              "      <th>LHCLTP</th>\n",
              "      <th>VANDLTP</th>\n",
              "      <th>SHOPLTP</th>\n",
              "      <th>BURGLTP</th>\n",
              "      <th>BICTLTP</th>\n",
              "      <th>CARTLTP</th>\n",
              "      <th>DOWNLTP</th>\n",
              "      <th>HACKLTP</th>\n",
              "      <th>CARBLTP</th>\n",
              "      <th>SNATLTP</th>\n",
              "      <th>WEAPLTP</th>\n",
              "      <th>EXTOLTP</th>\n",
              "      <th>GFIGLTP</th>\n",
              "      <th>ASLTLTP</th>\n",
              "      <th>DRUDLTP</th>\n",
              "    </tr>\n",
              "  </thead>\n",
              "  <tbody>\n",
              "    <tr>\n",
              "      <th>0</th>\n",
              "      <td>0</td>\n",
              "      <td>101001</td>\n",
              "      <td>USA</td>\n",
              "      <td>1</td>\n",
              "      <td>1</td>\n",
              "      <td>1</td>\n",
              "      <td>1</td>\n",
              "      <td>1</td>\n",
              "      <td>5</td>\n",
              "      <td>1</td>\n",
              "      <td>1</td>\n",
              "      <td>1</td>\n",
              "      <td>7</td>\n",
              "      <td>1</td>\n",
              "      <td>0</td>\n",
              "      <td>1</td>\n",
              "      <td>1</td>\n",
              "      <td>0</td>\n",
              "      <td>0</td>\n",
              "      <td>1</td>\n",
              "      <td>0</td>\n",
              "      <td>4</td>\n",
              "      <td>4</td>\n",
              "      <td>5</td>\n",
              "      <td>5</td>\n",
              "      <td>2</td>\n",
              "      <td>1</td>\n",
              "      <td>2</td>\n",
              "      <td>0</td>\n",
              "      <td>0</td>\n",
              "      <td>1</td>\n",
              "      <td>0</td>\n",
              "      <td>1</td>\n",
              "      <td>1</td>\n",
              "      <td>0</td>\n",
              "      <td>1</td>\n",
              "      <td>8</td>\n",
              "      <td>2</td>\n",
              "      <td>1</td>\n",
              "      <td>5</td>\n",
              "      <td>1</td>\n",
              "      <td>6</td>\n",
              "      <td>6</td>\n",
              "      <td>1</td>\n",
              "      <td>0</td>\n",
              "      <td>0</td>\n",
              "      <td>0</td>\n",
              "      <td>1</td>\n",
              "      <td>0</td>\n",
              "      <td>0</td>\n",
              "      <td>0</td>\n",
              "      <td>0</td>\n",
              "      <td>0</td>\n",
              "      <td>1</td>\n",
              "      <td>1</td>\n",
              "      <td>1</td>\n",
              "      <td>0</td>\n",
              "      <td>1</td>\n",
              "      <td>1</td>\n",
              "      <td>0</td>\n",
              "      <td>0</td>\n",
              "      <td>1</td>\n",
              "      <td>3</td>\n",
              "      <td>1</td>\n",
              "      <td>1</td>\n",
              "      <td>7</td>\n",
              "      <td>3</td>\n",
              "      <td>2</td>\n",
              "      <td>6</td>\n",
              "      <td>1</td>\n",
              "      <td>1</td>\n",
              "      <td>2</td>\n",
              "      <td>2</td>\n",
              "      <td>2</td>\n",
              "      <td>3</td>\n",
              "      <td>2</td>\n",
              "      <td>9</td>\n",
              "      <td>9</td>\n",
              "      <td>3</td>\n",
              "      <td>1</td>\n",
              "      <td>4</td>\n",
              "      <td>4</td>\n",
              "      <td>4</td>\n",
              "      <td>3</td>\n",
              "      <td>3</td>\n",
              "      <td>3</td>\n",
              "      <td>4</td>\n",
              "      <td>4</td>\n",
              "      <td>3</td>\n",
              "      <td>2</td>\n",
              "      <td>2</td>\n",
              "      <td>2</td>\n",
              "      <td>2</td>\n",
              "      <td>2</td>\n",
              "      <td>2</td>\n",
              "      <td>7</td>\n",
              "      <td>1</td>\n",
              "      <td>1</td>\n",
              "      <td>2</td>\n",
              "      <td>2</td>\n",
              "      <td>2</td>\n",
              "      <td>3</td>\n",
              "      <td>1</td>\n",
              "      <td>4</td>\n",
              "      <td>3</td>\n",
              "      <td>3</td>\n",
              "      <td>3</td>\n",
              "      <td>3</td>\n",
              "      <td>4</td>\n",
              "      <td>3</td>\n",
              "      <td>2</td>\n",
              "      <td>4</td>\n",
              "      <td>3</td>\n",
              "      <td>3</td>\n",
              "      <td>3</td>\n",
              "      <td>3</td>\n",
              "      <td>2</td>\n",
              "      <td>3</td>\n",
              "      <td>3</td>\n",
              "      <td>3</td>\n",
              "      <td>4</td>\n",
              "      <td>2</td>\n",
              "      <td>1</td>\n",
              "      <td>1</td>\n",
              "      <td>1</td>\n",
              "      <td>1</td>\n",
              "      <td>1</td>\n",
              "      <td>1</td>\n",
              "      <td>1</td>\n",
              "      <td>1</td>\n",
              "      <td>0</td>\n",
              "      <td>0</td>\n",
              "      <td>1</td>\n",
              "      <td>1</td>\n",
              "      <td>1</td>\n",
              "      <td>1</td>\n",
              "      <td>9</td>\n",
              "      <td>9</td>\n",
              "      <td>9</td>\n",
              "      <td>9</td>\n",
              "      <td>9</td>\n",
              "      <td>9</td>\n",
              "      <td>9</td>\n",
              "      <td>9</td>\n",
              "      <td>9</td>\n",
              "      <td>9</td>\n",
              "    </tr>\n",
              "    <tr>\n",
              "      <th>1</th>\n",
              "      <td>1</td>\n",
              "      <td>101002</td>\n",
              "      <td>USA</td>\n",
              "      <td>0</td>\n",
              "      <td>1</td>\n",
              "      <td>1</td>\n",
              "      <td>1</td>\n",
              "      <td>1</td>\n",
              "      <td>1</td>\n",
              "      <td>1</td>\n",
              "      <td>1</td>\n",
              "      <td>1</td>\n",
              "      <td>3</td>\n",
              "      <td>1</td>\n",
              "      <td>1</td>\n",
              "      <td>1</td>\n",
              "      <td>1</td>\n",
              "      <td>0</td>\n",
              "      <td>0</td>\n",
              "      <td>0</td>\n",
              "      <td>0</td>\n",
              "      <td>2</td>\n",
              "      <td>4</td>\n",
              "      <td>1</td>\n",
              "      <td>8</td>\n",
              "      <td>3</td>\n",
              "      <td>1</td>\n",
              "      <td>3</td>\n",
              "      <td>0</td>\n",
              "      <td>0</td>\n",
              "      <td>0</td>\n",
              "      <td>0</td>\n",
              "      <td>1</td>\n",
              "      <td>1</td>\n",
              "      <td>1</td>\n",
              "      <td>0</td>\n",
              "      <td>1</td>\n",
              "      <td>6</td>\n",
              "      <td>1</td>\n",
              "      <td>2</td>\n",
              "      <td>1</td>\n",
              "      <td>1</td>\n",
              "      <td>5</td>\n",
              "      <td>9</td>\n",
              "      <td>0</td>\n",
              "      <td>0</td>\n",
              "      <td>1</td>\n",
              "      <td>0</td>\n",
              "      <td>0</td>\n",
              "      <td>0</td>\n",
              "      <td>0</td>\n",
              "      <td>0</td>\n",
              "      <td>0</td>\n",
              "      <td>0</td>\n",
              "      <td>1</td>\n",
              "      <td>0</td>\n",
              "      <td>8</td>\n",
              "      <td>8</td>\n",
              "      <td>8</td>\n",
              "      <td>8</td>\n",
              "      <td>8</td>\n",
              "      <td>8</td>\n",
              "      <td>8</td>\n",
              "      <td>8</td>\n",
              "      <td>8</td>\n",
              "      <td>8</td>\n",
              "      <td>8</td>\n",
              "      <td>2</td>\n",
              "      <td>1</td>\n",
              "      <td>1</td>\n",
              "      <td>1</td>\n",
              "      <td>1</td>\n",
              "      <td>1</td>\n",
              "      <td>1</td>\n",
              "      <td>4</td>\n",
              "      <td>2</td>\n",
              "      <td>1</td>\n",
              "      <td>9</td>\n",
              "      <td>3</td>\n",
              "      <td>1</td>\n",
              "      <td>1</td>\n",
              "      <td>2</td>\n",
              "      <td>4</td>\n",
              "      <td>3</td>\n",
              "      <td>1</td>\n",
              "      <td>1</td>\n",
              "      <td>2</td>\n",
              "      <td>9</td>\n",
              "      <td>2</td>\n",
              "      <td>1</td>\n",
              "      <td>1</td>\n",
              "      <td>2</td>\n",
              "      <td>2</td>\n",
              "      <td>1</td>\n",
              "      <td>4</td>\n",
              "      <td>1</td>\n",
              "      <td>3</td>\n",
              "      <td>1</td>\n",
              "      <td>1</td>\n",
              "      <td>3</td>\n",
              "      <td>4</td>\n",
              "      <td>7</td>\n",
              "      <td>3</td>\n",
              "      <td>1</td>\n",
              "      <td>1</td>\n",
              "      <td>1</td>\n",
              "      <td>4</td>\n",
              "      <td>2</td>\n",
              "      <td>5</td>\n",
              "      <td>2</td>\n",
              "      <td>1</td>\n",
              "      <td>2</td>\n",
              "      <td>1</td>\n",
              "      <td>1</td>\n",
              "      <td>1</td>\n",
              "      <td>1</td>\n",
              "      <td>1</td>\n",
              "      <td>1</td>\n",
              "      <td>3</td>\n",
              "      <td>3</td>\n",
              "      <td>4</td>\n",
              "      <td>1</td>\n",
              "      <td>0</td>\n",
              "      <td>0</td>\n",
              "      <td>0</td>\n",
              "      <td>0</td>\n",
              "      <td>0</td>\n",
              "      <td>0</td>\n",
              "      <td>0</td>\n",
              "      <td>0</td>\n",
              "      <td>0</td>\n",
              "      <td>0</td>\n",
              "      <td>0</td>\n",
              "      <td>1</td>\n",
              "      <td>9</td>\n",
              "      <td>9</td>\n",
              "      <td>9</td>\n",
              "      <td>9</td>\n",
              "      <td>9</td>\n",
              "      <td>9</td>\n",
              "      <td>9</td>\n",
              "      <td>9</td>\n",
              "      <td>9</td>\n",
              "      <td>9</td>\n",
              "      <td>9</td>\n",
              "      <td>9</td>\n",
              "    </tr>\n",
              "    <tr>\n",
              "      <th>2</th>\n",
              "      <td>2</td>\n",
              "      <td>101003</td>\n",
              "      <td>USA</td>\n",
              "      <td>1</td>\n",
              "      <td>1</td>\n",
              "      <td>1</td>\n",
              "      <td>2</td>\n",
              "      <td>1</td>\n",
              "      <td>1</td>\n",
              "      <td>1</td>\n",
              "      <td>1</td>\n",
              "      <td>2</td>\n",
              "      <td>1</td>\n",
              "      <td>1</td>\n",
              "      <td>1</td>\n",
              "      <td>1</td>\n",
              "      <td>1</td>\n",
              "      <td>0</td>\n",
              "      <td>0</td>\n",
              "      <td>0</td>\n",
              "      <td>0</td>\n",
              "      <td>3</td>\n",
              "      <td>4</td>\n",
              "      <td>4</td>\n",
              "      <td>3</td>\n",
              "      <td>2</td>\n",
              "      <td>1</td>\n",
              "      <td>2</td>\n",
              "      <td>0</td>\n",
              "      <td>0</td>\n",
              "      <td>1</td>\n",
              "      <td>0</td>\n",
              "      <td>0</td>\n",
              "      <td>0</td>\n",
              "      <td>0</td>\n",
              "      <td>0</td>\n",
              "      <td>8</td>\n",
              "      <td>6</td>\n",
              "      <td>1</td>\n",
              "      <td>5</td>\n",
              "      <td>1</td>\n",
              "      <td>6</td>\n",
              "      <td>5</td>\n",
              "      <td>1</td>\n",
              "      <td>0</td>\n",
              "      <td>0</td>\n",
              "      <td>1</td>\n",
              "      <td>0</td>\n",
              "      <td>0</td>\n",
              "      <td>0</td>\n",
              "      <td>0</td>\n",
              "      <td>0</td>\n",
              "      <td>0</td>\n",
              "      <td>0</td>\n",
              "      <td>1</td>\n",
              "      <td>1</td>\n",
              "      <td>0</td>\n",
              "      <td>1</td>\n",
              "      <td>0</td>\n",
              "      <td>0</td>\n",
              "      <td>0</td>\n",
              "      <td>1</td>\n",
              "      <td>3</td>\n",
              "      <td>0</td>\n",
              "      <td>0</td>\n",
              "      <td>0</td>\n",
              "      <td>3</td>\n",
              "      <td>1</td>\n",
              "      <td>1</td>\n",
              "      <td>1</td>\n",
              "      <td>1</td>\n",
              "      <td>1</td>\n",
              "      <td>1</td>\n",
              "      <td>1</td>\n",
              "      <td>3</td>\n",
              "      <td>3</td>\n",
              "      <td>1</td>\n",
              "      <td>9</td>\n",
              "      <td>3</td>\n",
              "      <td>2</td>\n",
              "      <td>4</td>\n",
              "      <td>2</td>\n",
              "      <td>3</td>\n",
              "      <td>3</td>\n",
              "      <td>2</td>\n",
              "      <td>2</td>\n",
              "      <td>4</td>\n",
              "      <td>4</td>\n",
              "      <td>4</td>\n",
              "      <td>3</td>\n",
              "      <td>1</td>\n",
              "      <td>3</td>\n",
              "      <td>1</td>\n",
              "      <td>4</td>\n",
              "      <td>1</td>\n",
              "      <td>3</td>\n",
              "      <td>1</td>\n",
              "      <td>1</td>\n",
              "      <td>1</td>\n",
              "      <td>2</td>\n",
              "      <td>1</td>\n",
              "      <td>3</td>\n",
              "      <td>1</td>\n",
              "      <td>2</td>\n",
              "      <td>3</td>\n",
              "      <td>3</td>\n",
              "      <td>1</td>\n",
              "      <td>4</td>\n",
              "      <td>99</td>\n",
              "      <td>9</td>\n",
              "      <td>9</td>\n",
              "      <td>9</td>\n",
              "      <td>9</td>\n",
              "      <td>9</td>\n",
              "      <td>9</td>\n",
              "      <td>9</td>\n",
              "      <td>9</td>\n",
              "      <td>9</td>\n",
              "      <td>9</td>\n",
              "      <td>9</td>\n",
              "      <td>9</td>\n",
              "      <td>9</td>\n",
              "      <td>9</td>\n",
              "      <td>9</td>\n",
              "      <td>9</td>\n",
              "      <td>9</td>\n",
              "      <td>9</td>\n",
              "      <td>9</td>\n",
              "      <td>9</td>\n",
              "      <td>9</td>\n",
              "      <td>9</td>\n",
              "      <td>9</td>\n",
              "      <td>9</td>\n",
              "      <td>9</td>\n",
              "      <td>9</td>\n",
              "      <td>9</td>\n",
              "      <td>9</td>\n",
              "      <td>9</td>\n",
              "      <td>9</td>\n",
              "      <td>9</td>\n",
              "      <td>9</td>\n",
              "      <td>9</td>\n",
              "      <td>9</td>\n",
              "      <td>9</td>\n",
              "      <td>9</td>\n",
              "      <td>9</td>\n",
              "    </tr>\n",
              "    <tr>\n",
              "      <th>3</th>\n",
              "      <td>3</td>\n",
              "      <td>101004</td>\n",
              "      <td>USA</td>\n",
              "      <td>1</td>\n",
              "      <td>1</td>\n",
              "      <td>1</td>\n",
              "      <td>1</td>\n",
              "      <td>1</td>\n",
              "      <td>1</td>\n",
              "      <td>1</td>\n",
              "      <td>1</td>\n",
              "      <td>1</td>\n",
              "      <td>1</td>\n",
              "      <td>1</td>\n",
              "      <td>1</td>\n",
              "      <td>0</td>\n",
              "      <td>1</td>\n",
              "      <td>0</td>\n",
              "      <td>0</td>\n",
              "      <td>0</td>\n",
              "      <td>0</td>\n",
              "      <td>3</td>\n",
              "      <td>4</td>\n",
              "      <td>6</td>\n",
              "      <td>4</td>\n",
              "      <td>2</td>\n",
              "      <td>1</td>\n",
              "      <td>2</td>\n",
              "      <td>0</td>\n",
              "      <td>0</td>\n",
              "      <td>1</td>\n",
              "      <td>0</td>\n",
              "      <td>0</td>\n",
              "      <td>0</td>\n",
              "      <td>0</td>\n",
              "      <td>0</td>\n",
              "      <td>8</td>\n",
              "      <td>4</td>\n",
              "      <td>1</td>\n",
              "      <td>5</td>\n",
              "      <td>1</td>\n",
              "      <td>4</td>\n",
              "      <td>3</td>\n",
              "      <td>1</td>\n",
              "      <td>0</td>\n",
              "      <td>1</td>\n",
              "      <td>1</td>\n",
              "      <td>1</td>\n",
              "      <td>0</td>\n",
              "      <td>0</td>\n",
              "      <td>0</td>\n",
              "      <td>0</td>\n",
              "      <td>0</td>\n",
              "      <td>0</td>\n",
              "      <td>1</td>\n",
              "      <td>1</td>\n",
              "      <td>0</td>\n",
              "      <td>1</td>\n",
              "      <td>0</td>\n",
              "      <td>0</td>\n",
              "      <td>0</td>\n",
              "      <td>1</td>\n",
              "      <td>3</td>\n",
              "      <td>0</td>\n",
              "      <td>0</td>\n",
              "      <td>0</td>\n",
              "      <td>3</td>\n",
              "      <td>1</td>\n",
              "      <td>1</td>\n",
              "      <td>2</td>\n",
              "      <td>1</td>\n",
              "      <td>1</td>\n",
              "      <td>1</td>\n",
              "      <td>1</td>\n",
              "      <td>2</td>\n",
              "      <td>2</td>\n",
              "      <td>1</td>\n",
              "      <td>9</td>\n",
              "      <td>3</td>\n",
              "      <td>2</td>\n",
              "      <td>4</td>\n",
              "      <td>2</td>\n",
              "      <td>3</td>\n",
              "      <td>3</td>\n",
              "      <td>2</td>\n",
              "      <td>2</td>\n",
              "      <td>4</td>\n",
              "      <td>4</td>\n",
              "      <td>4</td>\n",
              "      <td>2</td>\n",
              "      <td>1</td>\n",
              "      <td>3</td>\n",
              "      <td>1</td>\n",
              "      <td>4</td>\n",
              "      <td>1</td>\n",
              "      <td>3</td>\n",
              "      <td>3</td>\n",
              "      <td>1</td>\n",
              "      <td>1</td>\n",
              "      <td>2</td>\n",
              "      <td>2</td>\n",
              "      <td>1</td>\n",
              "      <td>3</td>\n",
              "      <td>4</td>\n",
              "      <td>3</td>\n",
              "      <td>3</td>\n",
              "      <td>3</td>\n",
              "      <td>3</td>\n",
              "      <td>99</td>\n",
              "      <td>9</td>\n",
              "      <td>9</td>\n",
              "      <td>9</td>\n",
              "      <td>9</td>\n",
              "      <td>9</td>\n",
              "      <td>9</td>\n",
              "      <td>9</td>\n",
              "      <td>9</td>\n",
              "      <td>9</td>\n",
              "      <td>9</td>\n",
              "      <td>9</td>\n",
              "      <td>9</td>\n",
              "      <td>9</td>\n",
              "      <td>9</td>\n",
              "      <td>9</td>\n",
              "      <td>9</td>\n",
              "      <td>9</td>\n",
              "      <td>9</td>\n",
              "      <td>9</td>\n",
              "      <td>9</td>\n",
              "      <td>9</td>\n",
              "      <td>9</td>\n",
              "      <td>9</td>\n",
              "      <td>9</td>\n",
              "      <td>9</td>\n",
              "      <td>9</td>\n",
              "      <td>9</td>\n",
              "      <td>9</td>\n",
              "      <td>9</td>\n",
              "      <td>9</td>\n",
              "      <td>9</td>\n",
              "      <td>9</td>\n",
              "      <td>9</td>\n",
              "      <td>9</td>\n",
              "      <td>9</td>\n",
              "      <td>9</td>\n",
              "      <td>9</td>\n",
              "    </tr>\n",
              "    <tr>\n",
              "      <th>4</th>\n",
              "      <td>4</td>\n",
              "      <td>101005</td>\n",
              "      <td>USA</td>\n",
              "      <td>1</td>\n",
              "      <td>1</td>\n",
              "      <td>1</td>\n",
              "      <td>1</td>\n",
              "      <td>1</td>\n",
              "      <td>6</td>\n",
              "      <td>1</td>\n",
              "      <td>1</td>\n",
              "      <td>3</td>\n",
              "      <td>6</td>\n",
              "      <td>1</td>\n",
              "      <td>1</td>\n",
              "      <td>0</td>\n",
              "      <td>1</td>\n",
              "      <td>0</td>\n",
              "      <td>0</td>\n",
              "      <td>0</td>\n",
              "      <td>0</td>\n",
              "      <td>4</td>\n",
              "      <td>4</td>\n",
              "      <td>6</td>\n",
              "      <td>8</td>\n",
              "      <td>3</td>\n",
              "      <td>1</td>\n",
              "      <td>3</td>\n",
              "      <td>0</td>\n",
              "      <td>0</td>\n",
              "      <td>0</td>\n",
              "      <td>0</td>\n",
              "      <td>0</td>\n",
              "      <td>0</td>\n",
              "      <td>0</td>\n",
              "      <td>0</td>\n",
              "      <td>3</td>\n",
              "      <td>3</td>\n",
              "      <td>2</td>\n",
              "      <td>2</td>\n",
              "      <td>1</td>\n",
              "      <td>1</td>\n",
              "      <td>4</td>\n",
              "      <td>1</td>\n",
              "      <td>0</td>\n",
              "      <td>1</td>\n",
              "      <td>1</td>\n",
              "      <td>1</td>\n",
              "      <td>0</td>\n",
              "      <td>0</td>\n",
              "      <td>0</td>\n",
              "      <td>1</td>\n",
              "      <td>0</td>\n",
              "      <td>0</td>\n",
              "      <td>0</td>\n",
              "      <td>1</td>\n",
              "      <td>0</td>\n",
              "      <td>1</td>\n",
              "      <td>0</td>\n",
              "      <td>0</td>\n",
              "      <td>0</td>\n",
              "      <td>0</td>\n",
              "      <td>3</td>\n",
              "      <td>0</td>\n",
              "      <td>0</td>\n",
              "      <td>0</td>\n",
              "      <td>1</td>\n",
              "      <td>1</td>\n",
              "      <td>1</td>\n",
              "      <td>1</td>\n",
              "      <td>1</td>\n",
              "      <td>1</td>\n",
              "      <td>1</td>\n",
              "      <td>1</td>\n",
              "      <td>4</td>\n",
              "      <td>2</td>\n",
              "      <td>1</td>\n",
              "      <td>7</td>\n",
              "      <td>2</td>\n",
              "      <td>1</td>\n",
              "      <td>4</td>\n",
              "      <td>1</td>\n",
              "      <td>1</td>\n",
              "      <td>1</td>\n",
              "      <td>1</td>\n",
              "      <td>3</td>\n",
              "      <td>3</td>\n",
              "      <td>2</td>\n",
              "      <td>3</td>\n",
              "      <td>1</td>\n",
              "      <td>1</td>\n",
              "      <td>1</td>\n",
              "      <td>3</td>\n",
              "      <td>1</td>\n",
              "      <td>1</td>\n",
              "      <td>1</td>\n",
              "      <td>3</td>\n",
              "      <td>1</td>\n",
              "      <td>1</td>\n",
              "      <td>3</td>\n",
              "      <td>4</td>\n",
              "      <td>2</td>\n",
              "      <td>3</td>\n",
              "      <td>3</td>\n",
              "      <td>1</td>\n",
              "      <td>1</td>\n",
              "      <td>1</td>\n",
              "      <td>1</td>\n",
              "      <td>5</td>\n",
              "      <td>3</td>\n",
              "      <td>1</td>\n",
              "      <td>1</td>\n",
              "      <td>1</td>\n",
              "      <td>1</td>\n",
              "      <td>1</td>\n",
              "      <td>1</td>\n",
              "      <td>1</td>\n",
              "      <td>1</td>\n",
              "      <td>3</td>\n",
              "      <td>1</td>\n",
              "      <td>2</td>\n",
              "      <td>1</td>\n",
              "      <td>0</td>\n",
              "      <td>0</td>\n",
              "      <td>0</td>\n",
              "      <td>0</td>\n",
              "      <td>0</td>\n",
              "      <td>0</td>\n",
              "      <td>0</td>\n",
              "      <td>0</td>\n",
              "      <td>0</td>\n",
              "      <td>0</td>\n",
              "      <td>0</td>\n",
              "      <td>0</td>\n",
              "      <td>0</td>\n",
              "      <td>0</td>\n",
              "      <td>0</td>\n",
              "      <td>0</td>\n",
              "      <td>0</td>\n",
              "      <td>0</td>\n",
              "      <td>0</td>\n",
              "      <td>0</td>\n",
              "      <td>0</td>\n",
              "      <td>0</td>\n",
              "      <td>0</td>\n",
              "      <td>0</td>\n",
              "    </tr>\n",
              "  </tbody>\n",
              "</table>\n",
              "</div>\n",
              "      <button class=\"colab-df-convert\" onclick=\"convertToInteractive('df-ee84d267-c53a-4859-87a9-d8fe59d16d85')\"\n",
              "              title=\"Convert this dataframe to an interactive table.\"\n",
              "              style=\"display:none;\">\n",
              "        \n",
              "  <svg xmlns=\"http://www.w3.org/2000/svg\" height=\"24px\"viewBox=\"0 0 24 24\"\n",
              "       width=\"24px\">\n",
              "    <path d=\"M0 0h24v24H0V0z\" fill=\"none\"/>\n",
              "    <path d=\"M18.56 5.44l.94 2.06.94-2.06 2.06-.94-2.06-.94-.94-2.06-.94 2.06-2.06.94zm-11 1L8.5 8.5l.94-2.06 2.06-.94-2.06-.94L8.5 2.5l-.94 2.06-2.06.94zm10 10l.94 2.06.94-2.06 2.06-.94-2.06-.94-.94-2.06-.94 2.06-2.06.94z\"/><path d=\"M17.41 7.96l-1.37-1.37c-.4-.4-.92-.59-1.43-.59-.52 0-1.04.2-1.43.59L10.3 9.45l-7.72 7.72c-.78.78-.78 2.05 0 2.83L4 21.41c.39.39.9.59 1.41.59.51 0 1.02-.2 1.41-.59l7.78-7.78 2.81-2.81c.8-.78.8-2.07 0-2.86zM5.41 20L4 18.59l7.72-7.72 1.47 1.35L5.41 20z\"/>\n",
              "  </svg>\n",
              "      </button>\n",
              "      \n",
              "  <style>\n",
              "    .colab-df-container {\n",
              "      display:flex;\n",
              "      flex-wrap:wrap;\n",
              "      gap: 12px;\n",
              "    }\n",
              "\n",
              "    .colab-df-convert {\n",
              "      background-color: #E8F0FE;\n",
              "      border: none;\n",
              "      border-radius: 50%;\n",
              "      cursor: pointer;\n",
              "      display: none;\n",
              "      fill: #1967D2;\n",
              "      height: 32px;\n",
              "      padding: 0 0 0 0;\n",
              "      width: 32px;\n",
              "    }\n",
              "\n",
              "    .colab-df-convert:hover {\n",
              "      background-color: #E2EBFA;\n",
              "      box-shadow: 0px 1px 2px rgba(60, 64, 67, 0.3), 0px 1px 3px 1px rgba(60, 64, 67, 0.15);\n",
              "      fill: #174EA6;\n",
              "    }\n",
              "\n",
              "    [theme=dark] .colab-df-convert {\n",
              "      background-color: #3B4455;\n",
              "      fill: #D2E3FC;\n",
              "    }\n",
              "\n",
              "    [theme=dark] .colab-df-convert:hover {\n",
              "      background-color: #434B5C;\n",
              "      box-shadow: 0px 1px 3px 1px rgba(0, 0, 0, 0.15);\n",
              "      filter: drop-shadow(0px 1px 2px rgba(0, 0, 0, 0.3));\n",
              "      fill: #FFFFFF;\n",
              "    }\n",
              "  </style>\n",
              "\n",
              "      <script>\n",
              "        const buttonEl =\n",
              "          document.querySelector('#df-ee84d267-c53a-4859-87a9-d8fe59d16d85 button.colab-df-convert');\n",
              "        buttonEl.style.display =\n",
              "          google.colab.kernel.accessAllowed ? 'block' : 'none';\n",
              "\n",
              "        async function convertToInteractive(key) {\n",
              "          const element = document.querySelector('#df-ee84d267-c53a-4859-87a9-d8fe59d16d85');\n",
              "          const dataTable =\n",
              "            await google.colab.kernel.invokeFunction('convertToInteractive',\n",
              "                                                     [key], {});\n",
              "          if (!dataTable) return;\n",
              "\n",
              "          const docLinkHtml = 'Like what you see? Visit the ' +\n",
              "            '<a target=\"_blank\" href=https://colab.research.google.com/notebooks/data_table.ipynb>data table notebook</a>'\n",
              "            + ' to learn more about interactive tables.';\n",
              "          element.innerHTML = '';\n",
              "          dataTable['output_type'] = 'display_data';\n",
              "          await google.colab.output.renderOutput(dataTable, element);\n",
              "          const docLink = document.createElement('div');\n",
              "          docLink.innerHTML = docLinkHtml;\n",
              "          element.appendChild(docLink);\n",
              "        }\n",
              "      </script>\n",
              "    </div>\n",
              "  </div>\n",
              "  "
            ]
          },
          "metadata": {},
          "execution_count": 8
        }
      ]
    },
    {
      "cell_type": "code",
      "source": [
        "\n",
        "# Don't need \"Unnamed: 0\", and 'CASEID'\n",
        "df.drop(columns=['Unnamed: 0','CASEID'], inplace=True)"
      ],
      "metadata": {
        "id": "pL0r7ufIiWrO"
      },
      "execution_count": null,
      "outputs": []
    },
    {
      "cell_type": "code",
      "source": [
        "df.shape"
      ],
      "metadata": {
        "colab": {
          "base_uri": "https://localhost:8080/"
        },
        "id": "jY-UlkTRiiqR",
        "outputId": "a69350b2-2b55-45bf-9036-ab40c630ab8d"
      },
      "execution_count": null,
      "outputs": [
        {
          "output_type": "execute_result",
          "data": {
            "text/plain": [
              "(68507, 144)"
            ]
          },
          "metadata": {},
          "execution_count": 10
        }
      ]
    },
    {
      "cell_type": "markdown",
      "source": [
        "# Data Pre-Processing"
      ],
      "metadata": {
        "id": "b6F4Am0kipKZ"
      }
    },
    {
      "cell_type": "code",
      "source": [
        "# 143 ints, 1 object\n",
        "df.info()"
      ],
      "metadata": {
        "colab": {
          "base_uri": "https://localhost:8080/"
        },
        "id": "y4KxLal9yz52",
        "outputId": "c00ee4ba-b33b-4d30-85c1-29230261ee70"
      },
      "execution_count": null,
      "outputs": [
        {
          "output_type": "stream",
          "name": "stdout",
          "text": [
            "<class 'pandas.core.frame.DataFrame'>\n",
            "RangeIndex: 68507 entries, 0 to 68506\n",
            "Columns: 144 entries, SCOUNTRY to DRUDLTP\n",
            "dtypes: int64(143), object(1)\n",
            "memory usage: 75.3+ MB\n"
          ]
        }
      ]
    },
    {
      "cell_type": "code",
      "source": [
        "# Null values\n",
        "df.isnull().sum().sum()"
      ],
      "metadata": {
        "colab": {
          "base_uri": "https://localhost:8080/"
        },
        "id": "KBEQ5VGTjA6d",
        "outputId": "ebeaaab2-1409-4692-e0bf-ec2c0a52ae0d"
      },
      "execution_count": null,
      "outputs": [
        {
          "output_type": "execute_result",
          "data": {
            "text/plain": [
              "0"
            ]
          },
          "metadata": {},
          "execution_count": 12
        }
      ]
    },
    {
      "cell_type": "code",
      "source": [
        "# Missing values\n",
        "df.isna().sum().sum()"
      ],
      "metadata": {
        "colab": {
          "base_uri": "https://localhost:8080/"
        },
        "id": "NIucLc0RkUbR",
        "outputId": "ac912fbe-7bfb-4224-e1d5-70e635ce05c9"
      },
      "execution_count": null,
      "outputs": [
        {
          "output_type": "execute_result",
          "data": {
            "text/plain": [
              "0"
            ]
          },
          "metadata": {},
          "execution_count": 13
        }
      ]
    },
    {
      "cell_type": "code",
      "source": [
        "cat_col_names = []\n",
        "num_col_names = []\n",
        "\n",
        "for col in df.columns:\n",
        "  if df[col].dtype == 'object':\n",
        "    cat_col_names.append(col)\n",
        "  else:\n",
        "    num_col_names.append(col)\n",
        "\n",
        "print(cat_col_names)\n",
        "print()\n",
        "print(num_col_names)"
      ],
      "metadata": {
        "colab": {
          "base_uri": "https://localhost:8080/"
        },
        "id": "dH5Zx-7ykYbN",
        "outputId": "bc105ca7-c7cb-483e-f903-70a58a085deb"
      },
      "execution_count": null,
      "outputs": [
        {
          "output_type": "stream",
          "name": "stdout",
          "text": [
            "['SCOUNTRY']\n",
            "\n",
            "['MALE', 'AGEGROUP', 'BIRTHP', 'BIRTHPM', 'BIRTHPF', 'FAMILY', 'LANGH1', 'DISCRIM', 'WORKFATH', 'WORKMOTH', 'OWNROOM', 'COMPUSE', 'OWNMOBPH', 'FAMILCAR', 'VICROBBP', 'VICASSAP', 'VICTHEFP', 'VICBULLP', 'GETALFA', 'GETALMO', 'LEISFAM', 'DINNFAM', 'KNOWFR', 'TELLTIME', 'OBEYTIME', 'LIFEEV01', 'LIFEEV02', 'LIFEEV03', 'LIFEEV04', 'LIFEEV05', 'LIFEEV06', 'LIFEEV07', 'LIFEEV08', 'NIGHTACT', 'ACTIV01', 'ACTIV02', 'ACTIV03', 'ACTIV04', 'ACTIV05', 'ACTIV06', 'ACTIV07', 'TRANSP01', 'TRANSP02', 'TRANSP03', 'TRANSP04', 'TRANSP05', 'TRANSP06', 'TRANSP07', 'LEISSP01', 'LEISSP02', 'LEISSP03', 'LEISSP04', 'GROUPFR', 'GRPAGE01', 'GRPAGE02', 'GRPAGE03', 'GRPAGE04', 'GRPAGE05', 'GRPPUBL', 'GRPEXIST', 'GRPILLAC', 'GRPILLDO', 'GRPGANG', 'GRPGEND', 'GRPETHN', 'ETHNFRND', 'FRNDAC01', 'FRNDAC02', 'FRNDAC03', 'FRNDAC04', 'FRNDAC05', 'FRNDAC06', 'FRNDAC07', 'FRNDAC08', 'FRNDAC09', 'ATTVIO01', 'ATTVIO02', 'ATTVIO03', 'ATTVIO04', 'ATTVIO05', 'SELFC01', 'SELFC02', 'SELFC03', 'SELFC04', 'SELFC05', 'SELFC06', 'SELFC07', 'SELFC08', 'SELFC09', 'SELFC10', 'SELFC11', 'SELFC12', 'ACCIDP', 'ATTSCH', 'REPGRADE', 'TRUANCY', 'ACHIEV', 'ATSCH01', 'ATSCH02', 'ATSCH03', 'ATSCH04', 'ATSCH05', 'ATSCH06', 'ATSCH07', 'ATSCH08', 'AFTSCH', 'NHOOD01', 'NHOOD02', 'NHOOD03', 'NHOOD04', 'NHOOD05', 'NHOOD06', 'NHOOD07', 'NHOOD08', 'NHOOD09', 'NHOOD10', 'NHOOD11', 'NHOOD12', 'NHOOD13', 'DELPDR', 'DELPSL', 'DELPBU', 'DELPEX', 'DELPAS', 'BEERLTP', 'SPIRLTP', 'HASHLTP', 'XTCLTP', 'LHCLTP', 'VANDLTP', 'SHOPLTP', 'BURGLTP', 'BICTLTP', 'CARTLTP', 'DOWNLTP', 'HACKLTP', 'CARBLTP', 'SNATLTP', 'WEAPLTP', 'EXTOLTP', 'GFIGLTP', 'ASLTLTP', 'DRUDLTP']\n"
          ]
        }
      ]
    },
    {
      "cell_type": "code",
      "source": [
        "# Looking at the values for each feature\n",
        "\n",
        "for col in num_col_names:\n",
        "  print(col, '({})'.format(df[col].nunique()), \":\")\n",
        "  print(df[col].value_counts())\n",
        "  print()\n",
        "  print()"
      ],
      "metadata": {
        "colab": {
          "base_uri": "https://localhost:8080/"
        },
        "id": "xNdpANjLkj5A",
        "outputId": "66fadfc7-7d2f-4846-f16d-a10ebc552abe"
      },
      "execution_count": null,
      "outputs": [
        {
          "output_type": "stream",
          "name": "stdout",
          "text": [
            "MALE (4) :\n",
            "0    34583\n",
            "1    33758\n",
            "9      154\n",
            "7       12\n",
            "Name: MALE, dtype: int64\n",
            "\n",
            "\n",
            "AGEGROUP (5) :\n",
            "1    62672\n",
            "2     5391\n",
            "9      236\n",
            "3      153\n",
            "0       55\n",
            "Name: AGEGROUP, dtype: int64\n",
            "\n",
            "\n",
            "BIRTHP (4) :\n",
            "1    62781\n",
            "0     5354\n",
            "9      355\n",
            "7       17\n",
            "Name: BIRTHP, dtype: int64\n",
            "\n",
            "\n",
            "BIRTHPM (6) :\n",
            "1    55581\n",
            "2    11274\n",
            "3      627\n",
            "4      517\n",
            "9      491\n",
            "7       17\n",
            "Name: BIRTHPM, dtype: int64\n",
            "\n",
            "\n",
            "BIRTHPF (6) :\n",
            "1    54802\n",
            "2    11262\n",
            "4     1163\n",
            "3      684\n",
            "9      573\n",
            "7       23\n",
            "Name: BIRTHPF, dtype: int64\n",
            "\n",
            "\n",
            "FAMILY (11) :\n",
            "1     49515\n",
            "3      7988\n",
            "5      4171\n",
            "2      3338\n",
            "7      1169\n",
            "4       887\n",
            "6       566\n",
            "9       348\n",
            "8       196\n",
            "99      196\n",
            "97      133\n",
            "Name: FAMILY, dtype: int64\n",
            "\n",
            "\n",
            "LANGH1 (4) :\n",
            "1    57890\n",
            "0     6157\n",
            "9     4407\n",
            "7       53\n",
            "Name: LANGH1, dtype: int64\n",
            "\n",
            "\n",
            "DISCRIM (6) :\n",
            "1    59720\n",
            "3     4122\n",
            "2     3367\n",
            "4      880\n",
            "9      398\n",
            "7       20\n",
            "Name: DISCRIM, dtype: int64\n",
            "\n",
            "\n",
            "WORKFATH (10) :\n",
            "1     46529\n",
            "2     10521\n",
            "98     4020\n",
            "3      2172\n",
            "6      1217\n",
            "4      1165\n",
            "7       933\n",
            "99      876\n",
            "5       753\n",
            "97      321\n",
            "Name: WORKFATH, dtype: int64\n",
            "\n",
            "\n",
            "WORKMOTH (10) :\n",
            "1     43704\n",
            "6      9551\n",
            "2      4830\n",
            "3      2933\n",
            "7      2545\n",
            "4      2359\n",
            "5       905\n",
            "99      850\n",
            "98      594\n",
            "97      236\n",
            "Name: WORKMOTH, dtype: int64\n",
            "\n",
            "\n",
            "OWNROOM (4) :\n",
            "1    51556\n",
            "0    16721\n",
            "9      192\n",
            "7       38\n",
            "Name: OWNROOM, dtype: int64\n",
            "\n",
            "\n",
            "COMPUSE (4) :\n",
            "1    57416\n",
            "0    10872\n",
            "9      191\n",
            "7       28\n",
            "Name: COMPUSE, dtype: int64\n",
            "\n",
            "\n",
            "OWNMOBPH (4) :\n",
            "1    60834\n",
            "0     7468\n",
            "9      195\n",
            "7       10\n",
            "Name: OWNMOBPH, dtype: int64\n",
            "\n",
            "\n",
            "FAMILCAR (4) :\n",
            "1    59094\n",
            "0     9196\n",
            "9      191\n",
            "7       26\n",
            "Name: FAMILCAR, dtype: int64\n",
            "\n",
            "\n",
            "VICROBBP (4) :\n",
            "0    62860\n",
            "9     2962\n",
            "1     2642\n",
            "7       43\n",
            "Name: VICROBBP, dtype: int64\n",
            "\n",
            "\n",
            "VICASSAP (4) :\n",
            "0    62392\n",
            "9     3409\n",
            "1     2671\n",
            "7       35\n",
            "Name: VICASSAP, dtype: int64\n",
            "\n",
            "\n",
            "VICTHEFP (4) :\n",
            "0    52235\n",
            "1    12952\n",
            "9     3251\n",
            "7       69\n",
            "Name: VICTHEFP, dtype: int64\n",
            "\n",
            "\n",
            "VICBULLP (4) :\n",
            "0    56184\n",
            "1     9084\n",
            "9     3144\n",
            "7       95\n",
            "Name: VICBULLP, dtype: int64\n",
            "\n",
            "\n",
            "GETALFA (7) :\n",
            "4    42829\n",
            "3    15799\n",
            "8     5096\n",
            "2     3261\n",
            "1      897\n",
            "9      386\n",
            "7      239\n",
            "Name: GETALFA, dtype: int64\n",
            "\n",
            "\n",
            "GETALMO (7) :\n",
            "4    49614\n",
            "3    14707\n",
            "2     2377\n",
            "8      796\n",
            "1      524\n",
            "9      291\n",
            "7      198\n",
            "Name: GETALMO, dtype: int64\n",
            "\n",
            "\n",
            "LEISFAM (8) :\n",
            "5    22982\n",
            "6    18077\n",
            "4    12852\n",
            "3     7821\n",
            "1     4926\n",
            "2     1292\n",
            "9      307\n",
            "7      250\n",
            "Name: LEISFAM, dtype: int64\n",
            "\n",
            "\n",
            "DINNFAM (10) :\n",
            "8     42509\n",
            "6      4098\n",
            "1      3903\n",
            "4      3813\n",
            "7      3800\n",
            "3      3673\n",
            "5      3253\n",
            "2      3003\n",
            "99      284\n",
            "97      171\n",
            "Name: DINNFAM, dtype: int64\n",
            "\n",
            "\n",
            "KNOWFR (6) :\n",
            "3    38042\n",
            "2    23434\n",
            "1     3493\n",
            "8     2669\n",
            "7      636\n",
            "9      233\n",
            "Name: KNOWFR, dtype: int64\n",
            "\n",
            "\n",
            "TELLTIME (5) :\n",
            "1    46469\n",
            "8    11615\n",
            "0     9362\n",
            "7      635\n",
            "9      426\n",
            "Name: TELLTIME, dtype: int64\n",
            "\n",
            "\n",
            "OBEYTIME (7) :\n",
            " 3    24512\n",
            " 8    20436\n",
            " 2    18603\n",
            " 9     2389\n",
            " 1     1460\n",
            "-9      558\n",
            " 7      549\n",
            "Name: OBEYTIME, dtype: int64\n",
            "\n",
            "\n",
            "LIFEEV01 (4) :\n",
            "0    64512\n",
            "1     2520\n",
            "9     1423\n",
            "7       52\n",
            "Name: LIFEEV01, dtype: int64\n",
            "\n",
            "\n",
            "LIFEEV02 (4) :\n",
            "0    63746\n",
            "1     3189\n",
            "9     1476\n",
            "7       96\n",
            "Name: LIFEEV02, dtype: int64\n",
            "\n",
            "\n",
            "LIFEEV03 (4) :\n",
            "1    39800\n",
            "0    26058\n",
            "9     2505\n",
            "7      144\n",
            "Name: LIFEEV03, dtype: int64\n",
            "\n",
            "\n",
            "LIFEEV04 (4) :\n",
            "0    57831\n",
            "1     8399\n",
            "9     2191\n",
            "7       86\n",
            "Name: LIFEEV04, dtype: int64\n",
            "\n",
            "\n",
            "LIFEEV05 (4) :\n",
            "0    45281\n",
            "1    21535\n",
            "9     1611\n",
            "7       80\n",
            "Name: LIFEEV05, dtype: int64\n",
            "\n",
            "\n",
            "LIFEEV06 (4) :\n",
            "0    62112\n",
            "1     4868\n",
            "9     1481\n",
            "7       46\n",
            "Name: LIFEEV06, dtype: int64\n",
            "\n",
            "\n",
            "LIFEEV07 (4) :\n",
            "0    59496\n",
            "1     7415\n",
            "9     1506\n",
            "7       90\n",
            "Name: LIFEEV07, dtype: int64\n",
            "\n",
            "\n",
            "LIFEEV08 (4) :\n",
            "0    52744\n",
            "1    14151\n",
            "9     1555\n",
            "7       57\n",
            "Name: LIFEEV08, dtype: int64\n",
            "\n",
            "\n",
            "NIGHTACT (10) :\n",
            "1     17112\n",
            "2     15144\n",
            "3     11410\n",
            "4      8109\n",
            "8      6423\n",
            "5      4491\n",
            "6      2664\n",
            "7      1522\n",
            "97     1175\n",
            "99      457\n",
            "Name: NIGHTACT, dtype: int64\n",
            "\n",
            "\n",
            "ACTIV01 (8) :\n",
            "3    23728\n",
            "2    19377\n",
            "4    12401\n",
            "5     4593\n",
            "1     4585\n",
            "6     2526\n",
            "9      677\n",
            "7      620\n",
            "Name: ACTIV01, dtype: int64\n",
            "\n",
            "\n",
            "ACTIV02 (8) :\n",
            "1    25110\n",
            "2    21005\n",
            "3    12620\n",
            "4     4530\n",
            "6     1647\n",
            "5     1614\n",
            "9     1418\n",
            "7      563\n",
            "Name: ACTIV02, dtype: int64\n",
            "\n",
            "\n",
            "ACTIV03 (8) :\n",
            "4    17450\n",
            "6    15546\n",
            "3    14057\n",
            "5    12272\n",
            "2     5709\n",
            "1     1784\n",
            "9     1186\n",
            "7      503\n",
            "Name: ACTIV03, dtype: int64\n",
            "\n",
            "\n",
            "ACTIV04 (8) :\n",
            "1    26547\n",
            "2    26292\n",
            "3     9362\n",
            "4     2433\n",
            "9     1460\n",
            "5      945\n",
            "6      916\n",
            "7      552\n",
            "Name: ACTIV04, dtype: int64\n",
            "\n",
            "\n",
            "ACTIV05 (8) :\n",
            "6    20959\n",
            "4    12470\n",
            "5    11365\n",
            "3     9868\n",
            "1     6534\n",
            "2     5228\n",
            "9     1456\n",
            "7      627\n",
            "Name: ACTIV05, dtype: int64\n",
            "\n",
            "\n",
            "ACTIV06 (8) :\n",
            "4    15624\n",
            "3    14566\n",
            "1    12813\n",
            "2     8210\n",
            "6     8177\n",
            "5     6937\n",
            "9     1901\n",
            "7      279\n",
            "Name: ACTIV06, dtype: int64\n",
            "\n",
            "\n",
            "ACTIV07 (8) :\n",
            "1    48418\n",
            "2     7925\n",
            "3     5474\n",
            "4     2371\n",
            "6     1639\n",
            "9     1447\n",
            "5     1138\n",
            "7       95\n",
            "Name: ACTIV07, dtype: int64\n",
            "\n",
            "\n",
            "TRANSP01 (4) :\n",
            "0    61625\n",
            "1     5822\n",
            "7      704\n",
            "9      356\n",
            "Name: TRANSP01, dtype: int64\n",
            "\n",
            "\n",
            "TRANSP02 (5) :\n",
            "0    36058\n",
            "1    25749\n",
            "8     5842\n",
            "7      503\n",
            "9      355\n",
            "Name: TRANSP02, dtype: int64\n",
            "\n",
            "\n",
            "TRANSP03 (5) :\n",
            "0    35764\n",
            "1    25987\n",
            "8     5840\n",
            "7      559\n",
            "9      357\n",
            "Name: TRANSP03, dtype: int64\n",
            "\n",
            "\n",
            "TRANSP04 (5) :\n",
            "0    48690\n",
            "1    13128\n",
            "8     5847\n",
            "7      486\n",
            "9      356\n",
            "Name: TRANSP04, dtype: int64\n",
            "\n",
            "\n",
            "TRANSP05 (5) :\n",
            "0    58376\n",
            "8     5847\n",
            "1     3538\n",
            "7      389\n",
            "9      357\n",
            "Name: TRANSP05, dtype: int64\n",
            "\n",
            "\n",
            "TRANSP06 (5) :\n",
            "0    36367\n",
            "1    25442\n",
            "8     5833\n",
            "7      508\n",
            "9      357\n",
            "Name: TRANSP06, dtype: int64\n",
            "\n",
            "\n",
            "TRANSP07 (5) :\n",
            "0    56969\n",
            "8     5847\n",
            "1     4866\n",
            "7      456\n",
            "9      369\n",
            "Name: TRANSP07, dtype: int64\n",
            "\n",
            "\n",
            "LEISSP01 (4) :\n",
            "0    61375\n",
            "1     6663\n",
            "9      392\n",
            "7       77\n",
            "Name: LEISSP01, dtype: int64\n",
            "\n",
            "\n",
            "LEISSP02 (4) :\n",
            "0    41661\n",
            "1    26360\n",
            "9      388\n",
            "7       98\n",
            "Name: LEISSP02, dtype: int64\n",
            "\n",
            "\n",
            "LEISSP03 (4) :\n",
            "0    45091\n",
            "1    22929\n",
            "9      387\n",
            "7      100\n",
            "Name: LEISSP03, dtype: int64\n",
            "\n",
            "\n",
            "LEISSP04 (4) :\n",
            "0    52719\n",
            "1    15330\n",
            "9      384\n",
            "7       74\n",
            "Name: LEISSP04, dtype: int64\n",
            "\n",
            "\n",
            "GROUPFR (4) :\n",
            "1    51939\n",
            "0    15369\n",
            "9      608\n",
            "7      591\n",
            "Name: GROUPFR, dtype: int64\n",
            "\n",
            "\n",
            "GRPAGE01 (6) :\n",
            " 0    48542\n",
            " 8    14450\n",
            " 9     3836\n",
            " 1     1400\n",
            "-9      215\n",
            " 7       64\n",
            "Name: GRPAGE01, dtype: int64\n",
            "\n",
            "\n",
            "GRPAGE02 (6) :\n",
            " 1    36694\n",
            " 8    14447\n",
            " 0    13240\n",
            " 9     3835\n",
            "-9      215\n",
            " 7       76\n",
            "Name: GRPAGE02, dtype: int64\n",
            "\n",
            "\n",
            "GRPAGE03 (6) :\n",
            " 0    35396\n",
            " 1    14539\n",
            " 8    14449\n",
            " 9     3836\n",
            "-9      215\n",
            " 7       72\n",
            "Name: GRPAGE03, dtype: int64\n",
            "\n",
            "\n",
            "GRPAGE04 (6) :\n",
            " 0    47848\n",
            " 8    14449\n",
            " 9     4008\n",
            " 1     1939\n",
            "-9      215\n",
            " 7       48\n",
            "Name: GRPAGE04, dtype: int64\n",
            "\n",
            "\n",
            "GRPAGE05 (6) :\n",
            " 0    49473\n",
            " 8    14449\n",
            " 9     3836\n",
            " 1      491\n",
            "-9      215\n",
            " 7       43\n",
            "Name: GRPAGE05, dtype: int64\n",
            "\n",
            "\n",
            "GRPPUBL (6) :\n",
            " 1    34335\n",
            " 0    17276\n",
            " 8    15175\n",
            " 9     1343\n",
            "-9      215\n",
            " 7      163\n",
            "Name: GRPPUBL, dtype: int64\n",
            "\n",
            "\n",
            "GRPEXIST (10) :\n",
            " 3    24357\n",
            " 8    15186\n",
            " 2    11354\n",
            " 4     9912\n",
            " 1     3525\n",
            " 9     1710\n",
            " 5     1432\n",
            " 6      537\n",
            " 7      279\n",
            "-9      215\n",
            "Name: GRPEXIST, dtype: int64\n",
            "\n",
            "\n",
            "GRPILLAC (6) :\n",
            " 0    37497\n",
            " 8    15176\n",
            " 1    13600\n",
            " 9     1660\n",
            " 7      359\n",
            "-9      215\n",
            "Name: GRPILLAC, dtype: int64\n",
            "\n",
            "\n",
            "GRPILLDO (6) :\n",
            " 0    39786\n",
            " 8    15176\n",
            " 1    11573\n",
            " 9     1520\n",
            " 7      237\n",
            "-9      215\n",
            "Name: GRPILLDO, dtype: int64\n",
            "\n",
            "\n",
            "GRPGANG (6) :\n",
            " 0    41498\n",
            " 8    15175\n",
            " 1     9978\n",
            " 9     1464\n",
            "-9      215\n",
            " 7      177\n",
            "Name: GRPGANG, dtype: int64\n",
            "\n",
            "\n",
            "GRPGEND (7) :\n",
            " 3    29551\n",
            " 8    15166\n",
            " 1    12763\n",
            " 2     9213\n",
            " 9     1321\n",
            " 7      278\n",
            "-9      215\n",
            "Name: GRPGEND, dtype: int64\n",
            "\n",
            "\n",
            "GRPETHN (7) :\n",
            "1    30741\n",
            "2    26626\n",
            "3     6746\n",
            "4     3116\n",
            "9     1138\n",
            "7      137\n",
            "8        3\n",
            "Name: GRPETHN, dtype: int64\n",
            "\n",
            "\n",
            "ETHNFRND (5) :\n",
            "1    49972\n",
            "6    13102\n",
            "0     4704\n",
            "9      611\n",
            "7      118\n",
            "Name: ETHNFRND, dtype: int64\n",
            "\n",
            "\n",
            "FRNDAC01 (6) :\n",
            "1    35229\n",
            "2    25741\n",
            "3     4907\n",
            "4     1502\n",
            "9     1035\n",
            "7       93\n",
            "Name: FRNDAC01, dtype: int64\n",
            "\n",
            "\n",
            "FRNDAC02 (6) :\n",
            "1    58766\n",
            "2     4492\n",
            "9     2512\n",
            "3     1725\n",
            "4      946\n",
            "7       66\n",
            "Name: FRNDAC02, dtype: int64\n",
            "\n",
            "\n",
            "FRNDAC03 (6) :\n",
            "1    52999\n",
            "2     9986\n",
            "3     2716\n",
            "9     1404\n",
            "4     1286\n",
            "7      116\n",
            "Name: FRNDAC03, dtype: int64\n",
            "\n",
            "\n",
            "FRNDAC04 (6) :\n",
            "1    56766\n",
            "2     8355\n",
            "9     1280\n",
            "3     1265\n",
            "4      765\n",
            "7       76\n",
            "Name: FRNDAC04, dtype: int64\n",
            "\n",
            "\n",
            "FRNDAC05 (6) :\n",
            "1    61360\n",
            "2     3883\n",
            "9     1390\n",
            "3     1026\n",
            "4      564\n",
            "7      284\n",
            "Name: FRNDAC05, dtype: int64\n",
            "\n",
            "\n",
            "FRNDAC06 (6) :\n",
            "2    23585\n",
            "3    19378\n",
            "1    12025\n",
            "4    11918\n",
            "9     1343\n",
            "7      258\n",
            "Name: FRNDAC06, dtype: int64\n",
            "\n",
            "\n",
            "FRNDAC07 (6) :\n",
            "2    25314\n",
            "3    21638\n",
            "1    10706\n",
            "4     9049\n",
            "9     1650\n",
            "7      150\n",
            "Name: FRNDAC07, dtype: int64\n",
            "\n",
            "\n",
            "FRNDAC08 (6) :\n",
            "1    48768\n",
            "2    12814\n",
            "3     2736\n",
            "9     2442\n",
            "4     1667\n",
            "7       80\n",
            "Name: FRNDAC08, dtype: int64\n",
            "\n",
            "\n",
            "FRNDAC09 (6) :\n",
            "9    30256\n",
            "1    13097\n",
            "3    10654\n",
            "4     9188\n",
            "2     4516\n",
            "7      796\n",
            "Name: FRNDAC09, dtype: int64\n",
            "\n",
            "\n",
            "ATTVIO01 (6) :\n",
            "1    38428\n",
            "2    15560\n",
            "3     9042\n",
            "4     4350\n",
            "9      966\n",
            "7      161\n",
            "Name: ATTVIO01, dtype: int64\n",
            "\n",
            "\n",
            "ATTVIO02 (6) :\n",
            "1    41097\n",
            "2    13535\n",
            "3     8150\n",
            "4     4467\n",
            "9     1097\n",
            "7      161\n",
            "Name: ATTVIO02, dtype: int64\n",
            "\n",
            "\n",
            "ATTVIO03 (6) :\n",
            "4    24071\n",
            "3    21182\n",
            "2    12666\n",
            "1     9113\n",
            "9      994\n",
            "7      481\n",
            "Name: ATTVIO03, dtype: int64\n",
            "\n",
            "\n",
            "ATTVIO04 (6) :\n",
            "1    41996\n",
            "2    13390\n",
            "3     6477\n",
            "4     4542\n",
            "9     1994\n",
            "7      108\n",
            "Name: ATTVIO04, dtype: int64\n",
            "\n",
            "\n",
            "ATTVIO05 (6) :\n",
            "1    23498\n",
            "3    16512\n",
            "2    16160\n",
            "4    11151\n",
            "9     1067\n",
            "7      119\n",
            "Name: ATTVIO05, dtype: int64\n",
            "\n",
            "\n",
            "SELFC01 (6) :\n",
            "3    21263\n",
            "2    19894\n",
            "1    16135\n",
            "4     9883\n",
            "9     1198\n",
            "7      134\n",
            "Name: SELFC01, dtype: int64\n",
            "\n",
            "\n",
            "SELFC02 (6) :\n",
            "1    24668\n",
            "2    20271\n",
            "3    14394\n",
            "4     7713\n",
            "9     1307\n",
            "7      154\n",
            "Name: SELFC02, dtype: int64\n",
            "\n",
            "\n",
            "SELFC03 (6) :\n",
            "3    19482\n",
            "2    18311\n",
            "1    16744\n",
            "4    11831\n",
            "9     1953\n",
            "7      186\n",
            "Name: SELFC03, dtype: int64\n",
            "\n",
            "\n",
            "SELFC04 (6) :\n",
            "1    19984\n",
            "3    18842\n",
            "2    16035\n",
            "4    12122\n",
            "9     1357\n",
            "7      167\n",
            "Name: SELFC04, dtype: int64\n",
            "\n",
            "\n",
            "SELFC05 (6) :\n",
            "1    24695\n",
            "2    16943\n",
            "3    15961\n",
            "4     9329\n",
            "9     1422\n",
            "7      157\n",
            "Name: SELFC05, dtype: int64\n",
            "\n",
            "\n",
            "SELFC06 (6) :\n",
            "1    26571\n",
            "2    20779\n",
            "3    12541\n",
            "4     6882\n",
            "9     1488\n",
            "7      246\n",
            "Name: SELFC06, dtype: int64\n",
            "\n",
            "\n",
            "SELFC07 (6) :\n",
            "1    26935\n",
            "2    21337\n",
            "3    11363\n",
            "4     7281\n",
            "9     1369\n",
            "7      222\n",
            "Name: SELFC07, dtype: int64\n",
            "\n",
            "\n",
            "SELFC08 (6) :\n",
            "1    29345\n",
            "2    18179\n",
            "3    10925\n",
            "4     8446\n",
            "9     1395\n",
            "7      217\n",
            "Name: SELFC08, dtype: int64\n",
            "\n",
            "\n",
            "SELFC09 (6) :\n",
            "1    35370\n",
            "2    19700\n",
            "3     7590\n",
            "4     4218\n",
            "9     1435\n",
            "7      194\n",
            "Name: SELFC09, dtype: int64\n",
            "\n",
            "\n",
            "SELFC10 (6) :\n",
            "1    21207\n",
            "2    19798\n",
            "3    15664\n",
            "4    10059\n",
            "9     1549\n",
            "7      230\n",
            "Name: SELFC10, dtype: int64\n",
            "\n",
            "\n",
            "SELFC11 (6) :\n",
            "1    18808\n",
            "2    17661\n",
            "3    15603\n",
            "4    14775\n",
            "9     1475\n",
            "7      185\n",
            "Name: SELFC11, dtype: int64\n",
            "\n",
            "\n",
            "SELFC12 (7) :\n",
            " 3    18280\n",
            " 2    17409\n",
            " 1    16614\n",
            " 4    14807\n",
            " 9     1271\n",
            " 7      125\n",
            "-9        1\n",
            "Name: SELFC12, dtype: int64\n",
            "\n",
            "\n",
            "ACCIDP (5) :\n",
            "1    35795\n",
            "2    20490\n",
            "3    11338\n",
            "9      819\n",
            "7       65\n",
            "Name: ACCIDP, dtype: int64\n",
            "\n",
            "\n",
            "ATTSCH (6) :\n",
            "3    30486\n",
            "2    18684\n",
            "4    11224\n",
            "1     7488\n",
            "9      416\n",
            "7      209\n",
            "Name: ATTSCH, dtype: int64\n",
            "\n",
            "\n",
            "REPGRADE (5) :\n",
            "1    57312\n",
            "2     8436\n",
            "3     2343\n",
            "9      397\n",
            "7       19\n",
            "Name: REPGRADE, dtype: int64\n",
            "\n",
            "\n",
            "TRUANCY (5) :\n",
            "1    48889\n",
            "2    13241\n",
            "3     5895\n",
            "9      461\n",
            "7       21\n",
            "Name: TRUANCY, dtype: int64\n",
            "\n",
            "\n",
            "ACHIEV (5) :\n",
            "2    41641\n",
            "3    19213\n",
            "1     6719\n",
            "9      639\n",
            "7      295\n",
            "Name: ACHIEV, dtype: int64\n",
            "\n",
            "\n",
            "ATSCH01 (6) :\n",
            "4    33714\n",
            "3    19090\n",
            "1     7888\n",
            "2     6959\n",
            "9      718\n",
            "7      138\n",
            "Name: ATSCH01, dtype: int64\n",
            "\n",
            "\n",
            "ATSCH02 (6) :\n",
            "3    26141\n",
            "4    25353\n",
            "2    10337\n",
            "1     5426\n",
            "9     1097\n",
            "7      153\n",
            "Name: ATSCH02, dtype: int64\n",
            "\n",
            "\n",
            "ATSCH03 (6) :\n",
            "3    25713\n",
            "4    22297\n",
            "2    11193\n",
            "1     7656\n",
            "9     1422\n",
            "7      226\n",
            "Name: ATSCH03, dtype: int64\n",
            "\n",
            "\n",
            "ATSCH04 (6) :\n",
            "4    32911\n",
            "3    17080\n",
            "2     8607\n",
            "1     8465\n",
            "9     1236\n",
            "7      208\n",
            "Name: ATSCH04, dtype: int64\n",
            "\n",
            "\n",
            "ATSCH05 (7) :\n",
            " 2    21910\n",
            " 1    17890\n",
            " 3    16558\n",
            " 4     9291\n",
            " 9     2479\n",
            " 7      302\n",
            "-9       77\n",
            "Name: ATSCH05, dtype: int64\n",
            "\n",
            "\n",
            "ATSCH06 (7) :\n",
            " 2    22334\n",
            " 3    18469\n",
            " 1    14971\n",
            " 4    11000\n",
            " 9     1453\n",
            " 7      218\n",
            "-9       62\n",
            "Name: ATSCH06, dtype: int64\n",
            "\n",
            "\n",
            "ATSCH07 (7) :\n",
            " 2    21014\n",
            " 1    18363\n",
            " 3    16591\n",
            " 4    11052\n",
            " 9     1233\n",
            " 7      180\n",
            "-9       74\n",
            "Name: ATSCH07, dtype: int64\n",
            "\n",
            "\n",
            "ATSCH08 (7) :\n",
            " 1    40544\n",
            " 2    14837\n",
            " 3     6806\n",
            " 4     4374\n",
            " 9     1573\n",
            " 7      230\n",
            "-9      143\n",
            "Name: ATSCH08, dtype: int64\n",
            "\n",
            "\n",
            "AFTSCH (9) :\n",
            "5     31693\n",
            "96     9538\n",
            "4      8442\n",
            "1      5864\n",
            "2      4933\n",
            "99     2578\n",
            "6      2408\n",
            "3      2352\n",
            "97      699\n",
            "Name: AFTSCH, dtype: int64\n",
            "\n",
            "\n",
            "NHOOD01 (6) :\n",
            "4    36563\n",
            "3    15233\n",
            "1     8052\n",
            "2     7589\n",
            "9      930\n",
            "7      140\n",
            "Name: NHOOD01, dtype: int64\n",
            "\n",
            "\n",
            "NHOOD02 (6) :\n",
            "1    28419\n",
            "2    15730\n",
            "3    12633\n",
            "4    10292\n",
            "9     1297\n",
            "7      136\n",
            "Name: NHOOD02, dtype: int64\n",
            "\n",
            "\n",
            "NHOOD03 (6) :\n",
            "4    36266\n",
            "3    18792\n",
            "2     6754\n",
            "1     4995\n",
            "9     1476\n",
            "7      224\n",
            "Name: NHOOD03, dtype: int64\n",
            "\n",
            "\n",
            "NHOOD04 (6) :\n",
            "4    28527\n",
            "3    16242\n",
            "2    10987\n",
            "1    10981\n",
            "9     1438\n",
            "7      332\n",
            "Name: NHOOD04, dtype: int64\n",
            "\n",
            "\n",
            "NHOOD05 (6) :\n",
            "1    35999\n",
            "2    16799\n",
            "3     8601\n",
            "4     5550\n",
            "9     1335\n",
            "7      223\n",
            "Name: NHOOD05, dtype: int64\n",
            "\n",
            "\n",
            "NHOOD06 (7) :\n",
            " 1    46585\n",
            " 2    10331\n",
            " 3     5361\n",
            " 4     4581\n",
            " 9     1499\n",
            " 7      149\n",
            "-9        1\n",
            "Name: NHOOD06, dtype: int64\n",
            "\n",
            "\n",
            "NHOOD07 (6) :\n",
            "1    38939\n",
            "2    14829\n",
            "3     7743\n",
            "4     5294\n",
            "9     1500\n",
            "7      202\n",
            "Name: NHOOD07, dtype: int64\n",
            "\n",
            "\n",
            "NHOOD08 (6) :\n",
            "1    46495\n",
            "2    12093\n",
            "3     4949\n",
            "4     3315\n",
            "9     1497\n",
            "7      158\n",
            "Name: NHOOD08, dtype: int64\n",
            "\n",
            "\n",
            "NHOOD09 (6) :\n",
            "1    36461\n",
            "2    13296\n",
            "3     9195\n",
            "4     7373\n",
            "9     1919\n",
            "7      263\n",
            "Name: NHOOD09, dtype: int64\n",
            "\n",
            "\n",
            "NHOOD10 (6) :\n",
            "3    24188\n",
            "4    24091\n",
            "2    11733\n",
            "1     6635\n",
            "9     1621\n",
            "7      239\n",
            "Name: NHOOD10, dtype: int64\n",
            "\n",
            "\n",
            "NHOOD11 (6) :\n",
            "3    22008\n",
            "4    18720\n",
            "2    16501\n",
            "1     9289\n",
            "9     1724\n",
            "7      265\n",
            "Name: NHOOD11, dtype: int64\n",
            "\n",
            "\n",
            "NHOOD12 (6) :\n",
            "3    23587\n",
            "4    19221\n",
            "2    14851\n",
            "1     8793\n",
            "9     1793\n",
            "7      262\n",
            "Name: NHOOD12, dtype: int64\n",
            "\n",
            "\n",
            "NHOOD13 (6) :\n",
            "1    28912\n",
            "2    21644\n",
            "3    10897\n",
            "4     5301\n",
            "9     1567\n",
            "7      186\n",
            "Name: NHOOD13, dtype: int64\n",
            "\n",
            "\n",
            "DELPDR (4) :\n",
            "0    50544\n",
            "1    15751\n",
            "9     1488\n",
            "7      724\n",
            "Name: DELPDR, dtype: int64\n",
            "\n",
            "\n",
            "DELPSL (4) :\n",
            "0    45322\n",
            "1    20617\n",
            "9     1657\n",
            "7      911\n",
            "Name: DELPSL, dtype: int64\n",
            "\n",
            "\n",
            "DELPBU (4) :\n",
            "0    60936\n",
            "1     5490\n",
            "9     1777\n",
            "7      304\n",
            "Name: DELPBU, dtype: int64\n",
            "\n",
            "\n",
            "DELPEX (4) :\n",
            "0    62476\n",
            "1     4185\n",
            "9     1572\n",
            "7      274\n",
            "Name: DELPEX, dtype: int64\n",
            "\n",
            "\n",
            "DELPAS (4) :\n",
            "0    60087\n",
            "1     6384\n",
            "9     1648\n",
            "7      388\n",
            "Name: DELPAS, dtype: int64\n",
            "\n",
            "\n",
            "BEERLTP (4) :\n",
            "1    41486\n",
            "0    25872\n",
            "9     1126\n",
            "7       23\n",
            "Name: BEERLTP, dtype: int64\n",
            "\n",
            "\n",
            "SPIRLTP (4) :\n",
            "0    44151\n",
            "1    22810\n",
            "9     1539\n",
            "7        7\n",
            "Name: SPIRLTP, dtype: int64\n",
            "\n",
            "\n",
            "HASHLTP (4) :\n",
            "0    60986\n",
            "1     5982\n",
            "9     1534\n",
            "7        5\n",
            "Name: HASHLTP, dtype: int64\n",
            "\n",
            "\n",
            "XTCLTP (4) :\n",
            "0    65884\n",
            "9     1649\n",
            "1      969\n",
            "7        5\n",
            "Name: XTCLTP, dtype: int64\n",
            "\n",
            "\n",
            "LHCLTP (5) :\n",
            " 0    57535\n",
            "-9     5906\n",
            " 9     4406\n",
            " 1      657\n",
            " 7        3\n",
            "Name: LHCLTP, dtype: int64\n",
            "\n",
            "\n",
            "VANDLTP (4) :\n",
            "0    58565\n",
            "1     8444\n",
            "9     1492\n",
            "7        6\n",
            "Name: VANDLTP, dtype: int64\n",
            "\n",
            "\n",
            "SHOPLTP (4) :\n",
            "0    55858\n",
            "1    11169\n",
            "9     1476\n",
            "7        4\n",
            "Name: SHOPLTP, dtype: int64\n",
            "\n",
            "\n",
            "BURGLTP (4) :\n",
            "0    65728\n",
            "9     1584\n",
            "1     1192\n",
            "7        3\n",
            "Name: BURGLTP, dtype: int64\n",
            "\n",
            "\n",
            "BICTLTP (4) :\n",
            "0    64761\n",
            "1     2232\n",
            "9     1512\n",
            "7        2\n",
            "Name: BICTLTP, dtype: int64\n",
            "\n",
            "\n",
            "CARTLTP (4) :\n",
            "0    66205\n",
            "9     1619\n",
            "1      682\n",
            "7        1\n",
            "Name: CARTLTP, dtype: int64\n",
            "\n",
            "\n",
            "DOWNLTP (4) :\n",
            "1    38095\n",
            "0    28917\n",
            "9     1480\n",
            "7       15\n",
            "Name: DOWNLTP, dtype: int64\n",
            "\n",
            "\n",
            "HACKLTP (4) :\n",
            "0    61739\n",
            "1     5081\n",
            "9     1683\n",
            "7        4\n",
            "Name: HACKLTP, dtype: int64\n",
            "\n",
            "\n",
            "CARBLTP (3) :\n",
            "0    65301\n",
            "1     1660\n",
            "9     1546\n",
            "Name: CARBLTP, dtype: int64\n",
            "\n",
            "\n",
            "SNATLTP (3) :\n",
            "0    65049\n",
            "1     1760\n",
            "9     1698\n",
            "Name: SNATLTP, dtype: int64\n",
            "\n",
            "\n",
            "WEAPLTP (4) :\n",
            "0    59428\n",
            "1     7521\n",
            "9     1551\n",
            "7        7\n",
            "Name: WEAPLTP, dtype: int64\n",
            "\n",
            "\n",
            "EXTOLTP (4) :\n",
            "0    65455\n",
            "9     1710\n",
            "1     1336\n",
            "7        6\n",
            "Name: EXTOLTP, dtype: int64\n",
            "\n",
            "\n",
            "GFIGLTP (4) :\n",
            "0    54061\n",
            "1    12798\n",
            "9     1642\n",
            "7        6\n",
            "Name: GFIGLTP, dtype: int64\n",
            "\n",
            "\n",
            "ASLTLTP (4) :\n",
            "0    64571\n",
            "1     2265\n",
            "9     1666\n",
            "7        5\n",
            "Name: ASLTLTP, dtype: int64\n",
            "\n",
            "\n",
            "DRUDLTP (4) :\n",
            "0    65020\n",
            "1     1750\n",
            "9     1727\n",
            "7       10\n",
            "Name: DRUDLTP, dtype: int64\n",
            "\n",
            "\n"
          ]
        }
      ]
    },
    {
      "cell_type": "code",
      "source": [
        "# Cleaning the dataset\n",
        "# Note: some columns should retain 7,8,9. For example 'FAMILY'\n",
        "# Use METADATA to check what to drop.\n",
        "# ===== Dropping =======\n",
        "\n",
        "# 7: ambiguous answer\n",
        "# 9: no answer\n",
        "# 97: ambiguous answer\n",
        "# 98: not around\n",
        "# 99: no answer"
      ],
      "metadata": {
        "id": "z2g2QqXX3LYK"
      },
      "execution_count": null,
      "outputs": []
    },
    {
      "cell_type": "code",
      "source": [
        "# 'good' means the feature has been checked and is ready for training\n",
        "\n",
        "df = df[df['MALE'] <= 1]      # good\n",
        "df = df[df['AGEGROUP'] <= 3]  # good\n",
        "df = df[df['BIRTHP'] <= 1]    # good\n",
        "df = df[df['BIRTHPM'] <= 4]   # good\n",
        "df = df[df['BIRTHPF'] <= 4]   # good\n",
        "df = df[df['FAMILY'] <= 9]    # good\n",
        "df = df[df['LANGH1'] <= 1]    # good\n",
        "df = df[df['DISCRIM'] <= 4]   # good\n",
        "\n",
        "df = df[df['OWNROOM'] <= 1]   # good\n",
        "df = df[df['COMPUSE'] <= 1]   # good\n",
        "df = df[df['OWNMOBPH'] <= 1]  # good\n",
        "df = df[df['FAMILCAR'] <= 1]  # good\n",
        "df = df[df['VICROBBP'] <= 1]  # good\n",
        "df = df[df['VICASSAP'] <= 1]  # good\n",
        "df = df[df['VICTHEFP'] <= 1]  # good\n",
        "df = df[df['VICBULLP'] <= 1]  # good"
      ],
      "metadata": {
        "id": "EhK9GoxauXgT"
      },
      "execution_count": null,
      "outputs": []
    },
    {
      "cell_type": "code",
      "source": [
        "df = df[df['GETALFA'] <= 4]  # good\n",
        "df = df[df['GETALMO'] <= 4]  # good"
      ],
      "metadata": {
        "id": "zjZhFyi_-Lp4"
      },
      "execution_count": null,
      "outputs": []
    },
    {
      "cell_type": "code",
      "source": [
        "df = df[df['LEISFAM'] <= 6]   # good\n",
        "df = df[df['DINNFAM'] <= 8]   # good"
      ],
      "metadata": {
        "id": "Teez9rSQ10Q_"
      },
      "execution_count": null,
      "outputs": []
    },
    {
      "cell_type": "code",
      "source": [
        "df = df[df['KNOWFR'] <= 3]   # good"
      ],
      "metadata": {
        "id": "L9BAg8ua-cR9"
      },
      "execution_count": null,
      "outputs": []
    },
    {
      "cell_type": "code",
      "source": [
        "df = df[df['TELLTIME'] <= 8]   # good\n",
        "df = df[df['OBEYTIME'] <= 8]   # good"
      ],
      "metadata": {
        "id": "wuML5cGe-o0E"
      },
      "execution_count": null,
      "outputs": []
    },
    {
      "cell_type": "code",
      "source": [
        "df = df[df['LIFEEV01'] <= 1]    # good\n",
        "df = df[df['LIFEEV02'] <= 1]    # good\n",
        "df = df[df['LIFEEV05'] <= 1]    # good\n",
        "df = df[df['LIFEEV06'] <= 1]    # good\n",
        "df = df[df['LIFEEV07'] <= 1]    # good\n",
        "df = df[df['LIFEEV08'] <= 1]    # good\n",
        "df = df[df['NIGHTACT'] <= 8]    # good\n",
        "\n",
        "df = df[df['ACTIV01'] <= 6]     # good\n",
        "df = df[df['ACTIV02'] <= 6]     # good\n",
        "df = df[df['ACTIV03'] <= 6]     # good\n",
        "df = df[df['ACTIV04'] <= 6]     # good\n",
        "df = df[df['ACTIV05'] <= 6]     # good\n",
        "df = df[df['ACTIV06'] <= 6]     # good\n",
        "df = df[df['ACTIV07'] <= 6]     # good"
      ],
      "metadata": {
        "id": "_WbxoUWHxwdZ"
      },
      "execution_count": null,
      "outputs": []
    },
    {
      "cell_type": "code",
      "source": [
        "df = df[df['TRANSP01'] <= 1]    # good\n",
        "df = df[df['TRANSP02'] <= 8]    # good\n",
        "df = df[df['TRANSP03'] <= 8]    # good\n",
        "df = df[df['TRANSP04'] <= 8]    # good\n",
        "df = df[df['TRANSP05'] <= 8]    # good\n",
        "df = df[df['TRANSP06'] <= 8]    # good\n",
        "df = df[df['TRANSP07'] <= 8]    # good\n",
        "\n",
        "df = df[df['LEISSP01'] <= 1]    # good\n",
        "df = df[df['LEISSP02'] <= 1]    # good\n",
        "df = df[df['LEISSP03'] <= 1]    # good\n",
        "df = df[df['LEISSP04'] <= 1]    # good"
      ],
      "metadata": {
        "id": "BnSy4IDQ5Rir"
      },
      "execution_count": null,
      "outputs": []
    },
    {
      "cell_type": "code",
      "source": [
        "df = df[df['GROUPFR'] <= 1]     # good\n",
        "df = df[df['GRPPUBL'] <= 8]     # good"
      ],
      "metadata": {
        "id": "YhM_qN7y3oFv"
      },
      "execution_count": null,
      "outputs": []
    },
    {
      "cell_type": "code",
      "source": [
        "# Need to encode 'SCOUNTRY'\n",
        "# It's the ONLY non-numerical column\n",
        "df['SCOUNTRY'].value_counts()"
      ],
      "metadata": {
        "colab": {
          "base_uri": "https://localhost:8080/"
        },
        "id": "UgWVZRla6fCo",
        "outputId": "375d7743-1997-48b7-9f01-f0cd00bc588e"
      },
      "execution_count": null,
      "outputs": [
        {
          "output_type": "execute_result",
          "data": {
            "text/plain": [
              "Italy          3878\n",
              "Switzerland    2715\n",
              "Germany        2424\n",
              "Czech Rep.     2365\n",
              "Austria        2072\n",
              "Portugal       2013\n",
              "Armenia        1856\n",
              "France         1832\n",
              "Russia         1764\n",
              "USA            1699\n",
              "Slovenia       1643\n",
              "Cyprus         1574\n",
              "Hungary        1522\n",
              "Estonia        1461\n",
              "Lithuania      1443\n",
              "Netherlands    1433\n",
              "Sweden         1404\n",
              "Belgium        1351\n",
              "Spain          1239\n",
              "Bosnia/H.      1160\n",
              "Norway         1134\n",
              "Ireland        1068\n",
              "Poland         1023\n",
              "Finland         912\n",
              "Denmark         817\n",
              "Iceland         411\n",
              "Aruba           402\n",
              "Venezuela       317\n",
              "Name: SCOUNTRY, dtype: int64"
            ]
          },
          "metadata": {},
          "execution_count": 25
        }
      ]
    },
    {
      "cell_type": "code",
      "source": [
        "# Encode country since it's non-numeric\n",
        "le = LabelEncoder()\n",
        "\n",
        "# fit and transform the string column\n",
        "df['SCOUNTRY'] = le.fit_transform(df['SCOUNTRY'])"
      ],
      "metadata": {
        "id": "xEEFIlpLpGTQ"
      },
      "execution_count": null,
      "outputs": []
    },
    {
      "cell_type": "code",
      "source": [
        "df['SCOUNTRY'].value_counts()"
      ],
      "metadata": {
        "colab": {
          "base_uri": "https://localhost:8080/"
        },
        "id": "FfvYOpkb9CPj",
        "outputId": "527fdb6f-3a10-4f76-f1ed-fb092724e0da"
      },
      "execution_count": null,
      "outputs": [
        {
          "output_type": "execute_result",
          "data": {
            "text/plain": [
              "15    3878\n",
              "25    2715\n",
              "11    2424\n",
              "6     2365\n",
              "2     2072\n",
              "20    2013\n",
              "0     1856\n",
              "10    1832\n",
              "21    1764\n",
              "26    1699\n",
              "22    1643\n",
              "5     1574\n",
              "12    1522\n",
              "8     1461\n",
              "16    1443\n",
              "17    1433\n",
              "24    1404\n",
              "3     1351\n",
              "23    1239\n",
              "4     1160\n",
              "18    1134\n",
              "14    1068\n",
              "19    1023\n",
              "9      912\n",
              "7      817\n",
              "13     411\n",
              "1      402\n",
              "27     317\n",
              "Name: SCOUNTRY, dtype: int64"
            ]
          },
          "metadata": {},
          "execution_count": 27
        }
      ]
    },
    {
      "cell_type": "markdown",
      "source": [
        "### Delinquent Acts That Make Up Violence\n",
        "**vandltp**\tDamage something on purpose\n",
        "\n",
        "**extoltp**\tThreaten someone w/ weapon\n",
        "\n",
        "**gfigltp**\tPartake in group fight\n",
        "\n",
        "**asltltp**\tIntentionally beat up someone\n",
        "\n"
      ],
      "metadata": {
        "id": "a3cWXWsZmdNe"
      }
    },
    {
      "cell_type": "markdown",
      "source": [
        "### Feature Engineering"
      ],
      "metadata": {
        "id": "oDOYJ6YwK7gW"
      }
    },
    {
      "cell_type": "code",
      "source": [
        "# create new column 'Violence' w/ correlated deliquent acts\n",
        "df['Violence'] = (df['VANDLTP'] == 1) | (df['EXTOLTP'] == 1) | (df['GFIGLTP'] == 1 | (df['ASLTLTP'] == 1))"
      ],
      "metadata": {
        "id": "bLZPDi7N0u5o"
      },
      "execution_count": null,
      "outputs": []
    },
    {
      "cell_type": "code",
      "source": [
        "# drop deliquent columns that are NOT related to violence\n",
        "df.drop(columns=['SHOPLTP','BURGLTP','BICTLTP','CARTLTP','CARBLTP','SNATLTP','DRUDLTP','BEERLTP','SPIRLTP','HASHLTP','XTCLTP','LHCLTP','DOWNLTP','HACKLTP','WEAPLTP'], inplace=True)"
      ],
      "metadata": {
        "id": "lQ7sP60v2UYV"
      },
      "execution_count": null,
      "outputs": []
    },
    {
      "cell_type": "code",
      "source": [
        "df.shape"
      ],
      "metadata": {
        "colab": {
          "base_uri": "https://localhost:8080/"
        },
        "id": "cGk-jKCv1XHa",
        "outputId": "89bcf788-eeea-4464-ca1a-412ef35cded0"
      },
      "execution_count": null,
      "outputs": [
        {
          "output_type": "execute_result",
          "data": {
            "text/plain": [
              "(42932, 130)"
            ]
          },
          "metadata": {},
          "execution_count": 30
        }
      ]
    },
    {
      "cell_type": "code",
      "source": [
        "# Target is now binary with an imbalance that is managable\n",
        "df['Violence'].value_counts()"
      ],
      "metadata": {
        "colab": {
          "base_uri": "https://localhost:8080/"
        },
        "id": "nwcM6y8L1LHv",
        "outputId": "349a79da-15d5-448e-decf-2dd162b8962b"
      },
      "execution_count": null,
      "outputs": [
        {
          "output_type": "execute_result",
          "data": {
            "text/plain": [
              "False    32336\n",
              "True     10596\n",
              "Name: Violence, dtype: int64"
            ]
          },
          "metadata": {},
          "execution_count": 31
        }
      ]
    },
    {
      "cell_type": "code",
      "source": [
        "# Drop columns that made up 'Violence' column\n",
        "df.drop(columns=['VANDLTP','EXTOLTP','GFIGLTP','ASLTLTP'], inplace=True)\n",
        "#df = df.reset_index(drop=True)"
      ],
      "metadata": {
        "id": "iZYMi7zg5mv0"
      },
      "execution_count": null,
      "outputs": []
    },
    {
      "cell_type": "code",
      "source": [
        "df.head()"
      ],
      "metadata": {
        "colab": {
          "base_uri": "https://localhost:8080/",
          "height": 270
        },
        "id": "hq30RIRN1ttT",
        "outputId": "54191f1e-7feb-4d85-fc65-86dd57ac68bc"
      },
      "execution_count": null,
      "outputs": [
        {
          "output_type": "execute_result",
          "data": {
            "text/plain": [
              "   SCOUNTRY  MALE  AGEGROUP  BIRTHP  BIRTHPM  BIRTHPF  FAMILY  LANGH1  \\\n",
              "0        26     1         1       1        1        1       5       1   \n",
              "2        26     1         1       1        2        1       1       1   \n",
              "3        26     1         1       1        1        1       1       1   \n",
              "4        26     1         1       1        1        1       6       1   \n",
              "5        26     0         1       1        1        1       1       1   \n",
              "\n",
              "   DISCRIM  WORKFATH  WORKMOTH  OWNROOM  COMPUSE  OWNMOBPH  FAMILCAR  \\\n",
              "0        1         1         7        1        0         1         1   \n",
              "2        1         2         1        1        1         1         1   \n",
              "3        1         1         1        1        1         0         1   \n",
              "4        1         3         6        1        1         0         1   \n",
              "5        1         1         1        1        1         1         1   \n",
              "\n",
              "   VICROBBP  VICASSAP  VICTHEFP  VICBULLP  GETALFA  GETALMO  LEISFAM  DINNFAM  \\\n",
              "0         0         0         1         0        4        4        5        5   \n",
              "2         0         0         0         0        3        4        4        3   \n",
              "3         0         0         0         0        3        4        6        4   \n",
              "4         0         0         0         0        4        4        6        8   \n",
              "5         0         0         0         0        4        4        6        5   \n",
              "\n",
              "   KNOWFR  TELLTIME  OBEYTIME  LIFEEV01  LIFEEV02  LIFEEV03  LIFEEV04  \\\n",
              "0       2         1         2         0         0         1         0   \n",
              "2       2         1         2         0         0         1         0   \n",
              "3       2         1         2         0         0         1         0   \n",
              "4       3         1         3         0         0         0         0   \n",
              "5       3         1         3         0         0         0         0   \n",
              "\n",
              "   LIFEEV05  LIFEEV06  LIFEEV07  LIFEEV08  NIGHTACT  ACTIV01  ACTIV02  \\\n",
              "0         1         1         0         1         8        2        1   \n",
              "2         0         0         0         0         8        6        1   \n",
              "3         0         0         0         0         8        4        1   \n",
              "4         0         0         0         0         3        3        2   \n",
              "5         0         0         0         0         3        5        6   \n",
              "\n",
              "   ACTIV03  ACTIV04  ACTIV05  ACTIV06  ACTIV07  TRANSP01  TRANSP02  TRANSP03  \\\n",
              "0        5        1        6        6        1         0         0         0   \n",
              "2        5        1        6        5        1         0         0         1   \n",
              "3        5        1        4        3        1         0         1         1   \n",
              "4        2        1        1        4        1         0         1         1   \n",
              "5        3        2        6        6        1         0         0         1   \n",
              "\n",
              "   TRANSP04  TRANSP05  TRANSP06  TRANSP07  LEISSP01  LEISSP02  LEISSP03  \\\n",
              "0         1         0         0         0         0         0         1   \n",
              "2         0         0         0         0         0         0         0   \n",
              "3         1         0         0         0         0         0         0   \n",
              "4         1         0         0         0         1         0         0   \n",
              "5         0         0         0         0         0         0         1   \n",
              "\n",
              "   LEISSP04  GROUPFR  GRPAGE01  GRPAGE02  GRPAGE03  GRPAGE04  GRPAGE05  \\\n",
              "0         1        1         0         1         1         0         0   \n",
              "2         1        1         0         1         0         0         0   \n",
              "3         1        1         0         1         0         0         0   \n",
              "4         0        1         0         1         0         0         0   \n",
              "5         0        0         8         8         8         8         8   \n",
              "\n",
              "   GRPPUBL  GRPEXIST  GRPILLAC  GRPILLDO  GRPGANG  GRPGEND  GRPETHN  ETHNFRND  \\\n",
              "0        1         3         1         1        7        3        2         6   \n",
              "2        1         3         0         0        0        3        1         1   \n",
              "3        1         3         0         0        0        3        1         1   \n",
              "4        0         3         0         0        0        1        1         1   \n",
              "5        8         8         8         8        8        8        2         1   \n",
              "\n",
              "   FRNDAC01  FRNDAC02  FRNDAC03  FRNDAC04  FRNDAC05  FRNDAC06  FRNDAC07  \\\n",
              "0         1         1         2         2         2         3         2   \n",
              "2         1         1         1         1         1         3         3   \n",
              "3         2         1         1         1         1         2         2   \n",
              "4         1         1         1         1         1         4         2   \n",
              "5         1         1         1         1         1         4         9   \n",
              "\n",
              "   FRNDAC08  FRNDAC09  ATTVIO01  ATTVIO02  ATTVIO03  ATTVIO04  ATTVIO05  \\\n",
              "0         9         9         3         1         4         4         4   \n",
              "2         1         9         3         2         4         2         3   \n",
              "3         1         9         3         2         4         2         3   \n",
              "4         1         7         2         1         4         1         1   \n",
              "5         1         4         1         1         3         1         2   \n",
              "\n",
              "   SELFC01  SELFC02  SELFC03  SELFC04  SELFC05  SELFC06  SELFC07  SELFC08  \\\n",
              "0        3        3        3        4        4        3        2        2   \n",
              "2        3        2        2        4        4        4        3        1   \n",
              "3        3        2        2        4        4        4        2        1   \n",
              "4        1        1        3        3        2        3        1        1   \n",
              "5        2        1        1        2        3        3        1        1   \n",
              "\n",
              "   SELFC09  SELFC10  SELFC11  SELFC12  ACCIDP  ATTSCH  REPGRADE  TRUANCY  \\\n",
              "0        2        2        2        2       7       1         1        2   \n",
              "2        3        1        4        1       3       1         1        1   \n",
              "3        3        1        4        1       3       3         1        1   \n",
              "4        1        3        1        1       1       3         1        1   \n",
              "5        1        1        1        1       1       2         1        1   \n",
              "\n",
              "   ACHIEV  ATSCH01  ATSCH02  ATSCH03  ATSCH04  ATSCH05  ATSCH06  ATSCH07  \\\n",
              "0       2        2        3        1        4        3        3        3   \n",
              "2       2        1        3        1        2        3        3        1   \n",
              "3       2        2        1        3        4        3        3        3   \n",
              "4       3        4        2        3        3        1        1        1   \n",
              "5       2        3        4        3        4        2        2        2   \n",
              "\n",
              "   ATSCH08  AFTSCH  NHOOD01  NHOOD02  NHOOD03  NHOOD04  NHOOD05  NHOOD06  \\\n",
              "0        3       4        3        2        4        3        3        3   \n",
              "2        4      99        9        9        9        9        9        9   \n",
              "3        3      99        9        9        9        9        9        9   \n",
              "4        1       5        3        1        1        1        1        1   \n",
              "5        2       5        4        1        4        3        2        1   \n",
              "\n",
              "   NHOOD07  NHOOD08  NHOOD09  NHOOD10  NHOOD11  NHOOD12  NHOOD13  DELPDR  \\\n",
              "0        3        2        3        3        3        4        2       1   \n",
              "2        9        9        9        9        9        9        9       9   \n",
              "3        9        9        9        9        9        9        9       9   \n",
              "4        1        1        1        3        1        2        1       0   \n",
              "5        1        1        1        4        2        2        1       0   \n",
              "\n",
              "   DELPSL  DELPBU  DELPEX  DELPAS  Violence  \n",
              "0       1       1       1       1      True  \n",
              "2       9       9       9       9     False  \n",
              "3       9       9       9       9     False  \n",
              "4       0       0       0       0     False  \n",
              "5       0       0       0       0     False  "
            ],
            "text/html": [
              "\n",
              "  <div id=\"df-46c28b74-828c-4da5-9c72-0dde74c1fd05\">\n",
              "    <div class=\"colab-df-container\">\n",
              "      <div>\n",
              "<style scoped>\n",
              "    .dataframe tbody tr th:only-of-type {\n",
              "        vertical-align: middle;\n",
              "    }\n",
              "\n",
              "    .dataframe tbody tr th {\n",
              "        vertical-align: top;\n",
              "    }\n",
              "\n",
              "    .dataframe thead th {\n",
              "        text-align: right;\n",
              "    }\n",
              "</style>\n",
              "<table border=\"1\" class=\"dataframe\">\n",
              "  <thead>\n",
              "    <tr style=\"text-align: right;\">\n",
              "      <th></th>\n",
              "      <th>SCOUNTRY</th>\n",
              "      <th>MALE</th>\n",
              "      <th>AGEGROUP</th>\n",
              "      <th>BIRTHP</th>\n",
              "      <th>BIRTHPM</th>\n",
              "      <th>BIRTHPF</th>\n",
              "      <th>FAMILY</th>\n",
              "      <th>LANGH1</th>\n",
              "      <th>DISCRIM</th>\n",
              "      <th>WORKFATH</th>\n",
              "      <th>WORKMOTH</th>\n",
              "      <th>OWNROOM</th>\n",
              "      <th>COMPUSE</th>\n",
              "      <th>OWNMOBPH</th>\n",
              "      <th>FAMILCAR</th>\n",
              "      <th>VICROBBP</th>\n",
              "      <th>VICASSAP</th>\n",
              "      <th>VICTHEFP</th>\n",
              "      <th>VICBULLP</th>\n",
              "      <th>GETALFA</th>\n",
              "      <th>GETALMO</th>\n",
              "      <th>LEISFAM</th>\n",
              "      <th>DINNFAM</th>\n",
              "      <th>KNOWFR</th>\n",
              "      <th>TELLTIME</th>\n",
              "      <th>OBEYTIME</th>\n",
              "      <th>LIFEEV01</th>\n",
              "      <th>LIFEEV02</th>\n",
              "      <th>LIFEEV03</th>\n",
              "      <th>LIFEEV04</th>\n",
              "      <th>LIFEEV05</th>\n",
              "      <th>LIFEEV06</th>\n",
              "      <th>LIFEEV07</th>\n",
              "      <th>LIFEEV08</th>\n",
              "      <th>NIGHTACT</th>\n",
              "      <th>ACTIV01</th>\n",
              "      <th>ACTIV02</th>\n",
              "      <th>ACTIV03</th>\n",
              "      <th>ACTIV04</th>\n",
              "      <th>ACTIV05</th>\n",
              "      <th>ACTIV06</th>\n",
              "      <th>ACTIV07</th>\n",
              "      <th>TRANSP01</th>\n",
              "      <th>TRANSP02</th>\n",
              "      <th>TRANSP03</th>\n",
              "      <th>TRANSP04</th>\n",
              "      <th>TRANSP05</th>\n",
              "      <th>TRANSP06</th>\n",
              "      <th>TRANSP07</th>\n",
              "      <th>LEISSP01</th>\n",
              "      <th>LEISSP02</th>\n",
              "      <th>LEISSP03</th>\n",
              "      <th>LEISSP04</th>\n",
              "      <th>GROUPFR</th>\n",
              "      <th>GRPAGE01</th>\n",
              "      <th>GRPAGE02</th>\n",
              "      <th>GRPAGE03</th>\n",
              "      <th>GRPAGE04</th>\n",
              "      <th>GRPAGE05</th>\n",
              "      <th>GRPPUBL</th>\n",
              "      <th>GRPEXIST</th>\n",
              "      <th>GRPILLAC</th>\n",
              "      <th>GRPILLDO</th>\n",
              "      <th>GRPGANG</th>\n",
              "      <th>GRPGEND</th>\n",
              "      <th>GRPETHN</th>\n",
              "      <th>ETHNFRND</th>\n",
              "      <th>FRNDAC01</th>\n",
              "      <th>FRNDAC02</th>\n",
              "      <th>FRNDAC03</th>\n",
              "      <th>FRNDAC04</th>\n",
              "      <th>FRNDAC05</th>\n",
              "      <th>FRNDAC06</th>\n",
              "      <th>FRNDAC07</th>\n",
              "      <th>FRNDAC08</th>\n",
              "      <th>FRNDAC09</th>\n",
              "      <th>ATTVIO01</th>\n",
              "      <th>ATTVIO02</th>\n",
              "      <th>ATTVIO03</th>\n",
              "      <th>ATTVIO04</th>\n",
              "      <th>ATTVIO05</th>\n",
              "      <th>SELFC01</th>\n",
              "      <th>SELFC02</th>\n",
              "      <th>SELFC03</th>\n",
              "      <th>SELFC04</th>\n",
              "      <th>SELFC05</th>\n",
              "      <th>SELFC06</th>\n",
              "      <th>SELFC07</th>\n",
              "      <th>SELFC08</th>\n",
              "      <th>SELFC09</th>\n",
              "      <th>SELFC10</th>\n",
              "      <th>SELFC11</th>\n",
              "      <th>SELFC12</th>\n",
              "      <th>ACCIDP</th>\n",
              "      <th>ATTSCH</th>\n",
              "      <th>REPGRADE</th>\n",
              "      <th>TRUANCY</th>\n",
              "      <th>ACHIEV</th>\n",
              "      <th>ATSCH01</th>\n",
              "      <th>ATSCH02</th>\n",
              "      <th>ATSCH03</th>\n",
              "      <th>ATSCH04</th>\n",
              "      <th>ATSCH05</th>\n",
              "      <th>ATSCH06</th>\n",
              "      <th>ATSCH07</th>\n",
              "      <th>ATSCH08</th>\n",
              "      <th>AFTSCH</th>\n",
              "      <th>NHOOD01</th>\n",
              "      <th>NHOOD02</th>\n",
              "      <th>NHOOD03</th>\n",
              "      <th>NHOOD04</th>\n",
              "      <th>NHOOD05</th>\n",
              "      <th>NHOOD06</th>\n",
              "      <th>NHOOD07</th>\n",
              "      <th>NHOOD08</th>\n",
              "      <th>NHOOD09</th>\n",
              "      <th>NHOOD10</th>\n",
              "      <th>NHOOD11</th>\n",
              "      <th>NHOOD12</th>\n",
              "      <th>NHOOD13</th>\n",
              "      <th>DELPDR</th>\n",
              "      <th>DELPSL</th>\n",
              "      <th>DELPBU</th>\n",
              "      <th>DELPEX</th>\n",
              "      <th>DELPAS</th>\n",
              "      <th>Violence</th>\n",
              "    </tr>\n",
              "  </thead>\n",
              "  <tbody>\n",
              "    <tr>\n",
              "      <th>0</th>\n",
              "      <td>26</td>\n",
              "      <td>1</td>\n",
              "      <td>1</td>\n",
              "      <td>1</td>\n",
              "      <td>1</td>\n",
              "      <td>1</td>\n",
              "      <td>5</td>\n",
              "      <td>1</td>\n",
              "      <td>1</td>\n",
              "      <td>1</td>\n",
              "      <td>7</td>\n",
              "      <td>1</td>\n",
              "      <td>0</td>\n",
              "      <td>1</td>\n",
              "      <td>1</td>\n",
              "      <td>0</td>\n",
              "      <td>0</td>\n",
              "      <td>1</td>\n",
              "      <td>0</td>\n",
              "      <td>4</td>\n",
              "      <td>4</td>\n",
              "      <td>5</td>\n",
              "      <td>5</td>\n",
              "      <td>2</td>\n",
              "      <td>1</td>\n",
              "      <td>2</td>\n",
              "      <td>0</td>\n",
              "      <td>0</td>\n",
              "      <td>1</td>\n",
              "      <td>0</td>\n",
              "      <td>1</td>\n",
              "      <td>1</td>\n",
              "      <td>0</td>\n",
              "      <td>1</td>\n",
              "      <td>8</td>\n",
              "      <td>2</td>\n",
              "      <td>1</td>\n",
              "      <td>5</td>\n",
              "      <td>1</td>\n",
              "      <td>6</td>\n",
              "      <td>6</td>\n",
              "      <td>1</td>\n",
              "      <td>0</td>\n",
              "      <td>0</td>\n",
              "      <td>0</td>\n",
              "      <td>1</td>\n",
              "      <td>0</td>\n",
              "      <td>0</td>\n",
              "      <td>0</td>\n",
              "      <td>0</td>\n",
              "      <td>0</td>\n",
              "      <td>1</td>\n",
              "      <td>1</td>\n",
              "      <td>1</td>\n",
              "      <td>0</td>\n",
              "      <td>1</td>\n",
              "      <td>1</td>\n",
              "      <td>0</td>\n",
              "      <td>0</td>\n",
              "      <td>1</td>\n",
              "      <td>3</td>\n",
              "      <td>1</td>\n",
              "      <td>1</td>\n",
              "      <td>7</td>\n",
              "      <td>3</td>\n",
              "      <td>2</td>\n",
              "      <td>6</td>\n",
              "      <td>1</td>\n",
              "      <td>1</td>\n",
              "      <td>2</td>\n",
              "      <td>2</td>\n",
              "      <td>2</td>\n",
              "      <td>3</td>\n",
              "      <td>2</td>\n",
              "      <td>9</td>\n",
              "      <td>9</td>\n",
              "      <td>3</td>\n",
              "      <td>1</td>\n",
              "      <td>4</td>\n",
              "      <td>4</td>\n",
              "      <td>4</td>\n",
              "      <td>3</td>\n",
              "      <td>3</td>\n",
              "      <td>3</td>\n",
              "      <td>4</td>\n",
              "      <td>4</td>\n",
              "      <td>3</td>\n",
              "      <td>2</td>\n",
              "      <td>2</td>\n",
              "      <td>2</td>\n",
              "      <td>2</td>\n",
              "      <td>2</td>\n",
              "      <td>2</td>\n",
              "      <td>7</td>\n",
              "      <td>1</td>\n",
              "      <td>1</td>\n",
              "      <td>2</td>\n",
              "      <td>2</td>\n",
              "      <td>2</td>\n",
              "      <td>3</td>\n",
              "      <td>1</td>\n",
              "      <td>4</td>\n",
              "      <td>3</td>\n",
              "      <td>3</td>\n",
              "      <td>3</td>\n",
              "      <td>3</td>\n",
              "      <td>4</td>\n",
              "      <td>3</td>\n",
              "      <td>2</td>\n",
              "      <td>4</td>\n",
              "      <td>3</td>\n",
              "      <td>3</td>\n",
              "      <td>3</td>\n",
              "      <td>3</td>\n",
              "      <td>2</td>\n",
              "      <td>3</td>\n",
              "      <td>3</td>\n",
              "      <td>3</td>\n",
              "      <td>4</td>\n",
              "      <td>2</td>\n",
              "      <td>1</td>\n",
              "      <td>1</td>\n",
              "      <td>1</td>\n",
              "      <td>1</td>\n",
              "      <td>1</td>\n",
              "      <td>True</td>\n",
              "    </tr>\n",
              "    <tr>\n",
              "      <th>2</th>\n",
              "      <td>26</td>\n",
              "      <td>1</td>\n",
              "      <td>1</td>\n",
              "      <td>1</td>\n",
              "      <td>2</td>\n",
              "      <td>1</td>\n",
              "      <td>1</td>\n",
              "      <td>1</td>\n",
              "      <td>1</td>\n",
              "      <td>2</td>\n",
              "      <td>1</td>\n",
              "      <td>1</td>\n",
              "      <td>1</td>\n",
              "      <td>1</td>\n",
              "      <td>1</td>\n",
              "      <td>0</td>\n",
              "      <td>0</td>\n",
              "      <td>0</td>\n",
              "      <td>0</td>\n",
              "      <td>3</td>\n",
              "      <td>4</td>\n",
              "      <td>4</td>\n",
              "      <td>3</td>\n",
              "      <td>2</td>\n",
              "      <td>1</td>\n",
              "      <td>2</td>\n",
              "      <td>0</td>\n",
              "      <td>0</td>\n",
              "      <td>1</td>\n",
              "      <td>0</td>\n",
              "      <td>0</td>\n",
              "      <td>0</td>\n",
              "      <td>0</td>\n",
              "      <td>0</td>\n",
              "      <td>8</td>\n",
              "      <td>6</td>\n",
              "      <td>1</td>\n",
              "      <td>5</td>\n",
              "      <td>1</td>\n",
              "      <td>6</td>\n",
              "      <td>5</td>\n",
              "      <td>1</td>\n",
              "      <td>0</td>\n",
              "      <td>0</td>\n",
              "      <td>1</td>\n",
              "      <td>0</td>\n",
              "      <td>0</td>\n",
              "      <td>0</td>\n",
              "      <td>0</td>\n",
              "      <td>0</td>\n",
              "      <td>0</td>\n",
              "      <td>0</td>\n",
              "      <td>1</td>\n",
              "      <td>1</td>\n",
              "      <td>0</td>\n",
              "      <td>1</td>\n",
              "      <td>0</td>\n",
              "      <td>0</td>\n",
              "      <td>0</td>\n",
              "      <td>1</td>\n",
              "      <td>3</td>\n",
              "      <td>0</td>\n",
              "      <td>0</td>\n",
              "      <td>0</td>\n",
              "      <td>3</td>\n",
              "      <td>1</td>\n",
              "      <td>1</td>\n",
              "      <td>1</td>\n",
              "      <td>1</td>\n",
              "      <td>1</td>\n",
              "      <td>1</td>\n",
              "      <td>1</td>\n",
              "      <td>3</td>\n",
              "      <td>3</td>\n",
              "      <td>1</td>\n",
              "      <td>9</td>\n",
              "      <td>3</td>\n",
              "      <td>2</td>\n",
              "      <td>4</td>\n",
              "      <td>2</td>\n",
              "      <td>3</td>\n",
              "      <td>3</td>\n",
              "      <td>2</td>\n",
              "      <td>2</td>\n",
              "      <td>4</td>\n",
              "      <td>4</td>\n",
              "      <td>4</td>\n",
              "      <td>3</td>\n",
              "      <td>1</td>\n",
              "      <td>3</td>\n",
              "      <td>1</td>\n",
              "      <td>4</td>\n",
              "      <td>1</td>\n",
              "      <td>3</td>\n",
              "      <td>1</td>\n",
              "      <td>1</td>\n",
              "      <td>1</td>\n",
              "      <td>2</td>\n",
              "      <td>1</td>\n",
              "      <td>3</td>\n",
              "      <td>1</td>\n",
              "      <td>2</td>\n",
              "      <td>3</td>\n",
              "      <td>3</td>\n",
              "      <td>1</td>\n",
              "      <td>4</td>\n",
              "      <td>99</td>\n",
              "      <td>9</td>\n",
              "      <td>9</td>\n",
              "      <td>9</td>\n",
              "      <td>9</td>\n",
              "      <td>9</td>\n",
              "      <td>9</td>\n",
              "      <td>9</td>\n",
              "      <td>9</td>\n",
              "      <td>9</td>\n",
              "      <td>9</td>\n",
              "      <td>9</td>\n",
              "      <td>9</td>\n",
              "      <td>9</td>\n",
              "      <td>9</td>\n",
              "      <td>9</td>\n",
              "      <td>9</td>\n",
              "      <td>9</td>\n",
              "      <td>9</td>\n",
              "      <td>False</td>\n",
              "    </tr>\n",
              "    <tr>\n",
              "      <th>3</th>\n",
              "      <td>26</td>\n",
              "      <td>1</td>\n",
              "      <td>1</td>\n",
              "      <td>1</td>\n",
              "      <td>1</td>\n",
              "      <td>1</td>\n",
              "      <td>1</td>\n",
              "      <td>1</td>\n",
              "      <td>1</td>\n",
              "      <td>1</td>\n",
              "      <td>1</td>\n",
              "      <td>1</td>\n",
              "      <td>1</td>\n",
              "      <td>0</td>\n",
              "      <td>1</td>\n",
              "      <td>0</td>\n",
              "      <td>0</td>\n",
              "      <td>0</td>\n",
              "      <td>0</td>\n",
              "      <td>3</td>\n",
              "      <td>4</td>\n",
              "      <td>6</td>\n",
              "      <td>4</td>\n",
              "      <td>2</td>\n",
              "      <td>1</td>\n",
              "      <td>2</td>\n",
              "      <td>0</td>\n",
              "      <td>0</td>\n",
              "      <td>1</td>\n",
              "      <td>0</td>\n",
              "      <td>0</td>\n",
              "      <td>0</td>\n",
              "      <td>0</td>\n",
              "      <td>0</td>\n",
              "      <td>8</td>\n",
              "      <td>4</td>\n",
              "      <td>1</td>\n",
              "      <td>5</td>\n",
              "      <td>1</td>\n",
              "      <td>4</td>\n",
              "      <td>3</td>\n",
              "      <td>1</td>\n",
              "      <td>0</td>\n",
              "      <td>1</td>\n",
              "      <td>1</td>\n",
              "      <td>1</td>\n",
              "      <td>0</td>\n",
              "      <td>0</td>\n",
              "      <td>0</td>\n",
              "      <td>0</td>\n",
              "      <td>0</td>\n",
              "      <td>0</td>\n",
              "      <td>1</td>\n",
              "      <td>1</td>\n",
              "      <td>0</td>\n",
              "      <td>1</td>\n",
              "      <td>0</td>\n",
              "      <td>0</td>\n",
              "      <td>0</td>\n",
              "      <td>1</td>\n",
              "      <td>3</td>\n",
              "      <td>0</td>\n",
              "      <td>0</td>\n",
              "      <td>0</td>\n",
              "      <td>3</td>\n",
              "      <td>1</td>\n",
              "      <td>1</td>\n",
              "      <td>2</td>\n",
              "      <td>1</td>\n",
              "      <td>1</td>\n",
              "      <td>1</td>\n",
              "      <td>1</td>\n",
              "      <td>2</td>\n",
              "      <td>2</td>\n",
              "      <td>1</td>\n",
              "      <td>9</td>\n",
              "      <td>3</td>\n",
              "      <td>2</td>\n",
              "      <td>4</td>\n",
              "      <td>2</td>\n",
              "      <td>3</td>\n",
              "      <td>3</td>\n",
              "      <td>2</td>\n",
              "      <td>2</td>\n",
              "      <td>4</td>\n",
              "      <td>4</td>\n",
              "      <td>4</td>\n",
              "      <td>2</td>\n",
              "      <td>1</td>\n",
              "      <td>3</td>\n",
              "      <td>1</td>\n",
              "      <td>4</td>\n",
              "      <td>1</td>\n",
              "      <td>3</td>\n",
              "      <td>3</td>\n",
              "      <td>1</td>\n",
              "      <td>1</td>\n",
              "      <td>2</td>\n",
              "      <td>2</td>\n",
              "      <td>1</td>\n",
              "      <td>3</td>\n",
              "      <td>4</td>\n",
              "      <td>3</td>\n",
              "      <td>3</td>\n",
              "      <td>3</td>\n",
              "      <td>3</td>\n",
              "      <td>99</td>\n",
              "      <td>9</td>\n",
              "      <td>9</td>\n",
              "      <td>9</td>\n",
              "      <td>9</td>\n",
              "      <td>9</td>\n",
              "      <td>9</td>\n",
              "      <td>9</td>\n",
              "      <td>9</td>\n",
              "      <td>9</td>\n",
              "      <td>9</td>\n",
              "      <td>9</td>\n",
              "      <td>9</td>\n",
              "      <td>9</td>\n",
              "      <td>9</td>\n",
              "      <td>9</td>\n",
              "      <td>9</td>\n",
              "      <td>9</td>\n",
              "      <td>9</td>\n",
              "      <td>False</td>\n",
              "    </tr>\n",
              "    <tr>\n",
              "      <th>4</th>\n",
              "      <td>26</td>\n",
              "      <td>1</td>\n",
              "      <td>1</td>\n",
              "      <td>1</td>\n",
              "      <td>1</td>\n",
              "      <td>1</td>\n",
              "      <td>6</td>\n",
              "      <td>1</td>\n",
              "      <td>1</td>\n",
              "      <td>3</td>\n",
              "      <td>6</td>\n",
              "      <td>1</td>\n",
              "      <td>1</td>\n",
              "      <td>0</td>\n",
              "      <td>1</td>\n",
              "      <td>0</td>\n",
              "      <td>0</td>\n",
              "      <td>0</td>\n",
              "      <td>0</td>\n",
              "      <td>4</td>\n",
              "      <td>4</td>\n",
              "      <td>6</td>\n",
              "      <td>8</td>\n",
              "      <td>3</td>\n",
              "      <td>1</td>\n",
              "      <td>3</td>\n",
              "      <td>0</td>\n",
              "      <td>0</td>\n",
              "      <td>0</td>\n",
              "      <td>0</td>\n",
              "      <td>0</td>\n",
              "      <td>0</td>\n",
              "      <td>0</td>\n",
              "      <td>0</td>\n",
              "      <td>3</td>\n",
              "      <td>3</td>\n",
              "      <td>2</td>\n",
              "      <td>2</td>\n",
              "      <td>1</td>\n",
              "      <td>1</td>\n",
              "      <td>4</td>\n",
              "      <td>1</td>\n",
              "      <td>0</td>\n",
              "      <td>1</td>\n",
              "      <td>1</td>\n",
              "      <td>1</td>\n",
              "      <td>0</td>\n",
              "      <td>0</td>\n",
              "      <td>0</td>\n",
              "      <td>1</td>\n",
              "      <td>0</td>\n",
              "      <td>0</td>\n",
              "      <td>0</td>\n",
              "      <td>1</td>\n",
              "      <td>0</td>\n",
              "      <td>1</td>\n",
              "      <td>0</td>\n",
              "      <td>0</td>\n",
              "      <td>0</td>\n",
              "      <td>0</td>\n",
              "      <td>3</td>\n",
              "      <td>0</td>\n",
              "      <td>0</td>\n",
              "      <td>0</td>\n",
              "      <td>1</td>\n",
              "      <td>1</td>\n",
              "      <td>1</td>\n",
              "      <td>1</td>\n",
              "      <td>1</td>\n",
              "      <td>1</td>\n",
              "      <td>1</td>\n",
              "      <td>1</td>\n",
              "      <td>4</td>\n",
              "      <td>2</td>\n",
              "      <td>1</td>\n",
              "      <td>7</td>\n",
              "      <td>2</td>\n",
              "      <td>1</td>\n",
              "      <td>4</td>\n",
              "      <td>1</td>\n",
              "      <td>1</td>\n",
              "      <td>1</td>\n",
              "      <td>1</td>\n",
              "      <td>3</td>\n",
              "      <td>3</td>\n",
              "      <td>2</td>\n",
              "      <td>3</td>\n",
              "      <td>1</td>\n",
              "      <td>1</td>\n",
              "      <td>1</td>\n",
              "      <td>3</td>\n",
              "      <td>1</td>\n",
              "      <td>1</td>\n",
              "      <td>1</td>\n",
              "      <td>3</td>\n",
              "      <td>1</td>\n",
              "      <td>1</td>\n",
              "      <td>3</td>\n",
              "      <td>4</td>\n",
              "      <td>2</td>\n",
              "      <td>3</td>\n",
              "      <td>3</td>\n",
              "      <td>1</td>\n",
              "      <td>1</td>\n",
              "      <td>1</td>\n",
              "      <td>1</td>\n",
              "      <td>5</td>\n",
              "      <td>3</td>\n",
              "      <td>1</td>\n",
              "      <td>1</td>\n",
              "      <td>1</td>\n",
              "      <td>1</td>\n",
              "      <td>1</td>\n",
              "      <td>1</td>\n",
              "      <td>1</td>\n",
              "      <td>1</td>\n",
              "      <td>3</td>\n",
              "      <td>1</td>\n",
              "      <td>2</td>\n",
              "      <td>1</td>\n",
              "      <td>0</td>\n",
              "      <td>0</td>\n",
              "      <td>0</td>\n",
              "      <td>0</td>\n",
              "      <td>0</td>\n",
              "      <td>False</td>\n",
              "    </tr>\n",
              "    <tr>\n",
              "      <th>5</th>\n",
              "      <td>26</td>\n",
              "      <td>0</td>\n",
              "      <td>1</td>\n",
              "      <td>1</td>\n",
              "      <td>1</td>\n",
              "      <td>1</td>\n",
              "      <td>1</td>\n",
              "      <td>1</td>\n",
              "      <td>1</td>\n",
              "      <td>1</td>\n",
              "      <td>1</td>\n",
              "      <td>1</td>\n",
              "      <td>1</td>\n",
              "      <td>1</td>\n",
              "      <td>1</td>\n",
              "      <td>0</td>\n",
              "      <td>0</td>\n",
              "      <td>0</td>\n",
              "      <td>0</td>\n",
              "      <td>4</td>\n",
              "      <td>4</td>\n",
              "      <td>6</td>\n",
              "      <td>5</td>\n",
              "      <td>3</td>\n",
              "      <td>1</td>\n",
              "      <td>3</td>\n",
              "      <td>0</td>\n",
              "      <td>0</td>\n",
              "      <td>0</td>\n",
              "      <td>0</td>\n",
              "      <td>0</td>\n",
              "      <td>0</td>\n",
              "      <td>0</td>\n",
              "      <td>0</td>\n",
              "      <td>3</td>\n",
              "      <td>5</td>\n",
              "      <td>6</td>\n",
              "      <td>3</td>\n",
              "      <td>2</td>\n",
              "      <td>6</td>\n",
              "      <td>6</td>\n",
              "      <td>1</td>\n",
              "      <td>0</td>\n",
              "      <td>0</td>\n",
              "      <td>1</td>\n",
              "      <td>0</td>\n",
              "      <td>0</td>\n",
              "      <td>0</td>\n",
              "      <td>0</td>\n",
              "      <td>0</td>\n",
              "      <td>0</td>\n",
              "      <td>1</td>\n",
              "      <td>0</td>\n",
              "      <td>0</td>\n",
              "      <td>8</td>\n",
              "      <td>8</td>\n",
              "      <td>8</td>\n",
              "      <td>8</td>\n",
              "      <td>8</td>\n",
              "      <td>8</td>\n",
              "      <td>8</td>\n",
              "      <td>8</td>\n",
              "      <td>8</td>\n",
              "      <td>8</td>\n",
              "      <td>8</td>\n",
              "      <td>2</td>\n",
              "      <td>1</td>\n",
              "      <td>1</td>\n",
              "      <td>1</td>\n",
              "      <td>1</td>\n",
              "      <td>1</td>\n",
              "      <td>1</td>\n",
              "      <td>4</td>\n",
              "      <td>9</td>\n",
              "      <td>1</td>\n",
              "      <td>4</td>\n",
              "      <td>1</td>\n",
              "      <td>1</td>\n",
              "      <td>3</td>\n",
              "      <td>1</td>\n",
              "      <td>2</td>\n",
              "      <td>2</td>\n",
              "      <td>1</td>\n",
              "      <td>1</td>\n",
              "      <td>2</td>\n",
              "      <td>3</td>\n",
              "      <td>3</td>\n",
              "      <td>1</td>\n",
              "      <td>1</td>\n",
              "      <td>1</td>\n",
              "      <td>1</td>\n",
              "      <td>1</td>\n",
              "      <td>1</td>\n",
              "      <td>1</td>\n",
              "      <td>2</td>\n",
              "      <td>1</td>\n",
              "      <td>1</td>\n",
              "      <td>2</td>\n",
              "      <td>3</td>\n",
              "      <td>4</td>\n",
              "      <td>3</td>\n",
              "      <td>4</td>\n",
              "      <td>2</td>\n",
              "      <td>2</td>\n",
              "      <td>2</td>\n",
              "      <td>2</td>\n",
              "      <td>5</td>\n",
              "      <td>4</td>\n",
              "      <td>1</td>\n",
              "      <td>4</td>\n",
              "      <td>3</td>\n",
              "      <td>2</td>\n",
              "      <td>1</td>\n",
              "      <td>1</td>\n",
              "      <td>1</td>\n",
              "      <td>1</td>\n",
              "      <td>4</td>\n",
              "      <td>2</td>\n",
              "      <td>2</td>\n",
              "      <td>1</td>\n",
              "      <td>0</td>\n",
              "      <td>0</td>\n",
              "      <td>0</td>\n",
              "      <td>0</td>\n",
              "      <td>0</td>\n",
              "      <td>False</td>\n",
              "    </tr>\n",
              "  </tbody>\n",
              "</table>\n",
              "</div>\n",
              "      <button class=\"colab-df-convert\" onclick=\"convertToInteractive('df-46c28b74-828c-4da5-9c72-0dde74c1fd05')\"\n",
              "              title=\"Convert this dataframe to an interactive table.\"\n",
              "              style=\"display:none;\">\n",
              "        \n",
              "  <svg xmlns=\"http://www.w3.org/2000/svg\" height=\"24px\"viewBox=\"0 0 24 24\"\n",
              "       width=\"24px\">\n",
              "    <path d=\"M0 0h24v24H0V0z\" fill=\"none\"/>\n",
              "    <path d=\"M18.56 5.44l.94 2.06.94-2.06 2.06-.94-2.06-.94-.94-2.06-.94 2.06-2.06.94zm-11 1L8.5 8.5l.94-2.06 2.06-.94-2.06-.94L8.5 2.5l-.94 2.06-2.06.94zm10 10l.94 2.06.94-2.06 2.06-.94-2.06-.94-.94-2.06-.94 2.06-2.06.94z\"/><path d=\"M17.41 7.96l-1.37-1.37c-.4-.4-.92-.59-1.43-.59-.52 0-1.04.2-1.43.59L10.3 9.45l-7.72 7.72c-.78.78-.78 2.05 0 2.83L4 21.41c.39.39.9.59 1.41.59.51 0 1.02-.2 1.41-.59l7.78-7.78 2.81-2.81c.8-.78.8-2.07 0-2.86zM5.41 20L4 18.59l7.72-7.72 1.47 1.35L5.41 20z\"/>\n",
              "  </svg>\n",
              "      </button>\n",
              "      \n",
              "  <style>\n",
              "    .colab-df-container {\n",
              "      display:flex;\n",
              "      flex-wrap:wrap;\n",
              "      gap: 12px;\n",
              "    }\n",
              "\n",
              "    .colab-df-convert {\n",
              "      background-color: #E8F0FE;\n",
              "      border: none;\n",
              "      border-radius: 50%;\n",
              "      cursor: pointer;\n",
              "      display: none;\n",
              "      fill: #1967D2;\n",
              "      height: 32px;\n",
              "      padding: 0 0 0 0;\n",
              "      width: 32px;\n",
              "    }\n",
              "\n",
              "    .colab-df-convert:hover {\n",
              "      background-color: #E2EBFA;\n",
              "      box-shadow: 0px 1px 2px rgba(60, 64, 67, 0.3), 0px 1px 3px 1px rgba(60, 64, 67, 0.15);\n",
              "      fill: #174EA6;\n",
              "    }\n",
              "\n",
              "    [theme=dark] .colab-df-convert {\n",
              "      background-color: #3B4455;\n",
              "      fill: #D2E3FC;\n",
              "    }\n",
              "\n",
              "    [theme=dark] .colab-df-convert:hover {\n",
              "      background-color: #434B5C;\n",
              "      box-shadow: 0px 1px 3px 1px rgba(0, 0, 0, 0.15);\n",
              "      filter: drop-shadow(0px 1px 2px rgba(0, 0, 0, 0.3));\n",
              "      fill: #FFFFFF;\n",
              "    }\n",
              "  </style>\n",
              "\n",
              "      <script>\n",
              "        const buttonEl =\n",
              "          document.querySelector('#df-46c28b74-828c-4da5-9c72-0dde74c1fd05 button.colab-df-convert');\n",
              "        buttonEl.style.display =\n",
              "          google.colab.kernel.accessAllowed ? 'block' : 'none';\n",
              "\n",
              "        async function convertToInteractive(key) {\n",
              "          const element = document.querySelector('#df-46c28b74-828c-4da5-9c72-0dde74c1fd05');\n",
              "          const dataTable =\n",
              "            await google.colab.kernel.invokeFunction('convertToInteractive',\n",
              "                                                     [key], {});\n",
              "          if (!dataTable) return;\n",
              "\n",
              "          const docLinkHtml = 'Like what you see? Visit the ' +\n",
              "            '<a target=\"_blank\" href=https://colab.research.google.com/notebooks/data_table.ipynb>data table notebook</a>'\n",
              "            + ' to learn more about interactive tables.';\n",
              "          element.innerHTML = '';\n",
              "          dataTable['output_type'] = 'display_data';\n",
              "          await google.colab.output.renderOutput(dataTable, element);\n",
              "          const docLink = document.createElement('div');\n",
              "          docLink.innerHTML = docLinkHtml;\n",
              "          element.appendChild(docLink);\n",
              "        }\n",
              "      </script>\n",
              "    </div>\n",
              "  </div>\n",
              "  "
            ]
          },
          "metadata": {},
          "execution_count": 33
        }
      ]
    },
    {
      "cell_type": "markdown",
      "source": [
        "# Data Prepartion"
      ],
      "metadata": {
        "id": "flSOh79kMIxy"
      }
    },
    {
      "cell_type": "markdown",
      "source": [
        "### Define Input and Target Data"
      ],
      "metadata": {
        "id": "FeL-ZgzotfYf"
      }
    },
    {
      "cell_type": "code",
      "source": [
        "# Define input features as X\n",
        "X = df.drop('Violence', axis=1)"
      ],
      "metadata": {
        "id": "QotTJBdMCAiC"
      },
      "execution_count": null,
      "outputs": []
    },
    {
      "cell_type": "code",
      "source": [
        "X.head()"
      ],
      "metadata": {
        "colab": {
          "base_uri": "https://localhost:8080/",
          "height": 270
        },
        "id": "SnZdrDkyCEEz",
        "outputId": "c1f900cf-4441-497e-cdbb-d08eafe1d37c"
      },
      "execution_count": null,
      "outputs": [
        {
          "output_type": "execute_result",
          "data": {
            "text/plain": [
              "   SCOUNTRY  MALE  AGEGROUP  BIRTHP  BIRTHPM  BIRTHPF  FAMILY  LANGH1  \\\n",
              "0        26     1         1       1        1        1       5       1   \n",
              "2        26     1         1       1        2        1       1       1   \n",
              "3        26     1         1       1        1        1       1       1   \n",
              "4        26     1         1       1        1        1       6       1   \n",
              "5        26     0         1       1        1        1       1       1   \n",
              "\n",
              "   DISCRIM  WORKFATH  WORKMOTH  OWNROOM  COMPUSE  OWNMOBPH  FAMILCAR  \\\n",
              "0        1         1         7        1        0         1         1   \n",
              "2        1         2         1        1        1         1         1   \n",
              "3        1         1         1        1        1         0         1   \n",
              "4        1         3         6        1        1         0         1   \n",
              "5        1         1         1        1        1         1         1   \n",
              "\n",
              "   VICROBBP  VICASSAP  VICTHEFP  VICBULLP  GETALFA  GETALMO  LEISFAM  DINNFAM  \\\n",
              "0         0         0         1         0        4        4        5        5   \n",
              "2         0         0         0         0        3        4        4        3   \n",
              "3         0         0         0         0        3        4        6        4   \n",
              "4         0         0         0         0        4        4        6        8   \n",
              "5         0         0         0         0        4        4        6        5   \n",
              "\n",
              "   KNOWFR  TELLTIME  OBEYTIME  LIFEEV01  LIFEEV02  LIFEEV03  LIFEEV04  \\\n",
              "0       2         1         2         0         0         1         0   \n",
              "2       2         1         2         0         0         1         0   \n",
              "3       2         1         2         0         0         1         0   \n",
              "4       3         1         3         0         0         0         0   \n",
              "5       3         1         3         0         0         0         0   \n",
              "\n",
              "   LIFEEV05  LIFEEV06  LIFEEV07  LIFEEV08  NIGHTACT  ACTIV01  ACTIV02  \\\n",
              "0         1         1         0         1         8        2        1   \n",
              "2         0         0         0         0         8        6        1   \n",
              "3         0         0         0         0         8        4        1   \n",
              "4         0         0         0         0         3        3        2   \n",
              "5         0         0         0         0         3        5        6   \n",
              "\n",
              "   ACTIV03  ACTIV04  ACTIV05  ACTIV06  ACTIV07  TRANSP01  TRANSP02  TRANSP03  \\\n",
              "0        5        1        6        6        1         0         0         0   \n",
              "2        5        1        6        5        1         0         0         1   \n",
              "3        5        1        4        3        1         0         1         1   \n",
              "4        2        1        1        4        1         0         1         1   \n",
              "5        3        2        6        6        1         0         0         1   \n",
              "\n",
              "   TRANSP04  TRANSP05  TRANSP06  TRANSP07  LEISSP01  LEISSP02  LEISSP03  \\\n",
              "0         1         0         0         0         0         0         1   \n",
              "2         0         0         0         0         0         0         0   \n",
              "3         1         0         0         0         0         0         0   \n",
              "4         1         0         0         0         1         0         0   \n",
              "5         0         0         0         0         0         0         1   \n",
              "\n",
              "   LEISSP04  GROUPFR  GRPAGE01  GRPAGE02  GRPAGE03  GRPAGE04  GRPAGE05  \\\n",
              "0         1        1         0         1         1         0         0   \n",
              "2         1        1         0         1         0         0         0   \n",
              "3         1        1         0         1         0         0         0   \n",
              "4         0        1         0         1         0         0         0   \n",
              "5         0        0         8         8         8         8         8   \n",
              "\n",
              "   GRPPUBL  GRPEXIST  GRPILLAC  GRPILLDO  GRPGANG  GRPGEND  GRPETHN  ETHNFRND  \\\n",
              "0        1         3         1         1        7        3        2         6   \n",
              "2        1         3         0         0        0        3        1         1   \n",
              "3        1         3         0         0        0        3        1         1   \n",
              "4        0         3         0         0        0        1        1         1   \n",
              "5        8         8         8         8        8        8        2         1   \n",
              "\n",
              "   FRNDAC01  FRNDAC02  FRNDAC03  FRNDAC04  FRNDAC05  FRNDAC06  FRNDAC07  \\\n",
              "0         1         1         2         2         2         3         2   \n",
              "2         1         1         1         1         1         3         3   \n",
              "3         2         1         1         1         1         2         2   \n",
              "4         1         1         1         1         1         4         2   \n",
              "5         1         1         1         1         1         4         9   \n",
              "\n",
              "   FRNDAC08  FRNDAC09  ATTVIO01  ATTVIO02  ATTVIO03  ATTVIO04  ATTVIO05  \\\n",
              "0         9         9         3         1         4         4         4   \n",
              "2         1         9         3         2         4         2         3   \n",
              "3         1         9         3         2         4         2         3   \n",
              "4         1         7         2         1         4         1         1   \n",
              "5         1         4         1         1         3         1         2   \n",
              "\n",
              "   SELFC01  SELFC02  SELFC03  SELFC04  SELFC05  SELFC06  SELFC07  SELFC08  \\\n",
              "0        3        3        3        4        4        3        2        2   \n",
              "2        3        2        2        4        4        4        3        1   \n",
              "3        3        2        2        4        4        4        2        1   \n",
              "4        1        1        3        3        2        3        1        1   \n",
              "5        2        1        1        2        3        3        1        1   \n",
              "\n",
              "   SELFC09  SELFC10  SELFC11  SELFC12  ACCIDP  ATTSCH  REPGRADE  TRUANCY  \\\n",
              "0        2        2        2        2       7       1         1        2   \n",
              "2        3        1        4        1       3       1         1        1   \n",
              "3        3        1        4        1       3       3         1        1   \n",
              "4        1        3        1        1       1       3         1        1   \n",
              "5        1        1        1        1       1       2         1        1   \n",
              "\n",
              "   ACHIEV  ATSCH01  ATSCH02  ATSCH03  ATSCH04  ATSCH05  ATSCH06  ATSCH07  \\\n",
              "0       2        2        3        1        4        3        3        3   \n",
              "2       2        1        3        1        2        3        3        1   \n",
              "3       2        2        1        3        4        3        3        3   \n",
              "4       3        4        2        3        3        1        1        1   \n",
              "5       2        3        4        3        4        2        2        2   \n",
              "\n",
              "   ATSCH08  AFTSCH  NHOOD01  NHOOD02  NHOOD03  NHOOD04  NHOOD05  NHOOD06  \\\n",
              "0        3       4        3        2        4        3        3        3   \n",
              "2        4      99        9        9        9        9        9        9   \n",
              "3        3      99        9        9        9        9        9        9   \n",
              "4        1       5        3        1        1        1        1        1   \n",
              "5        2       5        4        1        4        3        2        1   \n",
              "\n",
              "   NHOOD07  NHOOD08  NHOOD09  NHOOD10  NHOOD11  NHOOD12  NHOOD13  DELPDR  \\\n",
              "0        3        2        3        3        3        4        2       1   \n",
              "2        9        9        9        9        9        9        9       9   \n",
              "3        9        9        9        9        9        9        9       9   \n",
              "4        1        1        1        3        1        2        1       0   \n",
              "5        1        1        1        4        2        2        1       0   \n",
              "\n",
              "   DELPSL  DELPBU  DELPEX  DELPAS  \n",
              "0       1       1       1       1  \n",
              "2       9       9       9       9  \n",
              "3       9       9       9       9  \n",
              "4       0       0       0       0  \n",
              "5       0       0       0       0  "
            ],
            "text/html": [
              "\n",
              "  <div id=\"df-5c3cdee4-c2e8-47a8-91b4-dc495ee72f6d\">\n",
              "    <div class=\"colab-df-container\">\n",
              "      <div>\n",
              "<style scoped>\n",
              "    .dataframe tbody tr th:only-of-type {\n",
              "        vertical-align: middle;\n",
              "    }\n",
              "\n",
              "    .dataframe tbody tr th {\n",
              "        vertical-align: top;\n",
              "    }\n",
              "\n",
              "    .dataframe thead th {\n",
              "        text-align: right;\n",
              "    }\n",
              "</style>\n",
              "<table border=\"1\" class=\"dataframe\">\n",
              "  <thead>\n",
              "    <tr style=\"text-align: right;\">\n",
              "      <th></th>\n",
              "      <th>SCOUNTRY</th>\n",
              "      <th>MALE</th>\n",
              "      <th>AGEGROUP</th>\n",
              "      <th>BIRTHP</th>\n",
              "      <th>BIRTHPM</th>\n",
              "      <th>BIRTHPF</th>\n",
              "      <th>FAMILY</th>\n",
              "      <th>LANGH1</th>\n",
              "      <th>DISCRIM</th>\n",
              "      <th>WORKFATH</th>\n",
              "      <th>WORKMOTH</th>\n",
              "      <th>OWNROOM</th>\n",
              "      <th>COMPUSE</th>\n",
              "      <th>OWNMOBPH</th>\n",
              "      <th>FAMILCAR</th>\n",
              "      <th>VICROBBP</th>\n",
              "      <th>VICASSAP</th>\n",
              "      <th>VICTHEFP</th>\n",
              "      <th>VICBULLP</th>\n",
              "      <th>GETALFA</th>\n",
              "      <th>GETALMO</th>\n",
              "      <th>LEISFAM</th>\n",
              "      <th>DINNFAM</th>\n",
              "      <th>KNOWFR</th>\n",
              "      <th>TELLTIME</th>\n",
              "      <th>OBEYTIME</th>\n",
              "      <th>LIFEEV01</th>\n",
              "      <th>LIFEEV02</th>\n",
              "      <th>LIFEEV03</th>\n",
              "      <th>LIFEEV04</th>\n",
              "      <th>LIFEEV05</th>\n",
              "      <th>LIFEEV06</th>\n",
              "      <th>LIFEEV07</th>\n",
              "      <th>LIFEEV08</th>\n",
              "      <th>NIGHTACT</th>\n",
              "      <th>ACTIV01</th>\n",
              "      <th>ACTIV02</th>\n",
              "      <th>ACTIV03</th>\n",
              "      <th>ACTIV04</th>\n",
              "      <th>ACTIV05</th>\n",
              "      <th>ACTIV06</th>\n",
              "      <th>ACTIV07</th>\n",
              "      <th>TRANSP01</th>\n",
              "      <th>TRANSP02</th>\n",
              "      <th>TRANSP03</th>\n",
              "      <th>TRANSP04</th>\n",
              "      <th>TRANSP05</th>\n",
              "      <th>TRANSP06</th>\n",
              "      <th>TRANSP07</th>\n",
              "      <th>LEISSP01</th>\n",
              "      <th>LEISSP02</th>\n",
              "      <th>LEISSP03</th>\n",
              "      <th>LEISSP04</th>\n",
              "      <th>GROUPFR</th>\n",
              "      <th>GRPAGE01</th>\n",
              "      <th>GRPAGE02</th>\n",
              "      <th>GRPAGE03</th>\n",
              "      <th>GRPAGE04</th>\n",
              "      <th>GRPAGE05</th>\n",
              "      <th>GRPPUBL</th>\n",
              "      <th>GRPEXIST</th>\n",
              "      <th>GRPILLAC</th>\n",
              "      <th>GRPILLDO</th>\n",
              "      <th>GRPGANG</th>\n",
              "      <th>GRPGEND</th>\n",
              "      <th>GRPETHN</th>\n",
              "      <th>ETHNFRND</th>\n",
              "      <th>FRNDAC01</th>\n",
              "      <th>FRNDAC02</th>\n",
              "      <th>FRNDAC03</th>\n",
              "      <th>FRNDAC04</th>\n",
              "      <th>FRNDAC05</th>\n",
              "      <th>FRNDAC06</th>\n",
              "      <th>FRNDAC07</th>\n",
              "      <th>FRNDAC08</th>\n",
              "      <th>FRNDAC09</th>\n",
              "      <th>ATTVIO01</th>\n",
              "      <th>ATTVIO02</th>\n",
              "      <th>ATTVIO03</th>\n",
              "      <th>ATTVIO04</th>\n",
              "      <th>ATTVIO05</th>\n",
              "      <th>SELFC01</th>\n",
              "      <th>SELFC02</th>\n",
              "      <th>SELFC03</th>\n",
              "      <th>SELFC04</th>\n",
              "      <th>SELFC05</th>\n",
              "      <th>SELFC06</th>\n",
              "      <th>SELFC07</th>\n",
              "      <th>SELFC08</th>\n",
              "      <th>SELFC09</th>\n",
              "      <th>SELFC10</th>\n",
              "      <th>SELFC11</th>\n",
              "      <th>SELFC12</th>\n",
              "      <th>ACCIDP</th>\n",
              "      <th>ATTSCH</th>\n",
              "      <th>REPGRADE</th>\n",
              "      <th>TRUANCY</th>\n",
              "      <th>ACHIEV</th>\n",
              "      <th>ATSCH01</th>\n",
              "      <th>ATSCH02</th>\n",
              "      <th>ATSCH03</th>\n",
              "      <th>ATSCH04</th>\n",
              "      <th>ATSCH05</th>\n",
              "      <th>ATSCH06</th>\n",
              "      <th>ATSCH07</th>\n",
              "      <th>ATSCH08</th>\n",
              "      <th>AFTSCH</th>\n",
              "      <th>NHOOD01</th>\n",
              "      <th>NHOOD02</th>\n",
              "      <th>NHOOD03</th>\n",
              "      <th>NHOOD04</th>\n",
              "      <th>NHOOD05</th>\n",
              "      <th>NHOOD06</th>\n",
              "      <th>NHOOD07</th>\n",
              "      <th>NHOOD08</th>\n",
              "      <th>NHOOD09</th>\n",
              "      <th>NHOOD10</th>\n",
              "      <th>NHOOD11</th>\n",
              "      <th>NHOOD12</th>\n",
              "      <th>NHOOD13</th>\n",
              "      <th>DELPDR</th>\n",
              "      <th>DELPSL</th>\n",
              "      <th>DELPBU</th>\n",
              "      <th>DELPEX</th>\n",
              "      <th>DELPAS</th>\n",
              "    </tr>\n",
              "  </thead>\n",
              "  <tbody>\n",
              "    <tr>\n",
              "      <th>0</th>\n",
              "      <td>26</td>\n",
              "      <td>1</td>\n",
              "      <td>1</td>\n",
              "      <td>1</td>\n",
              "      <td>1</td>\n",
              "      <td>1</td>\n",
              "      <td>5</td>\n",
              "      <td>1</td>\n",
              "      <td>1</td>\n",
              "      <td>1</td>\n",
              "      <td>7</td>\n",
              "      <td>1</td>\n",
              "      <td>0</td>\n",
              "      <td>1</td>\n",
              "      <td>1</td>\n",
              "      <td>0</td>\n",
              "      <td>0</td>\n",
              "      <td>1</td>\n",
              "      <td>0</td>\n",
              "      <td>4</td>\n",
              "      <td>4</td>\n",
              "      <td>5</td>\n",
              "      <td>5</td>\n",
              "      <td>2</td>\n",
              "      <td>1</td>\n",
              "      <td>2</td>\n",
              "      <td>0</td>\n",
              "      <td>0</td>\n",
              "      <td>1</td>\n",
              "      <td>0</td>\n",
              "      <td>1</td>\n",
              "      <td>1</td>\n",
              "      <td>0</td>\n",
              "      <td>1</td>\n",
              "      <td>8</td>\n",
              "      <td>2</td>\n",
              "      <td>1</td>\n",
              "      <td>5</td>\n",
              "      <td>1</td>\n",
              "      <td>6</td>\n",
              "      <td>6</td>\n",
              "      <td>1</td>\n",
              "      <td>0</td>\n",
              "      <td>0</td>\n",
              "      <td>0</td>\n",
              "      <td>1</td>\n",
              "      <td>0</td>\n",
              "      <td>0</td>\n",
              "      <td>0</td>\n",
              "      <td>0</td>\n",
              "      <td>0</td>\n",
              "      <td>1</td>\n",
              "      <td>1</td>\n",
              "      <td>1</td>\n",
              "      <td>0</td>\n",
              "      <td>1</td>\n",
              "      <td>1</td>\n",
              "      <td>0</td>\n",
              "      <td>0</td>\n",
              "      <td>1</td>\n",
              "      <td>3</td>\n",
              "      <td>1</td>\n",
              "      <td>1</td>\n",
              "      <td>7</td>\n",
              "      <td>3</td>\n",
              "      <td>2</td>\n",
              "      <td>6</td>\n",
              "      <td>1</td>\n",
              "      <td>1</td>\n",
              "      <td>2</td>\n",
              "      <td>2</td>\n",
              "      <td>2</td>\n",
              "      <td>3</td>\n",
              "      <td>2</td>\n",
              "      <td>9</td>\n",
              "      <td>9</td>\n",
              "      <td>3</td>\n",
              "      <td>1</td>\n",
              "      <td>4</td>\n",
              "      <td>4</td>\n",
              "      <td>4</td>\n",
              "      <td>3</td>\n",
              "      <td>3</td>\n",
              "      <td>3</td>\n",
              "      <td>4</td>\n",
              "      <td>4</td>\n",
              "      <td>3</td>\n",
              "      <td>2</td>\n",
              "      <td>2</td>\n",
              "      <td>2</td>\n",
              "      <td>2</td>\n",
              "      <td>2</td>\n",
              "      <td>2</td>\n",
              "      <td>7</td>\n",
              "      <td>1</td>\n",
              "      <td>1</td>\n",
              "      <td>2</td>\n",
              "      <td>2</td>\n",
              "      <td>2</td>\n",
              "      <td>3</td>\n",
              "      <td>1</td>\n",
              "      <td>4</td>\n",
              "      <td>3</td>\n",
              "      <td>3</td>\n",
              "      <td>3</td>\n",
              "      <td>3</td>\n",
              "      <td>4</td>\n",
              "      <td>3</td>\n",
              "      <td>2</td>\n",
              "      <td>4</td>\n",
              "      <td>3</td>\n",
              "      <td>3</td>\n",
              "      <td>3</td>\n",
              "      <td>3</td>\n",
              "      <td>2</td>\n",
              "      <td>3</td>\n",
              "      <td>3</td>\n",
              "      <td>3</td>\n",
              "      <td>4</td>\n",
              "      <td>2</td>\n",
              "      <td>1</td>\n",
              "      <td>1</td>\n",
              "      <td>1</td>\n",
              "      <td>1</td>\n",
              "      <td>1</td>\n",
              "    </tr>\n",
              "    <tr>\n",
              "      <th>2</th>\n",
              "      <td>26</td>\n",
              "      <td>1</td>\n",
              "      <td>1</td>\n",
              "      <td>1</td>\n",
              "      <td>2</td>\n",
              "      <td>1</td>\n",
              "      <td>1</td>\n",
              "      <td>1</td>\n",
              "      <td>1</td>\n",
              "      <td>2</td>\n",
              "      <td>1</td>\n",
              "      <td>1</td>\n",
              "      <td>1</td>\n",
              "      <td>1</td>\n",
              "      <td>1</td>\n",
              "      <td>0</td>\n",
              "      <td>0</td>\n",
              "      <td>0</td>\n",
              "      <td>0</td>\n",
              "      <td>3</td>\n",
              "      <td>4</td>\n",
              "      <td>4</td>\n",
              "      <td>3</td>\n",
              "      <td>2</td>\n",
              "      <td>1</td>\n",
              "      <td>2</td>\n",
              "      <td>0</td>\n",
              "      <td>0</td>\n",
              "      <td>1</td>\n",
              "      <td>0</td>\n",
              "      <td>0</td>\n",
              "      <td>0</td>\n",
              "      <td>0</td>\n",
              "      <td>0</td>\n",
              "      <td>8</td>\n",
              "      <td>6</td>\n",
              "      <td>1</td>\n",
              "      <td>5</td>\n",
              "      <td>1</td>\n",
              "      <td>6</td>\n",
              "      <td>5</td>\n",
              "      <td>1</td>\n",
              "      <td>0</td>\n",
              "      <td>0</td>\n",
              "      <td>1</td>\n",
              "      <td>0</td>\n",
              "      <td>0</td>\n",
              "      <td>0</td>\n",
              "      <td>0</td>\n",
              "      <td>0</td>\n",
              "      <td>0</td>\n",
              "      <td>0</td>\n",
              "      <td>1</td>\n",
              "      <td>1</td>\n",
              "      <td>0</td>\n",
              "      <td>1</td>\n",
              "      <td>0</td>\n",
              "      <td>0</td>\n",
              "      <td>0</td>\n",
              "      <td>1</td>\n",
              "      <td>3</td>\n",
              "      <td>0</td>\n",
              "      <td>0</td>\n",
              "      <td>0</td>\n",
              "      <td>3</td>\n",
              "      <td>1</td>\n",
              "      <td>1</td>\n",
              "      <td>1</td>\n",
              "      <td>1</td>\n",
              "      <td>1</td>\n",
              "      <td>1</td>\n",
              "      <td>1</td>\n",
              "      <td>3</td>\n",
              "      <td>3</td>\n",
              "      <td>1</td>\n",
              "      <td>9</td>\n",
              "      <td>3</td>\n",
              "      <td>2</td>\n",
              "      <td>4</td>\n",
              "      <td>2</td>\n",
              "      <td>3</td>\n",
              "      <td>3</td>\n",
              "      <td>2</td>\n",
              "      <td>2</td>\n",
              "      <td>4</td>\n",
              "      <td>4</td>\n",
              "      <td>4</td>\n",
              "      <td>3</td>\n",
              "      <td>1</td>\n",
              "      <td>3</td>\n",
              "      <td>1</td>\n",
              "      <td>4</td>\n",
              "      <td>1</td>\n",
              "      <td>3</td>\n",
              "      <td>1</td>\n",
              "      <td>1</td>\n",
              "      <td>1</td>\n",
              "      <td>2</td>\n",
              "      <td>1</td>\n",
              "      <td>3</td>\n",
              "      <td>1</td>\n",
              "      <td>2</td>\n",
              "      <td>3</td>\n",
              "      <td>3</td>\n",
              "      <td>1</td>\n",
              "      <td>4</td>\n",
              "      <td>99</td>\n",
              "      <td>9</td>\n",
              "      <td>9</td>\n",
              "      <td>9</td>\n",
              "      <td>9</td>\n",
              "      <td>9</td>\n",
              "      <td>9</td>\n",
              "      <td>9</td>\n",
              "      <td>9</td>\n",
              "      <td>9</td>\n",
              "      <td>9</td>\n",
              "      <td>9</td>\n",
              "      <td>9</td>\n",
              "      <td>9</td>\n",
              "      <td>9</td>\n",
              "      <td>9</td>\n",
              "      <td>9</td>\n",
              "      <td>9</td>\n",
              "      <td>9</td>\n",
              "    </tr>\n",
              "    <tr>\n",
              "      <th>3</th>\n",
              "      <td>26</td>\n",
              "      <td>1</td>\n",
              "      <td>1</td>\n",
              "      <td>1</td>\n",
              "      <td>1</td>\n",
              "      <td>1</td>\n",
              "      <td>1</td>\n",
              "      <td>1</td>\n",
              "      <td>1</td>\n",
              "      <td>1</td>\n",
              "      <td>1</td>\n",
              "      <td>1</td>\n",
              "      <td>1</td>\n",
              "      <td>0</td>\n",
              "      <td>1</td>\n",
              "      <td>0</td>\n",
              "      <td>0</td>\n",
              "      <td>0</td>\n",
              "      <td>0</td>\n",
              "      <td>3</td>\n",
              "      <td>4</td>\n",
              "      <td>6</td>\n",
              "      <td>4</td>\n",
              "      <td>2</td>\n",
              "      <td>1</td>\n",
              "      <td>2</td>\n",
              "      <td>0</td>\n",
              "      <td>0</td>\n",
              "      <td>1</td>\n",
              "      <td>0</td>\n",
              "      <td>0</td>\n",
              "      <td>0</td>\n",
              "      <td>0</td>\n",
              "      <td>0</td>\n",
              "      <td>8</td>\n",
              "      <td>4</td>\n",
              "      <td>1</td>\n",
              "      <td>5</td>\n",
              "      <td>1</td>\n",
              "      <td>4</td>\n",
              "      <td>3</td>\n",
              "      <td>1</td>\n",
              "      <td>0</td>\n",
              "      <td>1</td>\n",
              "      <td>1</td>\n",
              "      <td>1</td>\n",
              "      <td>0</td>\n",
              "      <td>0</td>\n",
              "      <td>0</td>\n",
              "      <td>0</td>\n",
              "      <td>0</td>\n",
              "      <td>0</td>\n",
              "      <td>1</td>\n",
              "      <td>1</td>\n",
              "      <td>0</td>\n",
              "      <td>1</td>\n",
              "      <td>0</td>\n",
              "      <td>0</td>\n",
              "      <td>0</td>\n",
              "      <td>1</td>\n",
              "      <td>3</td>\n",
              "      <td>0</td>\n",
              "      <td>0</td>\n",
              "      <td>0</td>\n",
              "      <td>3</td>\n",
              "      <td>1</td>\n",
              "      <td>1</td>\n",
              "      <td>2</td>\n",
              "      <td>1</td>\n",
              "      <td>1</td>\n",
              "      <td>1</td>\n",
              "      <td>1</td>\n",
              "      <td>2</td>\n",
              "      <td>2</td>\n",
              "      <td>1</td>\n",
              "      <td>9</td>\n",
              "      <td>3</td>\n",
              "      <td>2</td>\n",
              "      <td>4</td>\n",
              "      <td>2</td>\n",
              "      <td>3</td>\n",
              "      <td>3</td>\n",
              "      <td>2</td>\n",
              "      <td>2</td>\n",
              "      <td>4</td>\n",
              "      <td>4</td>\n",
              "      <td>4</td>\n",
              "      <td>2</td>\n",
              "      <td>1</td>\n",
              "      <td>3</td>\n",
              "      <td>1</td>\n",
              "      <td>4</td>\n",
              "      <td>1</td>\n",
              "      <td>3</td>\n",
              "      <td>3</td>\n",
              "      <td>1</td>\n",
              "      <td>1</td>\n",
              "      <td>2</td>\n",
              "      <td>2</td>\n",
              "      <td>1</td>\n",
              "      <td>3</td>\n",
              "      <td>4</td>\n",
              "      <td>3</td>\n",
              "      <td>3</td>\n",
              "      <td>3</td>\n",
              "      <td>3</td>\n",
              "      <td>99</td>\n",
              "      <td>9</td>\n",
              "      <td>9</td>\n",
              "      <td>9</td>\n",
              "      <td>9</td>\n",
              "      <td>9</td>\n",
              "      <td>9</td>\n",
              "      <td>9</td>\n",
              "      <td>9</td>\n",
              "      <td>9</td>\n",
              "      <td>9</td>\n",
              "      <td>9</td>\n",
              "      <td>9</td>\n",
              "      <td>9</td>\n",
              "      <td>9</td>\n",
              "      <td>9</td>\n",
              "      <td>9</td>\n",
              "      <td>9</td>\n",
              "      <td>9</td>\n",
              "    </tr>\n",
              "    <tr>\n",
              "      <th>4</th>\n",
              "      <td>26</td>\n",
              "      <td>1</td>\n",
              "      <td>1</td>\n",
              "      <td>1</td>\n",
              "      <td>1</td>\n",
              "      <td>1</td>\n",
              "      <td>6</td>\n",
              "      <td>1</td>\n",
              "      <td>1</td>\n",
              "      <td>3</td>\n",
              "      <td>6</td>\n",
              "      <td>1</td>\n",
              "      <td>1</td>\n",
              "      <td>0</td>\n",
              "      <td>1</td>\n",
              "      <td>0</td>\n",
              "      <td>0</td>\n",
              "      <td>0</td>\n",
              "      <td>0</td>\n",
              "      <td>4</td>\n",
              "      <td>4</td>\n",
              "      <td>6</td>\n",
              "      <td>8</td>\n",
              "      <td>3</td>\n",
              "      <td>1</td>\n",
              "      <td>3</td>\n",
              "      <td>0</td>\n",
              "      <td>0</td>\n",
              "      <td>0</td>\n",
              "      <td>0</td>\n",
              "      <td>0</td>\n",
              "      <td>0</td>\n",
              "      <td>0</td>\n",
              "      <td>0</td>\n",
              "      <td>3</td>\n",
              "      <td>3</td>\n",
              "      <td>2</td>\n",
              "      <td>2</td>\n",
              "      <td>1</td>\n",
              "      <td>1</td>\n",
              "      <td>4</td>\n",
              "      <td>1</td>\n",
              "      <td>0</td>\n",
              "      <td>1</td>\n",
              "      <td>1</td>\n",
              "      <td>1</td>\n",
              "      <td>0</td>\n",
              "      <td>0</td>\n",
              "      <td>0</td>\n",
              "      <td>1</td>\n",
              "      <td>0</td>\n",
              "      <td>0</td>\n",
              "      <td>0</td>\n",
              "      <td>1</td>\n",
              "      <td>0</td>\n",
              "      <td>1</td>\n",
              "      <td>0</td>\n",
              "      <td>0</td>\n",
              "      <td>0</td>\n",
              "      <td>0</td>\n",
              "      <td>3</td>\n",
              "      <td>0</td>\n",
              "      <td>0</td>\n",
              "      <td>0</td>\n",
              "      <td>1</td>\n",
              "      <td>1</td>\n",
              "      <td>1</td>\n",
              "      <td>1</td>\n",
              "      <td>1</td>\n",
              "      <td>1</td>\n",
              "      <td>1</td>\n",
              "      <td>1</td>\n",
              "      <td>4</td>\n",
              "      <td>2</td>\n",
              "      <td>1</td>\n",
              "      <td>7</td>\n",
              "      <td>2</td>\n",
              "      <td>1</td>\n",
              "      <td>4</td>\n",
              "      <td>1</td>\n",
              "      <td>1</td>\n",
              "      <td>1</td>\n",
              "      <td>1</td>\n",
              "      <td>3</td>\n",
              "      <td>3</td>\n",
              "      <td>2</td>\n",
              "      <td>3</td>\n",
              "      <td>1</td>\n",
              "      <td>1</td>\n",
              "      <td>1</td>\n",
              "      <td>3</td>\n",
              "      <td>1</td>\n",
              "      <td>1</td>\n",
              "      <td>1</td>\n",
              "      <td>3</td>\n",
              "      <td>1</td>\n",
              "      <td>1</td>\n",
              "      <td>3</td>\n",
              "      <td>4</td>\n",
              "      <td>2</td>\n",
              "      <td>3</td>\n",
              "      <td>3</td>\n",
              "      <td>1</td>\n",
              "      <td>1</td>\n",
              "      <td>1</td>\n",
              "      <td>1</td>\n",
              "      <td>5</td>\n",
              "      <td>3</td>\n",
              "      <td>1</td>\n",
              "      <td>1</td>\n",
              "      <td>1</td>\n",
              "      <td>1</td>\n",
              "      <td>1</td>\n",
              "      <td>1</td>\n",
              "      <td>1</td>\n",
              "      <td>1</td>\n",
              "      <td>3</td>\n",
              "      <td>1</td>\n",
              "      <td>2</td>\n",
              "      <td>1</td>\n",
              "      <td>0</td>\n",
              "      <td>0</td>\n",
              "      <td>0</td>\n",
              "      <td>0</td>\n",
              "      <td>0</td>\n",
              "    </tr>\n",
              "    <tr>\n",
              "      <th>5</th>\n",
              "      <td>26</td>\n",
              "      <td>0</td>\n",
              "      <td>1</td>\n",
              "      <td>1</td>\n",
              "      <td>1</td>\n",
              "      <td>1</td>\n",
              "      <td>1</td>\n",
              "      <td>1</td>\n",
              "      <td>1</td>\n",
              "      <td>1</td>\n",
              "      <td>1</td>\n",
              "      <td>1</td>\n",
              "      <td>1</td>\n",
              "      <td>1</td>\n",
              "      <td>1</td>\n",
              "      <td>0</td>\n",
              "      <td>0</td>\n",
              "      <td>0</td>\n",
              "      <td>0</td>\n",
              "      <td>4</td>\n",
              "      <td>4</td>\n",
              "      <td>6</td>\n",
              "      <td>5</td>\n",
              "      <td>3</td>\n",
              "      <td>1</td>\n",
              "      <td>3</td>\n",
              "      <td>0</td>\n",
              "      <td>0</td>\n",
              "      <td>0</td>\n",
              "      <td>0</td>\n",
              "      <td>0</td>\n",
              "      <td>0</td>\n",
              "      <td>0</td>\n",
              "      <td>0</td>\n",
              "      <td>3</td>\n",
              "      <td>5</td>\n",
              "      <td>6</td>\n",
              "      <td>3</td>\n",
              "      <td>2</td>\n",
              "      <td>6</td>\n",
              "      <td>6</td>\n",
              "      <td>1</td>\n",
              "      <td>0</td>\n",
              "      <td>0</td>\n",
              "      <td>1</td>\n",
              "      <td>0</td>\n",
              "      <td>0</td>\n",
              "      <td>0</td>\n",
              "      <td>0</td>\n",
              "      <td>0</td>\n",
              "      <td>0</td>\n",
              "      <td>1</td>\n",
              "      <td>0</td>\n",
              "      <td>0</td>\n",
              "      <td>8</td>\n",
              "      <td>8</td>\n",
              "      <td>8</td>\n",
              "      <td>8</td>\n",
              "      <td>8</td>\n",
              "      <td>8</td>\n",
              "      <td>8</td>\n",
              "      <td>8</td>\n",
              "      <td>8</td>\n",
              "      <td>8</td>\n",
              "      <td>8</td>\n",
              "      <td>2</td>\n",
              "      <td>1</td>\n",
              "      <td>1</td>\n",
              "      <td>1</td>\n",
              "      <td>1</td>\n",
              "      <td>1</td>\n",
              "      <td>1</td>\n",
              "      <td>4</td>\n",
              "      <td>9</td>\n",
              "      <td>1</td>\n",
              "      <td>4</td>\n",
              "      <td>1</td>\n",
              "      <td>1</td>\n",
              "      <td>3</td>\n",
              "      <td>1</td>\n",
              "      <td>2</td>\n",
              "      <td>2</td>\n",
              "      <td>1</td>\n",
              "      <td>1</td>\n",
              "      <td>2</td>\n",
              "      <td>3</td>\n",
              "      <td>3</td>\n",
              "      <td>1</td>\n",
              "      <td>1</td>\n",
              "      <td>1</td>\n",
              "      <td>1</td>\n",
              "      <td>1</td>\n",
              "      <td>1</td>\n",
              "      <td>1</td>\n",
              "      <td>2</td>\n",
              "      <td>1</td>\n",
              "      <td>1</td>\n",
              "      <td>2</td>\n",
              "      <td>3</td>\n",
              "      <td>4</td>\n",
              "      <td>3</td>\n",
              "      <td>4</td>\n",
              "      <td>2</td>\n",
              "      <td>2</td>\n",
              "      <td>2</td>\n",
              "      <td>2</td>\n",
              "      <td>5</td>\n",
              "      <td>4</td>\n",
              "      <td>1</td>\n",
              "      <td>4</td>\n",
              "      <td>3</td>\n",
              "      <td>2</td>\n",
              "      <td>1</td>\n",
              "      <td>1</td>\n",
              "      <td>1</td>\n",
              "      <td>1</td>\n",
              "      <td>4</td>\n",
              "      <td>2</td>\n",
              "      <td>2</td>\n",
              "      <td>1</td>\n",
              "      <td>0</td>\n",
              "      <td>0</td>\n",
              "      <td>0</td>\n",
              "      <td>0</td>\n",
              "      <td>0</td>\n",
              "    </tr>\n",
              "  </tbody>\n",
              "</table>\n",
              "</div>\n",
              "      <button class=\"colab-df-convert\" onclick=\"convertToInteractive('df-5c3cdee4-c2e8-47a8-91b4-dc495ee72f6d')\"\n",
              "              title=\"Convert this dataframe to an interactive table.\"\n",
              "              style=\"display:none;\">\n",
              "        \n",
              "  <svg xmlns=\"http://www.w3.org/2000/svg\" height=\"24px\"viewBox=\"0 0 24 24\"\n",
              "       width=\"24px\">\n",
              "    <path d=\"M0 0h24v24H0V0z\" fill=\"none\"/>\n",
              "    <path d=\"M18.56 5.44l.94 2.06.94-2.06 2.06-.94-2.06-.94-.94-2.06-.94 2.06-2.06.94zm-11 1L8.5 8.5l.94-2.06 2.06-.94-2.06-.94L8.5 2.5l-.94 2.06-2.06.94zm10 10l.94 2.06.94-2.06 2.06-.94-2.06-.94-.94-2.06-.94 2.06-2.06.94z\"/><path d=\"M17.41 7.96l-1.37-1.37c-.4-.4-.92-.59-1.43-.59-.52 0-1.04.2-1.43.59L10.3 9.45l-7.72 7.72c-.78.78-.78 2.05 0 2.83L4 21.41c.39.39.9.59 1.41.59.51 0 1.02-.2 1.41-.59l7.78-7.78 2.81-2.81c.8-.78.8-2.07 0-2.86zM5.41 20L4 18.59l7.72-7.72 1.47 1.35L5.41 20z\"/>\n",
              "  </svg>\n",
              "      </button>\n",
              "      \n",
              "  <style>\n",
              "    .colab-df-container {\n",
              "      display:flex;\n",
              "      flex-wrap:wrap;\n",
              "      gap: 12px;\n",
              "    }\n",
              "\n",
              "    .colab-df-convert {\n",
              "      background-color: #E8F0FE;\n",
              "      border: none;\n",
              "      border-radius: 50%;\n",
              "      cursor: pointer;\n",
              "      display: none;\n",
              "      fill: #1967D2;\n",
              "      height: 32px;\n",
              "      padding: 0 0 0 0;\n",
              "      width: 32px;\n",
              "    }\n",
              "\n",
              "    .colab-df-convert:hover {\n",
              "      background-color: #E2EBFA;\n",
              "      box-shadow: 0px 1px 2px rgba(60, 64, 67, 0.3), 0px 1px 3px 1px rgba(60, 64, 67, 0.15);\n",
              "      fill: #174EA6;\n",
              "    }\n",
              "\n",
              "    [theme=dark] .colab-df-convert {\n",
              "      background-color: #3B4455;\n",
              "      fill: #D2E3FC;\n",
              "    }\n",
              "\n",
              "    [theme=dark] .colab-df-convert:hover {\n",
              "      background-color: #434B5C;\n",
              "      box-shadow: 0px 1px 3px 1px rgba(0, 0, 0, 0.15);\n",
              "      filter: drop-shadow(0px 1px 2px rgba(0, 0, 0, 0.3));\n",
              "      fill: #FFFFFF;\n",
              "    }\n",
              "  </style>\n",
              "\n",
              "      <script>\n",
              "        const buttonEl =\n",
              "          document.querySelector('#df-5c3cdee4-c2e8-47a8-91b4-dc495ee72f6d button.colab-df-convert');\n",
              "        buttonEl.style.display =\n",
              "          google.colab.kernel.accessAllowed ? 'block' : 'none';\n",
              "\n",
              "        async function convertToInteractive(key) {\n",
              "          const element = document.querySelector('#df-5c3cdee4-c2e8-47a8-91b4-dc495ee72f6d');\n",
              "          const dataTable =\n",
              "            await google.colab.kernel.invokeFunction('convertToInteractive',\n",
              "                                                     [key], {});\n",
              "          if (!dataTable) return;\n",
              "\n",
              "          const docLinkHtml = 'Like what you see? Visit the ' +\n",
              "            '<a target=\"_blank\" href=https://colab.research.google.com/notebooks/data_table.ipynb>data table notebook</a>'\n",
              "            + ' to learn more about interactive tables.';\n",
              "          element.innerHTML = '';\n",
              "          dataTable['output_type'] = 'display_data';\n",
              "          await google.colab.output.renderOutput(dataTable, element);\n",
              "          const docLink = document.createElement('div');\n",
              "          docLink.innerHTML = docLinkHtml;\n",
              "          element.appendChild(docLink);\n",
              "        }\n",
              "      </script>\n",
              "    </div>\n",
              "  </div>\n",
              "  "
            ]
          },
          "metadata": {},
          "execution_count": 35
        }
      ]
    },
    {
      "cell_type": "code",
      "source": [
        "X.shape"
      ],
      "metadata": {
        "colab": {
          "base_uri": "https://localhost:8080/"
        },
        "id": "jfMHMIZf7caN",
        "outputId": "903782b2-814e-4ebf-e7d7-2487486855d8"
      },
      "execution_count": null,
      "outputs": [
        {
          "output_type": "execute_result",
          "data": {
            "text/plain": [
              "(42932, 125)"
            ]
          },
          "metadata": {},
          "execution_count": 36
        }
      ]
    },
    {
      "cell_type": "code",
      "source": [
        "# Define Target\n",
        "y = df['Violence']"
      ],
      "metadata": {
        "id": "Xg9HacUw7Ixs"
      },
      "execution_count": null,
      "outputs": []
    },
    {
      "cell_type": "code",
      "source": [
        "y.shape"
      ],
      "metadata": {
        "id": "A9z_VJEI7hX6",
        "colab": {
          "base_uri": "https://localhost:8080/"
        },
        "outputId": "7eb562aa-5674-42a3-dfc6-d77886543cce"
      },
      "execution_count": null,
      "outputs": [
        {
          "output_type": "execute_result",
          "data": {
            "text/plain": [
              "(42932,)"
            ]
          },
          "metadata": {},
          "execution_count": 38
        }
      ]
    },
    {
      "cell_type": "markdown",
      "source": [
        "### Train Test Split Data"
      ],
      "metadata": {
        "id": "sUM1oAJdtl4T"
      }
    },
    {
      "cell_type": "code",
      "source": [
        "# train-test-split\n",
        "X_train, X_test, y_train, y_test = train_test_split(X, y, test_size=0.3, random_state=42)"
      ],
      "metadata": {
        "id": "xQQ9_0Efts-X"
      },
      "execution_count": null,
      "outputs": []
    },
    {
      "cell_type": "code",
      "source": [
        "X_train.shape"
      ],
      "metadata": {
        "colab": {
          "base_uri": "https://localhost:8080/"
        },
        "id": "7M7UtmjiiVpy",
        "outputId": "5ca348ee-ed18-4ee9-e3cf-dcd3e119a057"
      },
      "execution_count": null,
      "outputs": [
        {
          "output_type": "execute_result",
          "data": {
            "text/plain": [
              "(30052, 125)"
            ]
          },
          "metadata": {},
          "execution_count": 40
        }
      ]
    },
    {
      "cell_type": "code",
      "source": [
        "X_test.shape"
      ],
      "metadata": {
        "colab": {
          "base_uri": "https://localhost:8080/"
        },
        "id": "PTbxMUbqiW9l",
        "outputId": "b9986200-7c1b-41d0-adfa-7a241b26f89c"
      },
      "execution_count": null,
      "outputs": [
        {
          "output_type": "execute_result",
          "data": {
            "text/plain": [
              "(12880, 125)"
            ]
          },
          "metadata": {},
          "execution_count": 41
        }
      ]
    },
    {
      "cell_type": "code",
      "source": [
        "y_train.value_counts()"
      ],
      "metadata": {
        "colab": {
          "base_uri": "https://localhost:8080/"
        },
        "id": "93dBMbLHjVsg",
        "outputId": "46e7d683-026e-4c73-80a9-efaf58790a58"
      },
      "execution_count": null,
      "outputs": [
        {
          "output_type": "execute_result",
          "data": {
            "text/plain": [
              "False    22677\n",
              "True      7375\n",
              "Name: Violence, dtype: int64"
            ]
          },
          "metadata": {},
          "execution_count": 42
        }
      ]
    },
    {
      "cell_type": "code",
      "source": [
        "y_test.value_counts()"
      ],
      "metadata": {
        "colab": {
          "base_uri": "https://localhost:8080/"
        },
        "id": "x44I8PyCjZXK",
        "outputId": "70489cbf-12c6-4404-ba07-29623c8d899e"
      },
      "execution_count": null,
      "outputs": [
        {
          "output_type": "execute_result",
          "data": {
            "text/plain": [
              "False    9659\n",
              "True     3221\n",
              "Name: Violence, dtype: int64"
            ]
          },
          "metadata": {},
          "execution_count": 43
        }
      ]
    },
    {
      "cell_type": "markdown",
      "source": [
        "# Feature Selection"
      ],
      "metadata": {
        "id": "BDMx2-zAmKxl"
      }
    },
    {
      "cell_type": "markdown",
      "source": [
        "## Using P-Value"
      ],
      "metadata": {
        "id": "JzK748iuWhST"
      }
    },
    {
      "cell_type": "code",
      "source": [
        "logistic_ml = sm.Logit(y_train, X_train)\n",
        "logistic_coef = logistic_ml.fit()\n",
        "summary = logistic_coef.summary2()\n",
        "p_values = summary.tables[1]['P>|z|']\n",
        "significant_p_values = p_values[p_values < 0.01]\n",
        "\n"
      ],
      "metadata": {
        "colab": {
          "base_uri": "https://localhost:8080/"
        },
        "id": "5EfTIFQVRqGI",
        "outputId": "7d23cf06-bcf2-4a5f-fd27-e420292a91e7"
      },
      "execution_count": null,
      "outputs": [
        {
          "output_type": "stream",
          "name": "stdout",
          "text": [
            "Optimization terminated successfully.\n",
            "         Current function value: 0.424238\n",
            "         Iterations 7\n"
          ]
        }
      ]
    },
    {
      "cell_type": "code",
      "source": [
        "if len(significant_p_values) > 0:\n",
        "    p_values_99 = p_values.apply(lambda x: f\"{x:.4f}*\" if x < 0.01 else \"Not Important\")\n",
        "    summary.tables[1]['P>|z|'] = p_values_99\n",
        "    print(summary)"
      ],
      "metadata": {
        "colab": {
          "base_uri": "https://localhost:8080/"
        },
        "id": "ADWYZE3kSLt_",
        "outputId": "c1d332a2-a1ea-409b-de0b-36006b923401"
      },
      "execution_count": null,
      "outputs": [
        {
          "output_type": "stream",
          "name": "stdout",
          "text": [
            "                         Results: Logit\n",
            "=================================================================\n",
            "Model:              Logit            Pseudo R-squared: 0.239     \n",
            "Dependent Variable: Violence         AIC:              25748.4065\n",
            "Date:               2023-05-04 06:25 BIC:              26787.2421\n",
            "No. Observations:   30052            Log-Likelihood:   -12749.   \n",
            "Df Model:           124              LL-Null:          -16746.   \n",
            "Df Residuals:       29927            LLR p-value:      0.0000    \n",
            "Converged:          1.0000           Scale:            1.0000    \n",
            "No. Iterations:     7.0000                                       \n",
            "-----------------------------------------------------------------\n",
            "           Coef.  Std.Err.    z         P>|z|      [0.025  0.975]\n",
            "-----------------------------------------------------------------\n",
            "SCOUNTRY  -0.0301   0.0022 -13.5322       0.0000* -0.0344 -0.0257\n",
            "MALE       0.8360   0.0394  21.1992       0.0000*  0.7587  0.9133\n",
            "AGEGROUP  -0.1203   0.0644  -1.8678 Not Important -0.2465  0.0059\n",
            "BIRTHP    -0.1927   0.0666  -2.8943       0.0038* -0.3232 -0.0622\n",
            "BIRTHPM   -0.0404   0.0450  -0.8971 Not Important -0.1286  0.0478\n",
            "BIRTHPF   -0.0229   0.0407  -0.5624 Not Important -0.1026  0.0569\n",
            "FAMILY     0.0058   0.0139   0.4177 Not Important -0.0215  0.0332\n",
            "LANGH1    -0.2024   0.0598  -3.3851       0.0007* -0.3197 -0.0852\n",
            "DISCRIM    0.0386   0.0282   1.3696 Not Important -0.0166  0.0937\n",
            "WORKFATH  -0.0010   0.0014  -0.7545 Not Important -0.0037  0.0017\n",
            "WORKMOTH  -0.0012   0.0017  -0.7371 Not Important -0.0045  0.0021\n",
            "OWNROOM   -0.0138   0.0390  -0.3531 Not Important -0.0901  0.0626\n",
            "COMPUSE   -0.0748   0.0538  -1.3912 Not Important -0.1801  0.0306\n",
            "OWNMOBPH   0.0601   0.0602   0.9980 Not Important -0.0579  0.1781\n",
            "FAMILCAR   0.1473   0.0577   2.5550 Not Important  0.0343  0.2604\n",
            "VICROBBP   0.1519   0.0773   1.9653 Not Important  0.0004  0.3034\n",
            "VICASSAP   0.4363   0.0780   5.5930       0.0000*  0.2834  0.5893\n",
            "VICTHEFP   0.3183   0.0393   8.0893       0.0000*  0.2412  0.3954\n",
            "VICBULLP   0.1093   0.0476   2.2970 Not Important  0.0160  0.2025\n",
            "GETALFA   -0.1187   0.0270  -4.3959       0.0000* -0.1716 -0.0658\n",
            "GETALMO   -0.2256   0.0295  -7.6356       0.0000* -0.2835 -0.1677\n",
            "LEISFAM    0.0090   0.0127   0.7090 Not Important -0.0159  0.0340\n",
            "DINNFAM    0.0155   0.0076   2.0574 Not Important  0.0007  0.0303\n",
            "KNOWFR    -0.2904   0.0273 -10.6461       0.0000* -0.3439 -0.2369\n",
            "TELLTIME  -0.0156   0.0081  -1.9178 Not Important -0.0316  0.0003\n",
            "OBEYTIME  -0.0249   0.0063  -3.9355       0.0001* -0.0373 -0.0125\n",
            "LIFEEV01   0.0647   0.0872   0.7420 Not Important -0.1062  0.2356\n",
            "LIFEEV02  -0.0225   0.1005  -0.2239 Not Important -0.2195  0.1745\n",
            "LIFEEV03   0.0232   0.0157   1.4806 Not Important -0.0075  0.0539\n",
            "LIFEEV04  -0.0159   0.0153  -1.0386 Not Important -0.0460  0.0141\n",
            "LIFEEV05   0.2419   0.0343   7.0569       0.0000*  0.1747  0.3091\n",
            "LIFEEV06   0.0728   0.0636   1.1453 Not Important -0.0518  0.1975\n",
            "LIFEEV07   0.0906   0.0546   1.6597 Not Important -0.0164  0.1976\n",
            "LIFEEV08   0.0284   0.0500   0.5679 Not Important -0.0696  0.1265\n",
            "NIGHTACT   0.0267   0.0084   3.1648       0.0016*  0.0102  0.0432\n",
            "ACTIV01   -0.0856   0.0155  -5.5340       0.0000* -0.1159 -0.0553\n",
            "ACTIV02   -0.0775   0.0153  -5.0621       0.0000* -0.1075 -0.0475\n",
            "ACTIV03   -0.0104   0.0128  -0.8132 Not Important -0.0356  0.0147\n",
            "ACTIV04   -0.0247   0.0172  -1.4396 Not Important -0.0583  0.0089\n",
            "ACTIV05    0.0645   0.0125   5.1632       0.0000*  0.0400  0.0890\n",
            "ACTIV06    0.0702   0.0118   5.9348       0.0000*  0.0470  0.0934\n",
            "ACTIV07    0.0158   0.0149   1.0620 Not Important -0.0134  0.0450\n",
            "TRANSP01  -1.9819   0.9263  -2.1396 Not Important -3.7975 -0.1664\n",
            "TRANSP02  -0.0451   0.0328  -1.3752 Not Important -0.1094  0.0192\n",
            "TRANSP03  -0.0577   0.0348  -1.6571 Not Important -0.1259  0.0105\n",
            "TRANSP04  -0.1724   0.0392  -4.3952       0.0000* -0.2492 -0.0955\n",
            "TRANSP05   0.3268   0.0654   4.9935       0.0000*  0.1985  0.4551\n",
            "TRANSP06   0.0756   0.0332   2.2734 Not Important  0.0104  0.1408\n",
            "TRANSP07   0.0872   0.0476   1.8327 Not Important -0.0061  0.1804\n",
            "LEISSP01  -0.1473   0.0893  -1.6496 Not Important -0.3224  0.0277\n",
            "LEISSP02  -0.2213   0.0754  -2.9361       0.0033* -0.3690 -0.0736\n",
            "LEISSP03  -0.0355   0.0754  -0.4706 Not Important -0.1834  0.1124\n",
            "LEISSP04   0.2138   0.0786   2.7204       0.0065*  0.0598  0.3679\n",
            "GROUPFR    0.6240   0.1384   4.5092       0.0000*  0.3528  0.8952\n",
            "GRPAGE01  -0.0895   0.0938  -0.9538 Not Important -0.2734  0.0944\n",
            "GRPAGE02  -0.0628   0.0425  -1.4766 Not Important -0.1461  0.0206\n",
            "GRPAGE03   0.1492   0.0413   3.6109       0.0003*  0.0682  0.2303\n",
            "GRPAGE04  -0.0042   0.0323  -0.1316 Not Important -0.0675  0.0590\n",
            "GRPAGE05   0.0522   0.1175   0.4446 Not Important -0.1780  0.2825\n",
            "GRPPUBL   -0.0419   0.0283  -1.4820 Not Important -0.0974  0.0135\n",
            "GRPEXIST  -0.0519   0.0159  -3.2588       0.0011* -0.0832 -0.0207\n",
            "GRPILLAC   0.0144   0.0189   0.7600 Not Important -0.0227  0.0514\n",
            "GRPILLDO   0.0831   0.0213   3.8971       0.0001*  0.0413  0.1249\n",
            "GRPGANG   -0.0044   0.0228  -0.1908 Not Important -0.0491  0.0404\n",
            "GRPGEND   -0.0489   0.0185  -2.6489       0.0081* -0.0851 -0.0127\n",
            "GRPETHN    0.0227   0.0159   1.4276 Not Important -0.0085  0.0540\n",
            "ETHNFRND  -0.0312   0.0079  -3.9328       0.0001* -0.0467 -0.0156\n",
            "FRNDAC01   0.0081   0.0196   0.4125 Not Important -0.0303  0.0464\n",
            "FRNDAC02  -0.0981   0.0150  -6.5358       0.0000* -0.1275 -0.0687\n",
            "FRNDAC03   0.0308   0.0200   1.5387 Not Important -0.0084  0.0700\n",
            "FRNDAC04   0.2176   0.0239   9.0901       0.0000*  0.1707  0.2645\n",
            "FRNDAC05  -0.1398   0.0241  -5.7913       0.0000* -0.1871 -0.0925\n",
            "FRNDAC06  -0.0139   0.0166  -0.8352 Not Important -0.0464  0.0187\n",
            "FRNDAC07  -0.0268   0.0146  -1.8304 Not Important -0.0555  0.0019\n",
            "FRNDAC08   0.1088   0.0138   7.8938       0.0000*  0.0818  0.1358\n",
            "FRNDAC09  -0.0093   0.0048  -1.9583 Not Important -0.0186  0.0000\n",
            "ATTVIO01   0.1347   0.0173   7.7831       0.0000*  0.1008  0.1686\n",
            "ATTVIO02   0.0223   0.0165   1.3519 Not Important -0.0100  0.0547\n",
            "ATTVIO03   0.1477   0.0158   9.3757       0.0000*  0.1168  0.1786\n",
            "ATTVIO04  -0.0513   0.0145  -3.5461       0.0004* -0.0796 -0.0229\n",
            "ATTVIO05   0.0502   0.0151   3.3146       0.0009*  0.0205  0.0799\n",
            "SELFC01    0.0347   0.0157   2.2096 Not Important  0.0039  0.0655\n",
            "SELFC02    0.0140   0.0162   0.8634 Not Important -0.0178  0.0458\n",
            "SELFC03   -0.0509   0.0138  -3.7013       0.0002* -0.0779 -0.0240\n",
            "SELFC04    0.1032   0.0168   6.1286       0.0000*  0.0702  0.1362\n",
            "SELFC05    0.0996   0.0171   5.8340       0.0000*  0.0661  0.1330\n",
            "SELFC06   -0.0145   0.0161  -0.9033 Not Important -0.0461  0.0170\n",
            "SELFC07   -0.0954   0.0165  -5.7894       0.0000* -0.1277 -0.0631\n",
            "SELFC08   -0.0305   0.0158  -1.9267 Not Important -0.0616  0.0005\n",
            "SELFC09   -0.0562   0.0177  -3.1707       0.0015* -0.0909 -0.0214\n",
            "SELFC10   -0.0046   0.0147  -0.3094 Not Important -0.0334  0.0243\n",
            "SELFC11    0.1191   0.0144   8.2543       0.0000*  0.0909  0.1474\n",
            "SELFC12    0.0430   0.0153   2.8038       0.0051*  0.0129  0.0731\n",
            "ACCIDP     0.0931   0.0165   5.6370       0.0000*  0.0607  0.1254\n",
            "ATTSCH    -0.1097   0.0198  -5.5540       0.0000* -0.1484 -0.0710\n",
            "REPGRADE  -0.0324   0.0312  -1.0374 Not Important -0.0935  0.0288\n",
            "TRUANCY    0.1801   0.0218   8.2686       0.0000*  0.1374  0.2228\n",
            "ACHIEV    -0.2001   0.0230  -8.6859       0.0000* -0.2452 -0.1549\n",
            "ATSCH01   -0.0293   0.0171  -1.7077 Not Important -0.0628  0.0043\n",
            "ATSCH02    0.0144   0.0167   0.8608 Not Important -0.0184  0.0472\n",
            "ATSCH03   -0.0304   0.0165  -1.8392 Not Important -0.0628  0.0020\n",
            "ATSCH04   -0.0251   0.0146  -1.7213 Not Important -0.0536  0.0035\n",
            "ATSCH05   -0.0600   0.0151  -3.9754       0.0001* -0.0897 -0.0304\n",
            "ATSCH06    0.1071   0.0155   6.9068       0.0000*  0.0767  0.1375\n",
            "ATSCH07    0.0593   0.0161   3.6774       0.0002*  0.0277  0.0910\n",
            "ATSCH08   -0.0310   0.0138  -2.2416 Not Important -0.0581 -0.0039\n",
            "AFTSCH    -0.0002   0.0004  -0.3653 Not Important -0.0010  0.0007\n",
            "NHOOD01    0.0161   0.0181   0.8857 Not Important -0.0195  0.0516\n",
            "NHOOD02   -0.0263   0.0147  -1.7878 Not Important -0.0552  0.0025\n",
            "NHOOD03   -0.0528   0.0186  -2.8330       0.0046* -0.0893 -0.0163\n",
            "NHOOD04   -0.0422   0.0139  -3.0437       0.0023* -0.0694 -0.0150\n",
            "NHOOD05    0.0377   0.0182   2.0700 Not Important  0.0020  0.0734\n",
            "NHOOD06   -0.0156   0.0184  -0.8446 Not Important -0.0516  0.0205\n",
            "NHOOD07    0.1328   0.0175   7.5728       0.0000*  0.0984  0.1672\n",
            "NHOOD08   -0.0843   0.0174  -4.8335       0.0000* -0.1185 -0.0501\n",
            "NHOOD09    0.0348   0.0141   2.4617 Not Important  0.0071  0.0625\n",
            "NHOOD10   -0.0615   0.0180  -3.4238       0.0006* -0.0967 -0.0263\n",
            "NHOOD11    0.0076   0.0173   0.4410 Not Important -0.0263  0.0416\n",
            "NHOOD12   -0.0183   0.0170  -1.0779 Not Important -0.0517  0.0150\n",
            "NHOOD13   -0.0748   0.0154  -4.8612       0.0000* -0.1050 -0.0447\n",
            "DELPDR     0.0068   0.0178   0.3827 Not Important -0.0280  0.0416\n",
            "DELPSL     0.1285   0.0159   8.0804       0.0000*  0.0974  0.1597\n",
            "DELPBU    -0.0421   0.0196  -2.1460 Not Important -0.0806 -0.0036\n",
            "DELPEX    -0.1129   0.0257  -4.3973       0.0000* -0.1633 -0.0626\n",
            "DELPAS     0.0077   0.0219   0.3524 Not Important -0.0351  0.0505\n",
            "=================================================================\n",
            "\n"
          ]
        }
      ]
    },
    {
      "cell_type": "code",
      "source": [
        "if len(significant_p_values) > 0:\n",
        "    p_values_99 = p_values.apply(lambda x: 1 if x < 0.01 else 0)\n",
        "    significant_features = X.columns[p_values_99 == 1]\n",
        "    print(significant_features)"
      ],
      "metadata": {
        "colab": {
          "base_uri": "https://localhost:8080/"
        },
        "id": "0o7LhLdRVMdh",
        "outputId": "9a94ad8d-552f-45fa-eff8-54ef695f244b"
      },
      "execution_count": null,
      "outputs": [
        {
          "output_type": "stream",
          "name": "stdout",
          "text": [
            "Index(['SCOUNTRY', 'MALE', 'BIRTHP', 'LANGH1', 'VICASSAP', 'VICTHEFP',\n",
            "       'GETALFA', 'GETALMO', 'KNOWFR', 'OBEYTIME', 'LIFEEV05', 'NIGHTACT',\n",
            "       'ACTIV01', 'ACTIV02', 'ACTIV05', 'ACTIV06', 'TRANSP04', 'TRANSP05',\n",
            "       'LEISSP02', 'LEISSP04', 'GROUPFR', 'GRPAGE03', 'GRPEXIST', 'GRPILLDO',\n",
            "       'GRPGEND', 'ETHNFRND', 'FRNDAC02', 'FRNDAC04', 'FRNDAC05', 'FRNDAC08',\n",
            "       'ATTVIO01', 'ATTVIO03', 'ATTVIO04', 'ATTVIO05', 'SELFC03', 'SELFC04',\n",
            "       'SELFC05', 'SELFC07', 'SELFC09', 'SELFC11', 'SELFC12', 'ACCIDP',\n",
            "       'ATTSCH', 'TRUANCY', 'ACHIEV', 'ATSCH05', 'ATSCH06', 'ATSCH07',\n",
            "       'NHOOD03', 'NHOOD04', 'NHOOD07', 'NHOOD08', 'NHOOD10', 'NHOOD13',\n",
            "       'DELPSL', 'DELPEX'],\n",
            "      dtype='object')\n"
          ]
        }
      ]
    },
    {
      "cell_type": "code",
      "source": [
        "pvals_col =['SCOUNTRY', 'MALE', 'BIRTHP', 'LANGH1', 'VICASSAP', 'VICTHEFP',\n",
        "       'GETALFA', 'GETALMO', 'KNOWFR', 'OBEYTIME', 'LIFEEV05', 'NIGHTACT',\n",
        "       'ACTIV01', 'ACTIV02', 'ACTIV05', 'ACTIV06', 'TRANSP04', 'TRANSP05',\n",
        "       'LEISSP02', 'LEISSP04', 'GROUPFR', 'GRPAGE03', 'GRPEXIST', 'GRPILLDO',\n",
        "       'GRPGEND', 'ETHNFRND', 'FRNDAC02', 'FRNDAC04', 'FRNDAC05', 'FRNDAC08',\n",
        "       'ATTVIO01', 'ATTVIO03', 'ATTVIO04', 'ATTVIO05', 'SELFC03', 'SELFC04',\n",
        "       'SELFC05', 'SELFC07', 'SELFC09', 'SELFC11', 'SELFC12', 'ACCIDP',\n",
        "       'ATTSCH', 'TRUANCY', 'ACHIEV', 'ATSCH05', 'ATSCH06', 'ATSCH07',\n",
        "       'NHOOD03', 'NHOOD04', 'NHOOD07', 'NHOOD08', 'NHOOD10', 'NHOOD13',\n",
        "       'DELPSL', 'DELPEX']"
      ],
      "metadata": {
        "id": "Xi2rxkEoaIlO"
      },
      "execution_count": null,
      "outputs": []
    },
    {
      "cell_type": "code",
      "source": [
        "X_train.shape"
      ],
      "metadata": {
        "colab": {
          "base_uri": "https://localhost:8080/"
        },
        "id": "fgfs1Qs-a0lU",
        "outputId": "8ea40723-8fb5-4140-c1da-e23ca9c08b25"
      },
      "execution_count": null,
      "outputs": [
        {
          "output_type": "execute_result",
          "data": {
            "text/plain": [
              "(30052, 125)"
            ]
          },
          "metadata": {},
          "execution_count": 48
        }
      ]
    },
    {
      "cell_type": "code",
      "source": [
        "X_test.shape"
      ],
      "metadata": {
        "colab": {
          "base_uri": "https://localhost:8080/"
        },
        "id": "Uxs7AYnQmoEZ",
        "outputId": "24704418-0c49-4aeb-b9e7-8022475a05f8"
      },
      "execution_count": null,
      "outputs": [
        {
          "output_type": "execute_result",
          "data": {
            "text/plain": [
              "(12880, 125)"
            ]
          },
          "metadata": {},
          "execution_count": 49
        }
      ]
    },
    {
      "cell_type": "code",
      "source": [
        "# Apply P-value feature selection to X_train and X_test\n",
        "X_train_pval = X_train.loc[:, pvals_col]\n",
        "X_test_pval = X_test.loc[:, pvals_col]"
      ],
      "metadata": {
        "id": "DPknGAC4lhSe"
      },
      "execution_count": null,
      "outputs": []
    },
    {
      "cell_type": "code",
      "source": [
        "X_train_pval.shape"
      ],
      "metadata": {
        "colab": {
          "base_uri": "https://localhost:8080/"
        },
        "id": "3wVq2U4QmoXL",
        "outputId": "7621e049-1cb4-4491-990e-9ca8bb71221b"
      },
      "execution_count": null,
      "outputs": [
        {
          "output_type": "execute_result",
          "data": {
            "text/plain": [
              "(30052, 56)"
            ]
          },
          "metadata": {},
          "execution_count": 51
        }
      ]
    },
    {
      "cell_type": "code",
      "source": [
        "X_test_pval.shape"
      ],
      "metadata": {
        "colab": {
          "base_uri": "https://localhost:8080/"
        },
        "id": "SGJ9R859mkea",
        "outputId": "e03e5dfa-d49f-43e6-9ce1-1bd2ffb30973"
      },
      "execution_count": null,
      "outputs": [
        {
          "output_type": "execute_result",
          "data": {
            "text/plain": [
              "(12880, 56)"
            ]
          },
          "metadata": {},
          "execution_count": 52
        }
      ]
    },
    {
      "cell_type": "markdown",
      "source": [
        "## Random Forest Feature Importance"
      ],
      "metadata": {
        "id": "7pJmanC6ZPrP"
      }
    },
    {
      "cell_type": "code",
      "source": [
        "# Random Forest feature importance\n",
        "rnd_clf = RandomForestClassifier(random_state=42)\n",
        "rnd_clf.fit(X_train, y_train)"
      ],
      "metadata": {
        "id": "26JpcVGfsd2_",
        "colab": {
          "base_uri": "https://localhost:8080/",
          "height": 74
        },
        "outputId": "5bc55721-7c9e-41e7-fba3-73be9cfa1742"
      },
      "execution_count": null,
      "outputs": [
        {
          "output_type": "execute_result",
          "data": {
            "text/plain": [
              "RandomForestClassifier(random_state=42)"
            ],
            "text/html": [
              "<style>#sk-container-id-1 {color: black;background-color: white;}#sk-container-id-1 pre{padding: 0;}#sk-container-id-1 div.sk-toggleable {background-color: white;}#sk-container-id-1 label.sk-toggleable__label {cursor: pointer;display: block;width: 100%;margin-bottom: 0;padding: 0.3em;box-sizing: border-box;text-align: center;}#sk-container-id-1 label.sk-toggleable__label-arrow:before {content: \"▸\";float: left;margin-right: 0.25em;color: #696969;}#sk-container-id-1 label.sk-toggleable__label-arrow:hover:before {color: black;}#sk-container-id-1 div.sk-estimator:hover label.sk-toggleable__label-arrow:before {color: black;}#sk-container-id-1 div.sk-toggleable__content {max-height: 0;max-width: 0;overflow: hidden;text-align: left;background-color: #f0f8ff;}#sk-container-id-1 div.sk-toggleable__content pre {margin: 0.2em;color: black;border-radius: 0.25em;background-color: #f0f8ff;}#sk-container-id-1 input.sk-toggleable__control:checked~div.sk-toggleable__content {max-height: 200px;max-width: 100%;overflow: auto;}#sk-container-id-1 input.sk-toggleable__control:checked~label.sk-toggleable__label-arrow:before {content: \"▾\";}#sk-container-id-1 div.sk-estimator input.sk-toggleable__control:checked~label.sk-toggleable__label {background-color: #d4ebff;}#sk-container-id-1 div.sk-label input.sk-toggleable__control:checked~label.sk-toggleable__label {background-color: #d4ebff;}#sk-container-id-1 input.sk-hidden--visually {border: 0;clip: rect(1px 1px 1px 1px);clip: rect(1px, 1px, 1px, 1px);height: 1px;margin: -1px;overflow: hidden;padding: 0;position: absolute;width: 1px;}#sk-container-id-1 div.sk-estimator {font-family: monospace;background-color: #f0f8ff;border: 1px dotted black;border-radius: 0.25em;box-sizing: border-box;margin-bottom: 0.5em;}#sk-container-id-1 div.sk-estimator:hover {background-color: #d4ebff;}#sk-container-id-1 div.sk-parallel-item::after {content: \"\";width: 100%;border-bottom: 1px solid gray;flex-grow: 1;}#sk-container-id-1 div.sk-label:hover label.sk-toggleable__label {background-color: #d4ebff;}#sk-container-id-1 div.sk-serial::before {content: \"\";position: absolute;border-left: 1px solid gray;box-sizing: border-box;top: 0;bottom: 0;left: 50%;z-index: 0;}#sk-container-id-1 div.sk-serial {display: flex;flex-direction: column;align-items: center;background-color: white;padding-right: 0.2em;padding-left: 0.2em;position: relative;}#sk-container-id-1 div.sk-item {position: relative;z-index: 1;}#sk-container-id-1 div.sk-parallel {display: flex;align-items: stretch;justify-content: center;background-color: white;position: relative;}#sk-container-id-1 div.sk-item::before, #sk-container-id-1 div.sk-parallel-item::before {content: \"\";position: absolute;border-left: 1px solid gray;box-sizing: border-box;top: 0;bottom: 0;left: 50%;z-index: -1;}#sk-container-id-1 div.sk-parallel-item {display: flex;flex-direction: column;z-index: 1;position: relative;background-color: white;}#sk-container-id-1 div.sk-parallel-item:first-child::after {align-self: flex-end;width: 50%;}#sk-container-id-1 div.sk-parallel-item:last-child::after {align-self: flex-start;width: 50%;}#sk-container-id-1 div.sk-parallel-item:only-child::after {width: 0;}#sk-container-id-1 div.sk-dashed-wrapped {border: 1px dashed gray;margin: 0 0.4em 0.5em 0.4em;box-sizing: border-box;padding-bottom: 0.4em;background-color: white;}#sk-container-id-1 div.sk-label label {font-family: monospace;font-weight: bold;display: inline-block;line-height: 1.2em;}#sk-container-id-1 div.sk-label-container {text-align: center;}#sk-container-id-1 div.sk-container {/* jupyter's `normalize.less` sets `[hidden] { display: none; }` but bootstrap.min.css set `[hidden] { display: none !important; }` so we also need the `!important` here to be able to override the default hidden behavior on the sphinx rendered scikit-learn.org. See: https://github.com/scikit-learn/scikit-learn/issues/21755 */display: inline-block !important;position: relative;}#sk-container-id-1 div.sk-text-repr-fallback {display: none;}</style><div id=\"sk-container-id-1\" class=\"sk-top-container\"><div class=\"sk-text-repr-fallback\"><pre>RandomForestClassifier(random_state=42)</pre><b>In a Jupyter environment, please rerun this cell to show the HTML representation or trust the notebook. <br />On GitHub, the HTML representation is unable to render, please try loading this page with nbviewer.org.</b></div><div class=\"sk-container\" hidden><div class=\"sk-item\"><div class=\"sk-estimator sk-toggleable\"><input class=\"sk-toggleable__control sk-hidden--visually\" id=\"sk-estimator-id-1\" type=\"checkbox\" checked><label for=\"sk-estimator-id-1\" class=\"sk-toggleable__label sk-toggleable__label-arrow\">RandomForestClassifier</label><div class=\"sk-toggleable__content\"><pre>RandomForestClassifier(random_state=42)</pre></div></div></div></div></div>"
            ]
          },
          "metadata": {},
          "execution_count": 53
        }
      ]
    },
    {
      "cell_type": "code",
      "source": [
        "# Random Forest feature importance in descending order\n",
        "importances = rnd_clf.feature_importances_\n",
        "sorted_idx = np.argsort(importances)[::-1]\n",
        "feat_labels = df.columns[0:]\n",
        "labels = []\n",
        "\n",
        "for f in range(X_train.shape[1]):\n",
        "    print(\"%2d) %-*s %f\" % (f + 1, 30,\n",
        "                            feat_labels[sorted_idx[f]],\n",
        "                            importances[sorted_idx[f]]))\n",
        "    labels.append(feat_labels[sorted_idx[f]])"
      ],
      "metadata": {
        "colab": {
          "base_uri": "https://localhost:8080/"
        },
        "id": "CiW4bFgOuL4w",
        "outputId": "baeb62a6-6c37-4330-f5fa-d0042e52fe62"
      },
      "execution_count": null,
      "outputs": [
        {
          "output_type": "stream",
          "name": "stdout",
          "text": [
            " 1) FRNDAC04                       0.038641\n",
            " 2) DELPSL                         0.022505\n",
            " 3) ATTVIO03                       0.021975\n",
            " 4) FRNDAC08                       0.021715\n",
            " 5) ATTVIO01                       0.021024\n",
            " 6) SCOUNTRY                       0.019911\n",
            " 7) SELFC05                        0.019775\n",
            " 8) DELPAS                         0.016438\n",
            " 9) FRNDAC03                       0.016218\n",
            "10) MALE                           0.015456\n",
            "11) DELPDR                         0.014963\n",
            "12) NHOOD07                        0.014912\n",
            "13) SELFC04                        0.014901\n",
            "14) NIGHTACT                       0.014589\n",
            "15) SELFC11                        0.013657\n",
            "16) ATTVIO04                       0.013232\n",
            "17) SELFC06                        0.012689\n",
            "18) AFTSCH                         0.012399\n",
            "19) ACTIV06                        0.012019\n",
            "20) ATTVIO02                       0.011776\n",
            "21) TRUANCY                        0.011693\n",
            "22) KNOWFR                         0.011518\n",
            "23) ACTIV05                        0.011390\n",
            "24) ATSCH06                        0.010893\n",
            "25) ACTIV01                        0.010769\n",
            "26) ATTVIO05                       0.010592\n",
            "27) LEISFAM                        0.010581\n",
            "28) SELFC02                        0.010317\n",
            "29) SELFC10                        0.010038\n",
            "30) ACTIV03                        0.010033\n",
            "31) GRPEXIST                       0.010008\n",
            "32) ACCIDP                         0.009854\n",
            "33) ATSCH07                        0.009783\n",
            "34) SELFC12                        0.009684\n",
            "35) FRNDAC06                       0.009586\n",
            "36) SELFC01                        0.009566\n",
            "37) ATSCH03                        0.009403\n",
            "38) OBEYTIME                       0.009185\n",
            "39) ATSCH05                        0.009131\n",
            "40) DINNFAM                        0.009104\n",
            "41) FRNDAC07                       0.009026\n",
            "42) ACTIV02                        0.008926\n",
            "43) NHOOD09                        0.008771\n",
            "44) NHOOD12                        0.008739\n",
            "45) SELFC03                        0.008681\n",
            "46) FRNDAC09                       0.008666\n",
            "47) ATTSCH                         0.008635\n",
            "48) NHOOD05                        0.008632\n",
            "49) NHOOD02                        0.008466\n",
            "50) NHOOD11                        0.008416\n",
            "51) ATSCH02                        0.008363\n",
            "52) SELFC08                        0.008320\n",
            "53) NHOOD04                        0.008269\n",
            "54) NHOOD10                        0.008227\n",
            "55) DELPBU                         0.008215\n",
            "56) ACTIV04                        0.008137\n",
            "57) NHOOD13                        0.008005\n",
            "58) SELFC07                        0.007998\n",
            "59) FRNDAC01                       0.007966\n",
            "60) SELFC09                        0.007862\n",
            "61) GRPGEND                        0.007675\n",
            "62) ATSCH04                        0.007591\n",
            "63) ATSCH01                        0.007533\n",
            "64) WORKMOTH                       0.007475\n",
            "65) GRPETHN                        0.007327\n",
            "66) NHOOD01                        0.007306\n",
            "67) NHOOD03                        0.007238\n",
            "68) NHOOD08                        0.006930\n",
            "69) ATSCH08                        0.006929\n",
            "70) NHOOD06                        0.006784\n",
            "71) ACHIEV                         0.006767\n",
            "72) GRPILLDO                       0.006687\n",
            "73) ACTIV07                        0.006592\n",
            "74) WORKFATH                       0.006479\n",
            "75) FAMILY                         0.006156\n",
            "76) GRPILLAC                       0.006062\n",
            "77) LEISSP04                       0.005862\n",
            "78) GETALFA                        0.005498\n",
            "79) GETALMO                        0.005371\n",
            "80) FRNDAC05                       0.005113\n",
            "81) GRPAGE02                       0.005086\n",
            "82) DELPEX                         0.005084\n",
            "83) ETHNFRND                       0.005048\n",
            "84) GRPGANG                        0.005004\n",
            "85) GRPPUBL                        0.004919\n",
            "86) GRPAGE03                       0.004875\n",
            "87) TRANSP03                       0.004723\n",
            "88) LIFEEV03                       0.004722\n",
            "89) TELLTIME                       0.004671\n",
            "90) REPGRADE                       0.004502\n",
            "91) TRANSP06                       0.004432\n",
            "92) TRANSP02                       0.004332\n",
            "93) LEISSP02                       0.004294\n",
            "94) VICTHEFP                       0.004237\n",
            "95) FRNDAC02                       0.004042\n",
            "96) LIFEEV05                       0.003964\n",
            "97) DISCRIM                        0.003898\n",
            "98) BIRTHPF                        0.003812\n",
            "99) TRANSP04                       0.003757\n",
            "100) LEISSP03                       0.003695\n",
            "101) LIFEEV04                       0.003684\n",
            "102) BIRTHPM                        0.003394\n",
            "103) OWNROOM                        0.003287\n",
            "104) GRPAGE04                       0.002966\n",
            "105) VICBULLP                       0.002873\n",
            "106) LIFEEV08                       0.002746\n",
            "107) LIFEEV07                       0.002628\n",
            "108) GRPAGE01                       0.002579\n",
            "109) TRANSP05                       0.002543\n",
            "110) TRANSP07                       0.002504\n",
            "111) COMPUSE                        0.002458\n",
            "112) GRPAGE05                       0.002374\n",
            "113) VICASSAP                       0.002335\n",
            "114) LANGH1                         0.002247\n",
            "115) FAMILCAR                       0.002235\n",
            "116) LIFEEV06                       0.002083\n",
            "117) OWNMOBPH                       0.002028\n",
            "118) BIRTHP                         0.001969\n",
            "119) AGEGROUP                       0.001814\n",
            "120) VICROBBP                       0.001790\n",
            "121) LEISSP01                       0.001781\n",
            "122) GROUPFR                        0.001675\n",
            "123) LIFEEV01                       0.001530\n",
            "124) LIFEEV02                       0.001138\n",
            "125) TRANSP01                       0.000621\n"
          ]
        }
      ]
    },
    {
      "cell_type": "code",
      "source": [
        "# Build a word cloud to visualize top 15 features for presentation\n",
        "df_word = pd.DataFrame(labels, columns = ['Feat_Names'])"
      ],
      "metadata": {
        "id": "c1afluYspIHk"
      },
      "execution_count": null,
      "outputs": []
    },
    {
      "cell_type": "code",
      "source": [
        "df_word.shape"
      ],
      "metadata": {
        "colab": {
          "base_uri": "https://localhost:8080/"
        },
        "id": "qSUioLs1ry5v",
        "outputId": "403a4d27-36df-4ece-ca12-c06afe5b4c75"
      },
      "execution_count": null,
      "outputs": [
        {
          "output_type": "execute_result",
          "data": {
            "text/plain": [
              "(125, 1)"
            ]
          },
          "metadata": {},
          "execution_count": 56
        }
      ]
    },
    {
      "cell_type": "code",
      "source": [
        "df_word = df_word.drop(df_word.index[15:])\n"
      ],
      "metadata": {
        "id": "GhJDXb_6sgCG"
      },
      "execution_count": null,
      "outputs": []
    },
    {
      "cell_type": "code",
      "source": [
        "df_word.shape"
      ],
      "metadata": {
        "colab": {
          "base_uri": "https://localhost:8080/"
        },
        "id": "dljym18EsYrS",
        "outputId": "b9d85b99-edae-4625-cd54-032f16a3c6e1"
      },
      "execution_count": null,
      "outputs": [
        {
          "output_type": "execute_result",
          "data": {
            "text/plain": [
              "(15, 1)"
            ]
          },
          "metadata": {},
          "execution_count": 58
        }
      ]
    },
    {
      "cell_type": "code",
      "source": [
        "from wordcloud import WordCloud\n",
        "from wordcloud import ImageColorGenerator\n",
        "from wordcloud import STOPWORDS\n",
        "\n",
        "text = \" \".join(i for i in df_word['Feat_Names'])\n",
        "stopwords = set(STOPWORDS)\n",
        "wordcloud = WordCloud(stopwords=stopwords, background_color=\"white\").generate(text)\n",
        "plt.figure( figsize=(7,7))\n",
        "plt.imshow(wordcloud, interpolation='bilinear')\n",
        "plt.axis(\"off\")\n",
        "plt.show()"
      ],
      "metadata": {
        "colab": {
          "base_uri": "https://localhost:8080/",
          "height": 308
        },
        "id": "yfkvq9imr19b",
        "outputId": "ef001ba0-2388-4c4a-af07-5c7c2514fdc5"
      },
      "execution_count": null,
      "outputs": [
        {
          "output_type": "display_data",
          "data": {
            "text/plain": [
              "<Figure size 700x700 with 1 Axes>"
            ],
            "image/png": "[encoded data removed]"
          },
          "metadata": {}
        }
      ]
    },
    {
      "cell_type": "code",
      "source": [
        "# Top 15 features based on feature_importances_\n",
        "labels[0:14]"
      ],
      "metadata": {
        "colab": {
          "base_uri": "https://localhost:8080/"
        },
        "id": "dp85ZuxWCf4D",
        "outputId": "4f6872d3-8317-43de-d103-b64e25407ab4"
      },
      "execution_count": null,
      "outputs": [
        {
          "output_type": "execute_result",
          "data": {
            "text/plain": [
              "['FRNDAC04',\n",
              " 'DELPSL',\n",
              " 'ATTVIO03',\n",
              " 'FRNDAC08',\n",
              " 'ATTVIO01',\n",
              " 'SCOUNTRY',\n",
              " 'SELFC05',\n",
              " 'DELPAS',\n",
              " 'FRNDAC03',\n",
              " 'MALE',\n",
              " 'DELPDR',\n",
              " 'NHOOD07',\n",
              " 'SELFC04',\n",
              " 'NIGHTACT']"
            ]
          },
          "metadata": {},
          "execution_count": 60
        }
      ]
    },
    {
      "cell_type": "code",
      "source": [
        "# Get the number of features in the original DataFrame\n",
        "num_features = df.shape[1]\n",
        "\n",
        "# Make sure feat_labels contains the correct number of feature labels\n",
        "feat_labels = df.columns[:num_features]\n",
        "\n",
        "# Check that importances has the same length as the number of features\n",
        "if len(importances) != num_features:\n",
        "    # If not, only include the first num_features importances\n",
        "    importances = importances[:num_features]\n",
        "\n",
        "# Sort feature importances in descending order\n",
        "indices = np.argsort(importances)[::-1]\n",
        "\n",
        "# Rearrange feature names so they match the sorted feature importances\n",
        "names = [feat_labels[i] for i in indices]\n",
        "\n",
        "plt.figure()\n",
        "plt.title(\"Feature Importance\")\n",
        "plt.bar(range(len(names)), importances[indices])\n",
        "#plt.xticks(range(len(names)), names, rotation=90)\n",
        "plt.show()\n"
      ],
      "metadata": {
        "colab": {
          "base_uri": "https://localhost:8080/",
          "height": 452
        },
        "id": "0gc8-2WIxvz0",
        "outputId": "89175103-02e3-44f1-8484-54b41b6a6c10"
      },
      "execution_count": null,
      "outputs": [
        {
          "output_type": "display_data",
          "data": {
            "text/plain": [
              "<Figure size 640x480 with 1 Axes>"
            ],
            "image/png": "[encoded data removed]"
          },
          "metadata": {}
        }
      ]
    },
    {
      "cell_type": "code",
      "source": [
        "# Features with importance of 0.075 or greater based on print out of feature_importances and plot\n",
        "rf_imps =  labels[:62]"
      ],
      "metadata": {
        "id": "dFm5SoKkwxtZ"
      },
      "execution_count": null,
      "outputs": []
    },
    {
      "cell_type": "code",
      "source": [
        "np.array(rf_imps)"
      ],
      "metadata": {
        "colab": {
          "base_uri": "https://localhost:8080/"
        },
        "id": "COU-Eqc9DvwY",
        "outputId": "923566af-eec0-4db7-921a-1a0059ff609a"
      },
      "execution_count": null,
      "outputs": [
        {
          "output_type": "execute_result",
          "data": {
            "text/plain": [
              "array(['FRNDAC04', 'DELPSL', 'ATTVIO03', 'FRNDAC08', 'ATTVIO01',\n",
              "       'SCOUNTRY', 'SELFC05', 'DELPAS', 'FRNDAC03', 'MALE', 'DELPDR',\n",
              "       'NHOOD07', 'SELFC04', 'NIGHTACT', 'SELFC11', 'ATTVIO04', 'SELFC06',\n",
              "       'AFTSCH', 'ACTIV06', 'ATTVIO02', 'TRUANCY', 'KNOWFR', 'ACTIV05',\n",
              "       'ATSCH06', 'ACTIV01', 'ATTVIO05', 'LEISFAM', 'SELFC02', 'SELFC10',\n",
              "       'ACTIV03', 'GRPEXIST', 'ACCIDP', 'ATSCH07', 'SELFC12', 'FRNDAC06',\n",
              "       'SELFC01', 'ATSCH03', 'OBEYTIME', 'ATSCH05', 'DINNFAM', 'FRNDAC07',\n",
              "       'ACTIV02', 'NHOOD09', 'NHOOD12', 'SELFC03', 'FRNDAC09', 'ATTSCH',\n",
              "       'NHOOD05', 'NHOOD02', 'NHOOD11', 'ATSCH02', 'SELFC08', 'NHOOD04',\n",
              "       'NHOOD10', 'DELPBU', 'ACTIV04', 'NHOOD13', 'SELFC07', 'FRNDAC01',\n",
              "       'SELFC09', 'GRPGEND', 'ATSCH04'], dtype='<U8')"
            ]
          },
          "metadata": {},
          "execution_count": 63
        }
      ]
    },
    {
      "cell_type": "code",
      "source": [
        "# Apply RF-Importance feature selection to X_train X_test\n",
        "X_train_rf_imp = X_train.loc[:, rf_imps]\n",
        "X_test_rf_imp = X_test.loc[:, rf_imps]"
      ],
      "metadata": {
        "id": "hFequBjTxAG-"
      },
      "execution_count": null,
      "outputs": []
    },
    {
      "cell_type": "code",
      "source": [
        "X_train_rf_imp.shape"
      ],
      "metadata": {
        "colab": {
          "base_uri": "https://localhost:8080/"
        },
        "id": "Gma2dhL1xMMh",
        "outputId": "bd2058a4-9f6f-436e-d6c3-02b53f86fde0"
      },
      "execution_count": null,
      "outputs": [
        {
          "output_type": "execute_result",
          "data": {
            "text/plain": [
              "(30052, 62)"
            ]
          },
          "metadata": {},
          "execution_count": 65
        }
      ]
    },
    {
      "cell_type": "code",
      "source": [
        "X_train_rf_imp.columns"
      ],
      "metadata": {
        "colab": {
          "base_uri": "https://localhost:8080/"
        },
        "id": "oVHmc2f-xU04",
        "outputId": "aca42ef4-b200-4c67-d5f1-a84453159ae9"
      },
      "execution_count": null,
      "outputs": [
        {
          "output_type": "execute_result",
          "data": {
            "text/plain": [
              "Index(['FRNDAC04', 'DELPSL', 'ATTVIO03', 'FRNDAC08', 'ATTVIO01', 'SCOUNTRY',\n",
              "       'SELFC05', 'DELPAS', 'FRNDAC03', 'MALE', 'DELPDR', 'NHOOD07', 'SELFC04',\n",
              "       'NIGHTACT', 'SELFC11', 'ATTVIO04', 'SELFC06', 'AFTSCH', 'ACTIV06',\n",
              "       'ATTVIO02', 'TRUANCY', 'KNOWFR', 'ACTIV05', 'ATSCH06', 'ACTIV01',\n",
              "       'ATTVIO05', 'LEISFAM', 'SELFC02', 'SELFC10', 'ACTIV03', 'GRPEXIST',\n",
              "       'ACCIDP', 'ATSCH07', 'SELFC12', 'FRNDAC06', 'SELFC01', 'ATSCH03',\n",
              "       'OBEYTIME', 'ATSCH05', 'DINNFAM', 'FRNDAC07', 'ACTIV02', 'NHOOD09',\n",
              "       'NHOOD12', 'SELFC03', 'FRNDAC09', 'ATTSCH', 'NHOOD05', 'NHOOD02',\n",
              "       'NHOOD11', 'ATSCH02', 'SELFC08', 'NHOOD04', 'NHOOD10', 'DELPBU',\n",
              "       'ACTIV04', 'NHOOD13', 'SELFC07', 'FRNDAC01', 'SELFC09', 'GRPGEND',\n",
              "       'ATSCH04'],\n",
              "      dtype='object')"
            ]
          },
          "metadata": {},
          "execution_count": 165
        }
      ]
    },
    {
      "cell_type": "markdown",
      "source": [
        "# Models"
      ],
      "metadata": {
        "id": "Ey05K2hesydW"
      }
    },
    {
      "cell_type": "markdown",
      "source": [
        "--------------------------------------------"
      ],
      "metadata": {
        "id": "qME8YNV3AYEr"
      }
    },
    {
      "cell_type": "markdown",
      "source": [
        "## Logistic Regression"
      ],
      "metadata": {
        "id": "t595q7WmqY6V"
      }
    },
    {
      "cell_type": "markdown",
      "source": [
        "### Log Reg Baseline"
      ],
      "metadata": {
        "id": "8LbiUUlls10R"
      }
    },
    {
      "cell_type": "code",
      "source": [
        "log_clf = LogisticRegression(max_iter=2000, random_state=42)"
      ],
      "metadata": {
        "id": "Y-kb_-nGszu6"
      },
      "execution_count": null,
      "outputs": []
    },
    {
      "cell_type": "code",
      "source": [
        "log_clf.fit(X_train, y_train)"
      ],
      "metadata": {
        "colab": {
          "base_uri": "https://localhost:8080/",
          "height": 74
        },
        "id": "ZzANojuTLAq9",
        "outputId": "619f850d-badf-403f-fa25-b3d7256a37ad"
      },
      "execution_count": null,
      "outputs": [
        {
          "output_type": "execute_result",
          "data": {
            "text/plain": [
              "LogisticRegression(max_iter=2000, random_state=42)"
            ],
            "text/html": [
              "<style>#sk-container-id-3 {color: black;background-color: white;}#sk-container-id-3 pre{padding: 0;}#sk-container-id-3 div.sk-toggleable {background-color: white;}#sk-container-id-3 label.sk-toggleable__label {cursor: pointer;display: block;width: 100%;margin-bottom: 0;padding: 0.3em;box-sizing: border-box;text-align: center;}#sk-container-id-3 label.sk-toggleable__label-arrow:before {content: \"▸\";float: left;margin-right: 0.25em;color: #696969;}#sk-container-id-3 label.sk-toggleable__label-arrow:hover:before {color: black;}#sk-container-id-3 div.sk-estimator:hover label.sk-toggleable__label-arrow:before {color: black;}#sk-container-id-3 div.sk-toggleable__content {max-height: 0;max-width: 0;overflow: hidden;text-align: left;background-color: #f0f8ff;}#sk-container-id-3 div.sk-toggleable__content pre {margin: 0.2em;color: black;border-radius: 0.25em;background-color: #f0f8ff;}#sk-container-id-3 input.sk-toggleable__control:checked~div.sk-toggleable__content {max-height: 200px;max-width: 100%;overflow: auto;}#sk-container-id-3 input.sk-toggleable__control:checked~label.sk-toggleable__label-arrow:before {content: \"▾\";}#sk-container-id-3 div.sk-estimator input.sk-toggleable__control:checked~label.sk-toggleable__label {background-color: #d4ebff;}#sk-container-id-3 div.sk-label input.sk-toggleable__control:checked~label.sk-toggleable__label {background-color: #d4ebff;}#sk-container-id-3 input.sk-hidden--visually {border: 0;clip: rect(1px 1px 1px 1px);clip: rect(1px, 1px, 1px, 1px);height: 1px;margin: -1px;overflow: hidden;padding: 0;position: absolute;width: 1px;}#sk-container-id-3 div.sk-estimator {font-family: monospace;background-color: #f0f8ff;border: 1px dotted black;border-radius: 0.25em;box-sizing: border-box;margin-bottom: 0.5em;}#sk-container-id-3 div.sk-estimator:hover {background-color: #d4ebff;}#sk-container-id-3 div.sk-parallel-item::after {content: \"\";width: 100%;border-bottom: 1px solid gray;flex-grow: 1;}#sk-container-id-3 div.sk-label:hover label.sk-toggleable__label {background-color: #d4ebff;}#sk-container-id-3 div.sk-serial::before {content: \"\";position: absolute;border-left: 1px solid gray;box-sizing: border-box;top: 0;bottom: 0;left: 50%;z-index: 0;}#sk-container-id-3 div.sk-serial {display: flex;flex-direction: column;align-items: center;background-color: white;padding-right: 0.2em;padding-left: 0.2em;position: relative;}#sk-container-id-3 div.sk-item {position: relative;z-index: 1;}#sk-container-id-3 div.sk-parallel {display: flex;align-items: stretch;justify-content: center;background-color: white;position: relative;}#sk-container-id-3 div.sk-item::before, #sk-container-id-3 div.sk-parallel-item::before {content: \"\";position: absolute;border-left: 1px solid gray;box-sizing: border-box;top: 0;bottom: 0;left: 50%;z-index: -1;}#sk-container-id-3 div.sk-parallel-item {display: flex;flex-direction: column;z-index: 1;position: relative;background-color: white;}#sk-container-id-3 div.sk-parallel-item:first-child::after {align-self: flex-end;width: 50%;}#sk-container-id-3 div.sk-parallel-item:last-child::after {align-self: flex-start;width: 50%;}#sk-container-id-3 div.sk-parallel-item:only-child::after {width: 0;}#sk-container-id-3 div.sk-dashed-wrapped {border: 1px dashed gray;margin: 0 0.4em 0.5em 0.4em;box-sizing: border-box;padding-bottom: 0.4em;background-color: white;}#sk-container-id-3 div.sk-label label {font-family: monospace;font-weight: bold;display: inline-block;line-height: 1.2em;}#sk-container-id-3 div.sk-label-container {text-align: center;}#sk-container-id-3 div.sk-container {/* jupyter's `normalize.less` sets `[hidden] { display: none; }` but bootstrap.min.css set `[hidden] { display: none !important; }` so we also need the `!important` here to be able to override the default hidden behavior on the sphinx rendered scikit-learn.org. See: https://github.com/scikit-learn/scikit-learn/issues/21755 */display: inline-block !important;position: relative;}#sk-container-id-3 div.sk-text-repr-fallback {display: none;}</style><div id=\"sk-container-id-3\" class=\"sk-top-container\"><div class=\"sk-text-repr-fallback\"><pre>LogisticRegression(max_iter=2000, random_state=42)</pre><b>In a Jupyter environment, please rerun this cell to show the HTML representation or trust the notebook. <br />On GitHub, the HTML representation is unable to render, please try loading this page with nbviewer.org.</b></div><div class=\"sk-container\" hidden><div class=\"sk-item\"><div class=\"sk-estimator sk-toggleable\"><input class=\"sk-toggleable__control sk-hidden--visually\" id=\"sk-estimator-id-3\" type=\"checkbox\" checked><label for=\"sk-estimator-id-3\" class=\"sk-toggleable__label sk-toggleable__label-arrow\">LogisticRegression</label><div class=\"sk-toggleable__content\"><pre>LogisticRegression(max_iter=2000, random_state=42)</pre></div></div></div></div></div>"
            ]
          },
          "metadata": {},
          "execution_count": 167
        }
      ]
    },
    {
      "cell_type": "code",
      "source": [
        "y_pred = log_clf.predict(X_test)"
      ],
      "metadata": {
        "id": "liJ7kzPpLD_X"
      },
      "execution_count": null,
      "outputs": []
    },
    {
      "cell_type": "code",
      "source": [
        "print(classification_report(y_test, y_pred))"
      ],
      "metadata": {
        "colab": {
          "base_uri": "https://localhost:8080/"
        },
        "id": "tgRuRRdHORyD",
        "outputId": "b19f9327-f99b-4616-8880-e46a2a725f72"
      },
      "execution_count": null,
      "outputs": [
        {
          "output_type": "stream",
          "name": "stdout",
          "text": [
            "              precision    recall  f1-score   support\n",
            "\n",
            "       False       0.83      0.93      0.88      9659\n",
            "        True       0.66      0.41      0.51      3221\n",
            "\n",
            "    accuracy                           0.80     12880\n",
            "   macro avg       0.74      0.67      0.69     12880\n",
            "weighted avg       0.79      0.80      0.78     12880\n",
            "\n"
          ]
        }
      ]
    },
    {
      "cell_type": "code",
      "source": [
        "print(f1_score(y_test, y_pred))"
      ],
      "metadata": {
        "colab": {
          "base_uri": "https://localhost:8080/"
        },
        "id": "N7ua-sA5U7YC",
        "outputId": "ba08d5fb-dfb8-4f8e-efa5-2f55def00fd3"
      },
      "execution_count": null,
      "outputs": [
        {
          "output_type": "stream",
          "name": "stdout",
          "text": [
            "0.508331737215093\n"
          ]
        }
      ]
    },
    {
      "cell_type": "markdown",
      "source": [
        "### Log Reg P-Value"
      ],
      "metadata": {
        "id": "aD09jEJyiPW7"
      }
    },
    {
      "cell_type": "code",
      "source": [
        "log_clf_pval = LogisticRegression(max_iter=2000, random_state=42)\n",
        "log_clf_pval.fit(X_train_pval, y_train)\n",
        "y_pred_pval = log_clf_pval.predict(X_test_pval)"
      ],
      "metadata": {
        "id": "JvKuZ28BiSM1"
      },
      "execution_count": null,
      "outputs": []
    },
    {
      "cell_type": "code",
      "source": [
        "print(classification_report(y_test, y_pred_pval))"
      ],
      "metadata": {
        "colab": {
          "base_uri": "https://localhost:8080/"
        },
        "id": "DXsB4bqXof07",
        "outputId": "ca889786-60bf-4da5-977c-1c7dee3f7bff"
      },
      "execution_count": null,
      "outputs": [
        {
          "output_type": "stream",
          "name": "stdout",
          "text": [
            "              precision    recall  f1-score   support\n",
            "\n",
            "       False       0.82      0.93      0.87      9659\n",
            "        True       0.66      0.40      0.50      3221\n",
            "\n",
            "    accuracy                           0.80     12880\n",
            "   macro avg       0.74      0.67      0.69     12880\n",
            "weighted avg       0.78      0.80      0.78     12880\n",
            "\n"
          ]
        }
      ]
    },
    {
      "cell_type": "code",
      "source": [
        "print(f1_score(y_test, y_pred_pval))"
      ],
      "metadata": {
        "colab": {
          "base_uri": "https://localhost:8080/"
        },
        "id": "hKXG5NVgU_nb",
        "outputId": "94cb81a5-40e7-4756-ff0f-df76c70e0a64"
      },
      "execution_count": null,
      "outputs": [
        {
          "output_type": "stream",
          "name": "stdout",
          "text": [
            "0.4997114829774957\n"
          ]
        }
      ]
    },
    {
      "cell_type": "markdown",
      "source": [
        "### Log Reg Feat_Importance"
      ],
      "metadata": {
        "id": "3rwISUjgiTEh"
      }
    },
    {
      "cell_type": "code",
      "source": [
        "log_clf_rf_imp = LogisticRegression(max_iter=2000, random_state=42)\n",
        "log_clf_rf_imp.fit(X_train_rf_imp, y_train)\n",
        "y_pred_pval2 = log_clf_rf_imp.predict(X_test_rf_imp)"
      ],
      "metadata": {
        "id": "LAJ5rqKHiYHC"
      },
      "execution_count": null,
      "outputs": []
    },
    {
      "cell_type": "code",
      "source": [
        "print(classification_report(y_test, y_pred_pval2))"
      ],
      "metadata": {
        "colab": {
          "base_uri": "https://localhost:8080/"
        },
        "id": "mg8KI4vFpLfD",
        "outputId": "d4166914-b2f6-485b-ac28-84b93b53ad04"
      },
      "execution_count": null,
      "outputs": [
        {
          "output_type": "stream",
          "name": "stdout",
          "text": [
            "              precision    recall  f1-score   support\n",
            "\n",
            "       False       0.82      0.94      0.87      9659\n",
            "        True       0.66      0.38      0.48      3221\n",
            "\n",
            "    accuracy                           0.80     12880\n",
            "   macro avg       0.74      0.66      0.68     12880\n",
            "weighted avg       0.78      0.80      0.77     12880\n",
            "\n"
          ]
        }
      ]
    },
    {
      "cell_type": "code",
      "source": [
        "print(f1_score(y_test, y_pred_pval2))"
      ],
      "metadata": {
        "colab": {
          "base_uri": "https://localhost:8080/"
        },
        "id": "HArvnoxlYzka",
        "outputId": "f204b0a1-6291-4257-ace8-cd0a11cdf9d3"
      },
      "execution_count": null,
      "outputs": [
        {
          "output_type": "stream",
          "name": "stdout",
          "text": [
            "0.4787170857255989\n"
          ]
        }
      ]
    },
    {
      "cell_type": "markdown",
      "source": [
        "### Log Reg Hyper-parameter Tune"
      ],
      "metadata": {
        "id": "CtA4_ydxBUOg"
      }
    },
    {
      "cell_type": "code",
      "source": [
        "# define the parameter grid to search over\n",
        "param_grid = {\n",
        "    'penalty': ['l1', 'l2'],\n",
        "    'C': [0.001, 0.01, 0.1, 1, 10, 100],\n",
        "    'solver': ['lbfgs', 'liblinear', 'saga', 'newton-cg'],\n",
        "    'max_iter': [2000]\n",
        "}"
      ],
      "metadata": {
        "id": "d1a-Q1LSBXvj"
      },
      "execution_count": null,
      "outputs": []
    },
    {
      "cell_type": "code",
      "source": [
        "# define the grid search cross-validation object\n",
        "grid_search = GridSearchCV(log_clf_pval, param_grid=param_grid, cv=5, scoring='f1')\n",
        "grid_search.fit(X_train_pval, y_train)"
      ],
      "metadata": {
        "id": "xlgNnkQjk1MV",
        "colab": {
          "base_uri": "https://localhost:8080/",
          "height": 796
        },
        "outputId": "5a574023-4bcd-4d2a-db24-219fe0740fca"
      },
      "execution_count": null,
      "outputs": [
        {
          "output_type": "stream",
          "name": "stderr",
          "text": [
            "/usr/local/lib/python3.10/dist-packages/sklearn/model_selection/_validation.py:378: FitFailedWarning: \n",
            "60 fits failed out of a total of 240.\n",
            "The score on these train-test partitions for these parameters will be set to nan.\n",
            "If these failures are not expected, you can try to debug them by setting error_score='raise'.\n",
            "\n",
            "Below are more details about the failures:\n",
            "--------------------------------------------------------------------------------\n",
            "30 fits failed with the following error:\n",
            "Traceback (most recent call last):\n",
            "  File \"/usr/local/lib/python3.10/dist-packages/sklearn/model_selection/_validation.py\", line 686, in _fit_and_score\n",
            "    estimator.fit(X_train, y_train, **fit_params)\n",
            "  File \"/usr/local/lib/python3.10/dist-packages/sklearn/linear_model/_logistic.py\", line 1162, in fit\n",
            "    solver = _check_solver(self.solver, self.penalty, self.dual)\n",
            "  File \"/usr/local/lib/python3.10/dist-packages/sklearn/linear_model/_logistic.py\", line 54, in _check_solver\n",
            "    raise ValueError(\n",
            "ValueError: Solver lbfgs supports only 'l2' or 'none' penalties, got l1 penalty.\n",
            "\n",
            "--------------------------------------------------------------------------------\n",
            "30 fits failed with the following error:\n",
            "Traceback (most recent call last):\n",
            "  File \"/usr/local/lib/python3.10/dist-packages/sklearn/model_selection/_validation.py\", line 686, in _fit_and_score\n",
            "    estimator.fit(X_train, y_train, **fit_params)\n",
            "  File \"/usr/local/lib/python3.10/dist-packages/sklearn/linear_model/_logistic.py\", line 1162, in fit\n",
            "    solver = _check_solver(self.solver, self.penalty, self.dual)\n",
            "  File \"/usr/local/lib/python3.10/dist-packages/sklearn/linear_model/_logistic.py\", line 54, in _check_solver\n",
            "    raise ValueError(\n",
            "ValueError: Solver newton-cg supports only 'l2' or 'none' penalties, got l1 penalty.\n",
            "\n",
            "  warnings.warn(some_fits_failed_message, FitFailedWarning)\n",
            "/usr/local/lib/python3.10/dist-packages/sklearn/model_selection/_search.py:952: UserWarning: One or more of the test scores are non-finite: [       nan 0.16018773 0.14190453        nan 0.44008202 0.44341505\n",
            " 0.44116954 0.44008202        nan 0.45569118 0.45028807        nan\n",
            " 0.4811991  0.48309578 0.48158727 0.4811991         nan 0.49256116\n",
            " 0.49199973        nan 0.49356201 0.49348539 0.49331254 0.49348224\n",
            "        nan 0.49378185 0.49413798        nan 0.49421535 0.49481559\n",
            " 0.49452876 0.49435387        nan 0.4948334  0.49439864        nan\n",
            " 0.49456008 0.49456881 0.49456751 0.4949926         nan 0.49496086\n",
            " 0.49439864        nan 0.49498653 0.49465498 0.49439864 0.4949926 ]\n",
            "  warnings.warn(\n"
          ]
        },
        {
          "output_type": "execute_result",
          "data": {
            "text/plain": [
              "GridSearchCV(cv=5, estimator=LogisticRegression(max_iter=2000, random_state=42),\n",
              "             param_grid={'C': [0.001, 0.01, 0.1, 1, 10, 100],\n",
              "                         'max_iter': [2000], 'penalty': ['l1', 'l2'],\n",
              "                         'solver': ['lbfgs', 'liblinear', 'saga', 'newton-cg']},\n",
              "             scoring='f1')"
            ],
            "text/html": [
              "<style>#sk-container-id-4 {color: black;background-color: white;}#sk-container-id-4 pre{padding: 0;}#sk-container-id-4 div.sk-toggleable {background-color: white;}#sk-container-id-4 label.sk-toggleable__label {cursor: pointer;display: block;width: 100%;margin-bottom: 0;padding: 0.3em;box-sizing: border-box;text-align: center;}#sk-container-id-4 label.sk-toggleable__label-arrow:before {content: \"▸\";float: left;margin-right: 0.25em;color: #696969;}#sk-container-id-4 label.sk-toggleable__label-arrow:hover:before {color: black;}#sk-container-id-4 div.sk-estimator:hover label.sk-toggleable__label-arrow:before {color: black;}#sk-container-id-4 div.sk-toggleable__content {max-height: 0;max-width: 0;overflow: hidden;text-align: left;background-color: #f0f8ff;}#sk-container-id-4 div.sk-toggleable__content pre {margin: 0.2em;color: black;border-radius: 0.25em;background-color: #f0f8ff;}#sk-container-id-4 input.sk-toggleable__control:checked~div.sk-toggleable__content {max-height: 200px;max-width: 100%;overflow: auto;}#sk-container-id-4 input.sk-toggleable__control:checked~label.sk-toggleable__label-arrow:before {content: \"▾\";}#sk-container-id-4 div.sk-estimator input.sk-toggleable__control:checked~label.sk-toggleable__label {background-color: #d4ebff;}#sk-container-id-4 div.sk-label input.sk-toggleable__control:checked~label.sk-toggleable__label {background-color: #d4ebff;}#sk-container-id-4 input.sk-hidden--visually {border: 0;clip: rect(1px 1px 1px 1px);clip: rect(1px, 1px, 1px, 1px);height: 1px;margin: -1px;overflow: hidden;padding: 0;position: absolute;width: 1px;}#sk-container-id-4 div.sk-estimator {font-family: monospace;background-color: #f0f8ff;border: 1px dotted black;border-radius: 0.25em;box-sizing: border-box;margin-bottom: 0.5em;}#sk-container-id-4 div.sk-estimator:hover {background-color: #d4ebff;}#sk-container-id-4 div.sk-parallel-item::after {content: \"\";width: 100%;border-bottom: 1px solid gray;flex-grow: 1;}#sk-container-id-4 div.sk-label:hover label.sk-toggleable__label {background-color: #d4ebff;}#sk-container-id-4 div.sk-serial::before {content: \"\";position: absolute;border-left: 1px solid gray;box-sizing: border-box;top: 0;bottom: 0;left: 50%;z-index: 0;}#sk-container-id-4 div.sk-serial {display: flex;flex-direction: column;align-items: center;background-color: white;padding-right: 0.2em;padding-left: 0.2em;position: relative;}#sk-container-id-4 div.sk-item {position: relative;z-index: 1;}#sk-container-id-4 div.sk-parallel {display: flex;align-items: stretch;justify-content: center;background-color: white;position: relative;}#sk-container-id-4 div.sk-item::before, #sk-container-id-4 div.sk-parallel-item::before {content: \"\";position: absolute;border-left: 1px solid gray;box-sizing: border-box;top: 0;bottom: 0;left: 50%;z-index: -1;}#sk-container-id-4 div.sk-parallel-item {display: flex;flex-direction: column;z-index: 1;position: relative;background-color: white;}#sk-container-id-4 div.sk-parallel-item:first-child::after {align-self: flex-end;width: 50%;}#sk-container-id-4 div.sk-parallel-item:last-child::after {align-self: flex-start;width: 50%;}#sk-container-id-4 div.sk-parallel-item:only-child::after {width: 0;}#sk-container-id-4 div.sk-dashed-wrapped {border: 1px dashed gray;margin: 0 0.4em 0.5em 0.4em;box-sizing: border-box;padding-bottom: 0.4em;background-color: white;}#sk-container-id-4 div.sk-label label {font-family: monospace;font-weight: bold;display: inline-block;line-height: 1.2em;}#sk-container-id-4 div.sk-label-container {text-align: center;}#sk-container-id-4 div.sk-container {/* jupyter's `normalize.less` sets `[hidden] { display: none; }` but bootstrap.min.css set `[hidden] { display: none !important; }` so we also need the `!important` here to be able to override the default hidden behavior on the sphinx rendered scikit-learn.org. See: https://github.com/scikit-learn/scikit-learn/issues/21755 */display: inline-block !important;position: relative;}#sk-container-id-4 div.sk-text-repr-fallback {display: none;}</style><div id=\"sk-container-id-4\" class=\"sk-top-container\"><div class=\"sk-text-repr-fallback\"><pre>GridSearchCV(cv=5, estimator=LogisticRegression(max_iter=2000, random_state=42),\n",
              "             param_grid={&#x27;C&#x27;: [0.001, 0.01, 0.1, 1, 10, 100],\n",
              "                         &#x27;max_iter&#x27;: [2000], &#x27;penalty&#x27;: [&#x27;l1&#x27;, &#x27;l2&#x27;],\n",
              "                         &#x27;solver&#x27;: [&#x27;lbfgs&#x27;, &#x27;liblinear&#x27;, &#x27;saga&#x27;, &#x27;newton-cg&#x27;]},\n",
              "             scoring=&#x27;f1&#x27;)</pre><b>In a Jupyter environment, please rerun this cell to show the HTML representation or trust the notebook. <br />On GitHub, the HTML representation is unable to render, please try loading this page with nbviewer.org.</b></div><div class=\"sk-container\" hidden><div class=\"sk-item sk-dashed-wrapped\"><div class=\"sk-label-container\"><div class=\"sk-label sk-toggleable\"><input class=\"sk-toggleable__control sk-hidden--visually\" id=\"sk-estimator-id-4\" type=\"checkbox\" ><label for=\"sk-estimator-id-4\" class=\"sk-toggleable__label sk-toggleable__label-arrow\">GridSearchCV</label><div class=\"sk-toggleable__content\"><pre>GridSearchCV(cv=5, estimator=LogisticRegression(max_iter=2000, random_state=42),\n",
              "             param_grid={&#x27;C&#x27;: [0.001, 0.01, 0.1, 1, 10, 100],\n",
              "                         &#x27;max_iter&#x27;: [2000], &#x27;penalty&#x27;: [&#x27;l1&#x27;, &#x27;l2&#x27;],\n",
              "                         &#x27;solver&#x27;: [&#x27;lbfgs&#x27;, &#x27;liblinear&#x27;, &#x27;saga&#x27;, &#x27;newton-cg&#x27;]},\n",
              "             scoring=&#x27;f1&#x27;)</pre></div></div></div><div class=\"sk-parallel\"><div class=\"sk-parallel-item\"><div class=\"sk-item\"><div class=\"sk-label-container\"><div class=\"sk-label sk-toggleable\"><input class=\"sk-toggleable__control sk-hidden--visually\" id=\"sk-estimator-id-5\" type=\"checkbox\" ><label for=\"sk-estimator-id-5\" class=\"sk-toggleable__label sk-toggleable__label-arrow\">estimator: LogisticRegression</label><div class=\"sk-toggleable__content\"><pre>LogisticRegression(max_iter=2000, random_state=42)</pre></div></div></div><div class=\"sk-serial\"><div class=\"sk-item\"><div class=\"sk-estimator sk-toggleable\"><input class=\"sk-toggleable__control sk-hidden--visually\" id=\"sk-estimator-id-6\" type=\"checkbox\" ><label for=\"sk-estimator-id-6\" class=\"sk-toggleable__label sk-toggleable__label-arrow\">LogisticRegression</label><div class=\"sk-toggleable__content\"><pre>LogisticRegression(max_iter=2000, random_state=42)</pre></div></div></div></div></div></div></div></div></div></div>"
            ]
          },
          "metadata": {},
          "execution_count": 178
        }
      ]
    },
    {
      "cell_type": "code",
      "source": [
        "print(\"Best parameters: \", grid_search.best_params_)\n",
        "print(\"Best F1 score: \", grid_search.best_score_)"
      ],
      "metadata": {
        "id": "Hwmv1aWilmla",
        "colab": {
          "base_uri": "https://localhost:8080/"
        },
        "outputId": "99ce5708-5192-41f9-fef0-c132178243f1"
      },
      "execution_count": null,
      "outputs": [
        {
          "output_type": "stream",
          "name": "stdout",
          "text": [
            "Best parameters:  {'C': 10, 'max_iter': 2000, 'penalty': 'l2', 'solver': 'newton-cg'}\n",
            "Best F1 score:  0.49499260136491535\n"
          ]
        }
      ]
    },
    {
      "cell_type": "code",
      "source": [
        "# Best parameters:  {'C': 10, 'penalty': 'l2', 'solver': 'newton-cg'}"
      ],
      "metadata": {
        "id": "2crgSMN8G3U5"
      },
      "execution_count": null,
      "outputs": []
    },
    {
      "cell_type": "code",
      "source": [
        "log_final = LogisticRegression(C=10, penalty='l2', solver='newton-cg', max_iter=2000)\n",
        "log_final.fit(X_train_pval, y_train)\n",
        "y_pred_log_final = log_final.predict(X_test_pval)"
      ],
      "metadata": {
        "id": "puBWY3XuG6EP"
      },
      "execution_count": null,
      "outputs": []
    },
    {
      "cell_type": "code",
      "source": [
        "print(classification_report(y_test, y_pred_log_final))"
      ],
      "metadata": {
        "id": "nJA8DxlvpMOj",
        "colab": {
          "base_uri": "https://localhost:8080/"
        },
        "outputId": "0150112d-e327-4895-ec79-6c5ba0260cb4"
      },
      "execution_count": null,
      "outputs": [
        {
          "output_type": "stream",
          "name": "stdout",
          "text": [
            "              precision    recall  f1-score   support\n",
            "\n",
            "       False       0.82      0.93      0.87      9659\n",
            "        True       0.66      0.40      0.50      3221\n",
            "\n",
            "    accuracy                           0.80     12880\n",
            "   macro avg       0.74      0.67      0.69     12880\n",
            "weighted avg       0.78      0.80      0.78     12880\n",
            "\n"
          ]
        }
      ]
    },
    {
      "cell_type": "code",
      "source": [
        "print(f1_score(y_test, y_pred_log_final))"
      ],
      "metadata": {
        "colab": {
          "base_uri": "https://localhost:8080/"
        },
        "id": "Gbw_UOwFVGBt",
        "outputId": "2951d159-29ef-4241-bb2b-807707590d16"
      },
      "execution_count": null,
      "outputs": [
        {
          "output_type": "stream",
          "name": "stdout",
          "text": [
            "0.5000961723408348\n"
          ]
        }
      ]
    },
    {
      "cell_type": "markdown",
      "source": [
        "### Log Reg Confusion Matrix"
      ],
      "metadata": {
        "id": "O9UEgbTS_10g"
      }
    },
    {
      "cell_type": "code",
      "source": [
        "cm_log = confusion_matrix(y_test, y_pred_log_final)\n",
        "\n",
        "f, ax = plt.subplots(figsize =(3,3))\n",
        "sns.heatmap(cm_log,annot = True,cmap='Reds',linewidths=1,linecolor='k',square=True,mask=False,fmt = \".0f\",cbar=True,ax=ax)\n",
        "plt.xlabel(\"y_pred\")\n",
        "plt.ylabel(\"y_true\")\n",
        "plt.show()"
      ],
      "metadata": {
        "colab": {
          "base_uri": "https://localhost:8080/",
          "height": 288
        },
        "id": "KwN_QLST_6MQ",
        "outputId": "6ae44340-d0dd-4fd3-bd85-e3311187d38a"
      },
      "execution_count": null,
      "outputs": [
        {
          "output_type": "display_data",
          "data": {
            "text/plain": [
              "<Figure size 300x300 with 2 Axes>"
            ],
            "image/png": "[encoded data removed]"
          },
          "metadata": {}
        }
      ]
    },
    {
      "cell_type": "markdown",
      "source": [
        "### Log Reg Threshold tuning"
      ],
      "metadata": {
        "id": "wdObO2aOszVT"
      }
    },
    {
      "cell_type": "code",
      "source": [
        "# predict probabilities for test set\n",
        "y_pred_proba = log_final.predict_proba(X_test_pval)[:, 1]"
      ],
      "metadata": {
        "id": "RnFJiRekqaH0"
      },
      "execution_count": null,
      "outputs": []
    },
    {
      "cell_type": "code",
      "source": [
        "# calculate precision-recall curve\n",
        "precision, recall, thresholds = precision_recall_curve(y_test, y_pred_proba)"
      ],
      "metadata": {
        "id": "mhgxTSapqlqs"
      },
      "execution_count": null,
      "outputs": []
    },
    {
      "cell_type": "code",
      "source": [
        "# plot the precision-recall curve\n",
        "plt.figure(figsize=(5, 4))\n",
        "plt.plot(recall, precision)\n",
        "plt.xlabel('Recall')\n",
        "plt.ylabel('Precision')\n",
        "plt.title('Precision-Recall Curve')\n",
        "plt.show()"
      ],
      "metadata": {
        "colab": {
          "base_uri": "https://localhost:8080/",
          "height": 410
        },
        "id": "ES9HX--qqqwm",
        "outputId": "a38ce6b3-314a-4447-bb9d-9a367ac52bc8"
      },
      "execution_count": null,
      "outputs": [
        {
          "output_type": "display_data",
          "data": {
            "text/plain": [
              "<Figure size 500x400 with 1 Axes>"
            ],
            "image/png": "[encoded data removed]"
          },
          "metadata": {}
        }
      ]
    },
    {
      "cell_type": "code",
      "source": [
        "# calculate F1-score for each threshold\n",
        "f1_scores = [f1_score(y_test, y_pred_proba >= th) for th in thresholds]\n",
        "\n",
        "# find the threshold that maximizes the F1-score\n",
        "best_threshold = thresholds[np.argmax(f1_scores)]"
      ],
      "metadata": {
        "id": "ykGVbVTJrwnp"
      },
      "execution_count": null,
      "outputs": []
    },
    {
      "cell_type": "code",
      "source": [
        "# plot the F1-scores against the thresholds\n",
        "plt.plot(thresholds, f1_scores)\n",
        "plt.axvline(x=0.5, color='k', linestyle='--', label='Default threshold')\n",
        "plt.axvline(x=best_threshold, color='r', linestyle='--', label='Best threshold')\n",
        "plt.xlabel('Threshold')\n",
        "plt.ylabel('F1-score')\n",
        "plt.title('F1-score vs. Threshold')\n",
        "plt.legend()\n",
        "plt.show()"
      ],
      "metadata": {
        "colab": {
          "base_uri": "https://localhost:8080/",
          "height": 472
        },
        "id": "_9ENUSuuKcUa",
        "outputId": "891d7c8a-5e53-4750-c191-9f30b9a706e9"
      },
      "execution_count": null,
      "outputs": [
        {
          "output_type": "display_data",
          "data": {
            "text/plain": [
              "<Figure size 640x480 with 1 Axes>"
            ],
            "image/png": "[encoded data removed]"
          },
          "metadata": {}
        }
      ]
    },
    {
      "cell_type": "code",
      "source": [
        "best_threshold"
      ],
      "metadata": {
        "colab": {
          "base_uri": "https://localhost:8080/"
        },
        "id": "RWYi3wp0r1Kt",
        "outputId": "967d8a4a-4782-4656-a3e7-c6cf4527517b"
      },
      "execution_count": null,
      "outputs": [
        {
          "output_type": "execute_result",
          "data": {
            "text/plain": [
              "0.29771286877015407"
            ]
          },
          "metadata": {},
          "execution_count": 265
        }
      ]
    },
    {
      "cell_type": "code",
      "source": [
        "# set a threshold value (0.5 by default)\n",
        "#threshold = 0.2916142395850417\n",
        "threshold = 0.29771286877015407\n",
        "\n",
        "# adjust threshold and make predictions\n",
        "y_pred_thresh_log = np.where(y_pred_proba > threshold, 1, 0)"
      ],
      "metadata": {
        "id": "CRvnhzBOsU8c"
      },
      "execution_count": null,
      "outputs": []
    },
    {
      "cell_type": "markdown",
      "source": [
        "### Log Reg Metrics on Best Model"
      ],
      "metadata": {
        "id": "jWbdkywTCceT"
      }
    },
    {
      "cell_type": "code",
      "source": [
        "# Confusion Matrix, ROC-AUC?\n",
        "print(classification_report(y_test, y_pred_thresh_log))"
      ],
      "metadata": {
        "id": "WvKjs00rCf2g",
        "colab": {
          "base_uri": "https://localhost:8080/"
        },
        "outputId": "cbd5876f-31e9-4564-9f97-2b93cdb03b7d"
      },
      "execution_count": null,
      "outputs": [
        {
          "output_type": "stream",
          "name": "stdout",
          "text": [
            "              precision    recall  f1-score   support\n",
            "\n",
            "       False       0.88      0.81      0.84      9659\n",
            "        True       0.54      0.67      0.60      3221\n",
            "\n",
            "    accuracy                           0.78     12880\n",
            "   macro avg       0.71      0.74      0.72     12880\n",
            "weighted avg       0.80      0.78      0.78     12880\n",
            "\n"
          ]
        }
      ]
    },
    {
      "cell_type": "code",
      "source": [
        "print(f1_score(y_test, y_pred_thresh_log))"
      ],
      "metadata": {
        "colab": {
          "base_uri": "https://localhost:8080/"
        },
        "id": "QvK0Vy_VO1Z7",
        "outputId": "100f6869-9df1-4bcd-aa29-2a186f2a7bdf"
      },
      "execution_count": null,
      "outputs": [
        {
          "output_type": "stream",
          "name": "stdout",
          "text": [
            "0.5985563575791226\n"
          ]
        }
      ]
    },
    {
      "cell_type": "code",
      "source": [
        "print(accuracy_score(y_test, y_pred_thresh_log))"
      ],
      "metadata": {
        "colab": {
          "base_uri": "https://localhost:8080/"
        },
        "id": "ow5zsmEZAYiD",
        "outputId": "ab00662a-a607-4326-b21c-e9fcfe491da6"
      },
      "execution_count": null,
      "outputs": [
        {
          "output_type": "stream",
          "name": "stdout",
          "text": [
            "0.7754658385093167\n"
          ]
        }
      ]
    },
    {
      "cell_type": "code",
      "source": [
        "cm_log = confusion_matrix(y_test, y_pred_thresh_log)\n",
        "\n",
        "f, ax = plt.subplots(figsize =(3,3))\n",
        "sns.heatmap(cm_log,annot = True,cmap='Reds',linewidths=1,linecolor='k',square=True,mask=False,fmt = \".0f\",cbar=True,ax=ax)\n",
        "plt.xlabel(\"y_pred\")\n",
        "plt.ylabel(\"y_true\")\n",
        "plt.show()"
      ],
      "metadata": {
        "colab": {
          "base_uri": "https://localhost:8080/",
          "height": 288
        },
        "id": "xAffMnknWIay",
        "outputId": "58f829be-c21a-4d60-a204-ff3d3012daa9"
      },
      "execution_count": null,
      "outputs": [
        {
          "output_type": "display_data",
          "data": {
            "text/plain": [
              "<Figure size 300x300 with 2 Axes>"
            ],
            "image/png": "[encoded data removed]"
          },
          "metadata": {}
        }
      ]
    },
    {
      "cell_type": "code",
      "source": [
        "skplt.metrics.plot_roc(y_test, log_final.predict_proba(X_test_pval), plot_micro=False)\n",
        "plt.show()"
      ],
      "metadata": {
        "colab": {
          "base_uri": "https://localhost:8080/",
          "height": 472
        },
        "id": "N4VsODKgVNeP",
        "outputId": "5df6c42c-da7a-4f6e-a0ea-3dda59163b8a"
      },
      "execution_count": null,
      "outputs": [
        {
          "output_type": "display_data",
          "data": {
            "text/plain": [
              "<Figure size 640x480 with 1 Axes>"
            ],
            "image/png": "[encoded data removed]"
          },
          "metadata": {}
        }
      ]
    },
    {
      "cell_type": "markdown",
      "source": [
        "## Decision Tree"
      ],
      "metadata": {
        "id": "HRyWXSZas4lO"
      }
    },
    {
      "cell_type": "markdown",
      "source": [
        "### Decision Tree Baseline"
      ],
      "metadata": {
        "id": "jaKT5VlwqVRX"
      }
    },
    {
      "cell_type": "code",
      "source": [
        "# Tune parameters later\n",
        "dtc_clf = DecisionTreeClassifier(random_state=42)"
      ],
      "metadata": {
        "id": "82fVs7aMs1JC"
      },
      "execution_count": null,
      "outputs": []
    },
    {
      "cell_type": "code",
      "source": [
        "dtc_clf.fit(X_train, y_train)"
      ],
      "metadata": {
        "colab": {
          "base_uri": "https://localhost:8080/",
          "height": 74
        },
        "id": "2Q278ApjJOld",
        "outputId": "3cf4a214-560e-4dee-cd1c-d9b3d32594d6"
      },
      "execution_count": null,
      "outputs": [
        {
          "output_type": "execute_result",
          "data": {
            "text/plain": [
              "DecisionTreeClassifier(random_state=42)"
            ],
            "text/html": [
              "<style>#sk-container-id-5 {color: black;background-color: white;}#sk-container-id-5 pre{padding: 0;}#sk-container-id-5 div.sk-toggleable {background-color: white;}#sk-container-id-5 label.sk-toggleable__label {cursor: pointer;display: block;width: 100%;margin-bottom: 0;padding: 0.3em;box-sizing: border-box;text-align: center;}#sk-container-id-5 label.sk-toggleable__label-arrow:before {content: \"▸\";float: left;margin-right: 0.25em;color: #696969;}#sk-container-id-5 label.sk-toggleable__label-arrow:hover:before {color: black;}#sk-container-id-5 div.sk-estimator:hover label.sk-toggleable__label-arrow:before {color: black;}#sk-container-id-5 div.sk-toggleable__content {max-height: 0;max-width: 0;overflow: hidden;text-align: left;background-color: #f0f8ff;}#sk-container-id-5 div.sk-toggleable__content pre {margin: 0.2em;color: black;border-radius: 0.25em;background-color: #f0f8ff;}#sk-container-id-5 input.sk-toggleable__control:checked~div.sk-toggleable__content {max-height: 200px;max-width: 100%;overflow: auto;}#sk-container-id-5 input.sk-toggleable__control:checked~label.sk-toggleable__label-arrow:before {content: \"▾\";}#sk-container-id-5 div.sk-estimator input.sk-toggleable__control:checked~label.sk-toggleable__label {background-color: #d4ebff;}#sk-container-id-5 div.sk-label input.sk-toggleable__control:checked~label.sk-toggleable__label {background-color: #d4ebff;}#sk-container-id-5 input.sk-hidden--visually {border: 0;clip: rect(1px 1px 1px 1px);clip: rect(1px, 1px, 1px, 1px);height: 1px;margin: -1px;overflow: hidden;padding: 0;position: absolute;width: 1px;}#sk-container-id-5 div.sk-estimator {font-family: monospace;background-color: #f0f8ff;border: 1px dotted black;border-radius: 0.25em;box-sizing: border-box;margin-bottom: 0.5em;}#sk-container-id-5 div.sk-estimator:hover {background-color: #d4ebff;}#sk-container-id-5 div.sk-parallel-item::after {content: \"\";width: 100%;border-bottom: 1px solid gray;flex-grow: 1;}#sk-container-id-5 div.sk-label:hover label.sk-toggleable__label {background-color: #d4ebff;}#sk-container-id-5 div.sk-serial::before {content: \"\";position: absolute;border-left: 1px solid gray;box-sizing: border-box;top: 0;bottom: 0;left: 50%;z-index: 0;}#sk-container-id-5 div.sk-serial {display: flex;flex-direction: column;align-items: center;background-color: white;padding-right: 0.2em;padding-left: 0.2em;position: relative;}#sk-container-id-5 div.sk-item {position: relative;z-index: 1;}#sk-container-id-5 div.sk-parallel {display: flex;align-items: stretch;justify-content: center;background-color: white;position: relative;}#sk-container-id-5 div.sk-item::before, #sk-container-id-5 div.sk-parallel-item::before {content: \"\";position: absolute;border-left: 1px solid gray;box-sizing: border-box;top: 0;bottom: 0;left: 50%;z-index: -1;}#sk-container-id-5 div.sk-parallel-item {display: flex;flex-direction: column;z-index: 1;position: relative;background-color: white;}#sk-container-id-5 div.sk-parallel-item:first-child::after {align-self: flex-end;width: 50%;}#sk-container-id-5 div.sk-parallel-item:last-child::after {align-self: flex-start;width: 50%;}#sk-container-id-5 div.sk-parallel-item:only-child::after {width: 0;}#sk-container-id-5 div.sk-dashed-wrapped {border: 1px dashed gray;margin: 0 0.4em 0.5em 0.4em;box-sizing: border-box;padding-bottom: 0.4em;background-color: white;}#sk-container-id-5 div.sk-label label {font-family: monospace;font-weight: bold;display: inline-block;line-height: 1.2em;}#sk-container-id-5 div.sk-label-container {text-align: center;}#sk-container-id-5 div.sk-container {/* jupyter's `normalize.less` sets `[hidden] { display: none; }` but bootstrap.min.css set `[hidden] { display: none !important; }` so we also need the `!important` here to be able to override the default hidden behavior on the sphinx rendered scikit-learn.org. See: https://github.com/scikit-learn/scikit-learn/issues/21755 */display: inline-block !important;position: relative;}#sk-container-id-5 div.sk-text-repr-fallback {display: none;}</style><div id=\"sk-container-id-5\" class=\"sk-top-container\"><div class=\"sk-text-repr-fallback\"><pre>DecisionTreeClassifier(random_state=42)</pre><b>In a Jupyter environment, please rerun this cell to show the HTML representation or trust the notebook. <br />On GitHub, the HTML representation is unable to render, please try loading this page with nbviewer.org.</b></div><div class=\"sk-container\" hidden><div class=\"sk-item\"><div class=\"sk-estimator sk-toggleable\"><input class=\"sk-toggleable__control sk-hidden--visually\" id=\"sk-estimator-id-7\" type=\"checkbox\" checked><label for=\"sk-estimator-id-7\" class=\"sk-toggleable__label sk-toggleable__label-arrow\">DecisionTreeClassifier</label><div class=\"sk-toggleable__content\"><pre>DecisionTreeClassifier(random_state=42)</pre></div></div></div></div></div>"
            ]
          },
          "metadata": {},
          "execution_count": 196
        }
      ]
    },
    {
      "cell_type": "code",
      "source": [
        "y_pred2 = dtc_clf.predict(X_test)"
      ],
      "metadata": {
        "id": "U6vI85g7JRqy"
      },
      "execution_count": null,
      "outputs": []
    },
    {
      "cell_type": "code",
      "source": [
        "print(classification_report(y_test, y_pred2))"
      ],
      "metadata": {
        "colab": {
          "base_uri": "https://localhost:8080/"
        },
        "id": "qdV8X_M6JUHr",
        "outputId": "20b51140-a48b-48a5-e104-b2308bd4a5a8"
      },
      "execution_count": null,
      "outputs": [
        {
          "output_type": "stream",
          "name": "stdout",
          "text": [
            "              precision    recall  f1-score   support\n",
            "\n",
            "       False       0.82      0.81      0.82      9659\n",
            "        True       0.45      0.46      0.46      3221\n",
            "\n",
            "    accuracy                           0.72     12880\n",
            "   macro avg       0.63      0.64      0.64     12880\n",
            "weighted avg       0.73      0.72      0.73     12880\n",
            "\n"
          ]
        }
      ]
    },
    {
      "cell_type": "code",
      "source": [
        "print(f1_score(y_test, y_pred2))"
      ],
      "metadata": {
        "colab": {
          "base_uri": "https://localhost:8080/"
        },
        "id": "36hGLQcWZSt8",
        "outputId": "eafa79d3-669b-47b7-867d-74c8103b504e"
      },
      "execution_count": null,
      "outputs": [
        {
          "output_type": "stream",
          "name": "stdout",
          "text": [
            "0.4559410500460547\n"
          ]
        }
      ]
    },
    {
      "cell_type": "markdown",
      "source": [
        "### DT P-Value"
      ],
      "metadata": {
        "id": "-r1ymG68qsSr"
      }
    },
    {
      "cell_type": "code",
      "source": [
        "dtc_clf_pval = DecisionTreeClassifier(random_state=42)\n",
        "dtc_clf_pval.fit(X_train_pval, y_train)\n",
        "y_pred_pval2 = dtc_clf_pval.predict(X_test_pval)"
      ],
      "metadata": {
        "id": "u2lBIpTAqwMJ"
      },
      "execution_count": null,
      "outputs": []
    },
    {
      "cell_type": "code",
      "source": [
        "print(classification_report(y_test, y_pred_pval2))"
      ],
      "metadata": {
        "colab": {
          "base_uri": "https://localhost:8080/"
        },
        "id": "DLJU-_A81P1n",
        "outputId": "c4040652-2003-40b0-aa01-acba2c008bc3"
      },
      "execution_count": null,
      "outputs": [
        {
          "output_type": "stream",
          "name": "stdout",
          "text": [
            "              precision    recall  f1-score   support\n",
            "\n",
            "       False       0.82      0.82      0.82      9659\n",
            "        True       0.46      0.47      0.46      3221\n",
            "\n",
            "    accuracy                           0.73     12880\n",
            "   macro avg       0.64      0.64      0.64     12880\n",
            "weighted avg       0.73      0.73      0.73     12880\n",
            "\n"
          ]
        }
      ]
    },
    {
      "cell_type": "code",
      "source": [
        "print(f1_score(y_test, y_pred_pval2))"
      ],
      "metadata": {
        "colab": {
          "base_uri": "https://localhost:8080/"
        },
        "id": "lESLw7v6ZYLA",
        "outputId": "0cc914b7-0416-4ba1-a72d-494aba7890fd"
      },
      "execution_count": null,
      "outputs": [
        {
          "output_type": "stream",
          "name": "stdout",
          "text": [
            "0.4644666155026861\n"
          ]
        }
      ]
    },
    {
      "cell_type": "markdown",
      "source": [
        "### DT Hyper-parameter Tune"
      ],
      "metadata": {
        "id": "Tlm6p2A2q2jj"
      }
    },
    {
      "cell_type": "code",
      "source": [
        "# define the parameter grid\n",
        "param_grid = {'max_depth': [2, 4, 6, 8, 10],\n",
        "              'min_samples_split': [2, 4, 6, 8, 10],\n",
        "              'min_samples_leaf': [1, 2, 4, 6, 8],\n",
        "              'criterion': ['gini', 'entropy']}"
      ],
      "metadata": {
        "id": "DkhcawZeq7CQ"
      },
      "execution_count": null,
      "outputs": []
    },
    {
      "cell_type": "code",
      "source": [
        "# perform grid search cross-validation\n",
        "grid_search = GridSearchCV(dtc_clf_pval, param_grid, cv=5, scoring='f1')\n",
        "grid_search.fit(X_train_pval, y_train)"
      ],
      "metadata": {
        "colab": {
          "base_uri": "https://localhost:8080/",
          "height": 116
        },
        "id": "BLhqhRQw2NI-",
        "outputId": "7811d1fc-3192-402b-dd23-deaf92ae5da8"
      },
      "execution_count": null,
      "outputs": [
        {
          "output_type": "execute_result",
          "data": {
            "text/plain": [
              "GridSearchCV(cv=5, estimator=DecisionTreeClassifier(random_state=42),\n",
              "             param_grid={'criterion': ['gini', 'entropy'],\n",
              "                         'max_depth': [2, 4, 6, 8, 10],\n",
              "                         'min_samples_leaf': [1, 2, 4, 6, 8],\n",
              "                         'min_samples_split': [2, 4, 6, 8, 10]},\n",
              "             scoring='f1')"
            ],
            "text/html": [
              "<style>#sk-container-id-6 {color: black;background-color: white;}#sk-container-id-6 pre{padding: 0;}#sk-container-id-6 div.sk-toggleable {background-color: white;}#sk-container-id-6 label.sk-toggleable__label {cursor: pointer;display: block;width: 100%;margin-bottom: 0;padding: 0.3em;box-sizing: border-box;text-align: center;}#sk-container-id-6 label.sk-toggleable__label-arrow:before {content: \"▸\";float: left;margin-right: 0.25em;color: #696969;}#sk-container-id-6 label.sk-toggleable__label-arrow:hover:before {color: black;}#sk-container-id-6 div.sk-estimator:hover label.sk-toggleable__label-arrow:before {color: black;}#sk-container-id-6 div.sk-toggleable__content {max-height: 0;max-width: 0;overflow: hidden;text-align: left;background-color: #f0f8ff;}#sk-container-id-6 div.sk-toggleable__content pre {margin: 0.2em;color: black;border-radius: 0.25em;background-color: #f0f8ff;}#sk-container-id-6 input.sk-toggleable__control:checked~div.sk-toggleable__content {max-height: 200px;max-width: 100%;overflow: auto;}#sk-container-id-6 input.sk-toggleable__control:checked~label.sk-toggleable__label-arrow:before {content: \"▾\";}#sk-container-id-6 div.sk-estimator input.sk-toggleable__control:checked~label.sk-toggleable__label {background-color: #d4ebff;}#sk-container-id-6 div.sk-label input.sk-toggleable__control:checked~label.sk-toggleable__label {background-color: #d4ebff;}#sk-container-id-6 input.sk-hidden--visually {border: 0;clip: rect(1px 1px 1px 1px);clip: rect(1px, 1px, 1px, 1px);height: 1px;margin: -1px;overflow: hidden;padding: 0;position: absolute;width: 1px;}#sk-container-id-6 div.sk-estimator {font-family: monospace;background-color: #f0f8ff;border: 1px dotted black;border-radius: 0.25em;box-sizing: border-box;margin-bottom: 0.5em;}#sk-container-id-6 div.sk-estimator:hover {background-color: #d4ebff;}#sk-container-id-6 div.sk-parallel-item::after {content: \"\";width: 100%;border-bottom: 1px solid gray;flex-grow: 1;}#sk-container-id-6 div.sk-label:hover label.sk-toggleable__label {background-color: #d4ebff;}#sk-container-id-6 div.sk-serial::before {content: \"\";position: absolute;border-left: 1px solid gray;box-sizing: border-box;top: 0;bottom: 0;left: 50%;z-index: 0;}#sk-container-id-6 div.sk-serial {display: flex;flex-direction: column;align-items: center;background-color: white;padding-right: 0.2em;padding-left: 0.2em;position: relative;}#sk-container-id-6 div.sk-item {position: relative;z-index: 1;}#sk-container-id-6 div.sk-parallel {display: flex;align-items: stretch;justify-content: center;background-color: white;position: relative;}#sk-container-id-6 div.sk-item::before, #sk-container-id-6 div.sk-parallel-item::before {content: \"\";position: absolute;border-left: 1px solid gray;box-sizing: border-box;top: 0;bottom: 0;left: 50%;z-index: -1;}#sk-container-id-6 div.sk-parallel-item {display: flex;flex-direction: column;z-index: 1;position: relative;background-color: white;}#sk-container-id-6 div.sk-parallel-item:first-child::after {align-self: flex-end;width: 50%;}#sk-container-id-6 div.sk-parallel-item:last-child::after {align-self: flex-start;width: 50%;}#sk-container-id-6 div.sk-parallel-item:only-child::after {width: 0;}#sk-container-id-6 div.sk-dashed-wrapped {border: 1px dashed gray;margin: 0 0.4em 0.5em 0.4em;box-sizing: border-box;padding-bottom: 0.4em;background-color: white;}#sk-container-id-6 div.sk-label label {font-family: monospace;font-weight: bold;display: inline-block;line-height: 1.2em;}#sk-container-id-6 div.sk-label-container {text-align: center;}#sk-container-id-6 div.sk-container {/* jupyter's `normalize.less` sets `[hidden] { display: none; }` but bootstrap.min.css set `[hidden] { display: none !important; }` so we also need the `!important` here to be able to override the default hidden behavior on the sphinx rendered scikit-learn.org. See: https://github.com/scikit-learn/scikit-learn/issues/21755 */display: inline-block !important;position: relative;}#sk-container-id-6 div.sk-text-repr-fallback {display: none;}</style><div id=\"sk-container-id-6\" class=\"sk-top-container\"><div class=\"sk-text-repr-fallback\"><pre>GridSearchCV(cv=5, estimator=DecisionTreeClassifier(random_state=42),\n",
              "             param_grid={&#x27;criterion&#x27;: [&#x27;gini&#x27;, &#x27;entropy&#x27;],\n",
              "                         &#x27;max_depth&#x27;: [2, 4, 6, 8, 10],\n",
              "                         &#x27;min_samples_leaf&#x27;: [1, 2, 4, 6, 8],\n",
              "                         &#x27;min_samples_split&#x27;: [2, 4, 6, 8, 10]},\n",
              "             scoring=&#x27;f1&#x27;)</pre><b>In a Jupyter environment, please rerun this cell to show the HTML representation or trust the notebook. <br />On GitHub, the HTML representation is unable to render, please try loading this page with nbviewer.org.</b></div><div class=\"sk-container\" hidden><div class=\"sk-item sk-dashed-wrapped\"><div class=\"sk-label-container\"><div class=\"sk-label sk-toggleable\"><input class=\"sk-toggleable__control sk-hidden--visually\" id=\"sk-estimator-id-8\" type=\"checkbox\" ><label for=\"sk-estimator-id-8\" class=\"sk-toggleable__label sk-toggleable__label-arrow\">GridSearchCV</label><div class=\"sk-toggleable__content\"><pre>GridSearchCV(cv=5, estimator=DecisionTreeClassifier(random_state=42),\n",
              "             param_grid={&#x27;criterion&#x27;: [&#x27;gini&#x27;, &#x27;entropy&#x27;],\n",
              "                         &#x27;max_depth&#x27;: [2, 4, 6, 8, 10],\n",
              "                         &#x27;min_samples_leaf&#x27;: [1, 2, 4, 6, 8],\n",
              "                         &#x27;min_samples_split&#x27;: [2, 4, 6, 8, 10]},\n",
              "             scoring=&#x27;f1&#x27;)</pre></div></div></div><div class=\"sk-parallel\"><div class=\"sk-parallel-item\"><div class=\"sk-item\"><div class=\"sk-label-container\"><div class=\"sk-label sk-toggleable\"><input class=\"sk-toggleable__control sk-hidden--visually\" id=\"sk-estimator-id-9\" type=\"checkbox\" ><label for=\"sk-estimator-id-9\" class=\"sk-toggleable__label sk-toggleable__label-arrow\">estimator: DecisionTreeClassifier</label><div class=\"sk-toggleable__content\"><pre>DecisionTreeClassifier(random_state=42)</pre></div></div></div><div class=\"sk-serial\"><div class=\"sk-item\"><div class=\"sk-estimator sk-toggleable\"><input class=\"sk-toggleable__control sk-hidden--visually\" id=\"sk-estimator-id-10\" type=\"checkbox\" ><label for=\"sk-estimator-id-10\" class=\"sk-toggleable__label sk-toggleable__label-arrow\">DecisionTreeClassifier</label><div class=\"sk-toggleable__content\"><pre>DecisionTreeClassifier(random_state=42)</pre></div></div></div></div></div></div></div></div></div></div>"
            ]
          },
          "metadata": {},
          "execution_count": 204
        }
      ]
    },
    {
      "cell_type": "code",
      "source": [
        "# print the best hyperparameters\n",
        "print(grid_search.best_params_)"
      ],
      "metadata": {
        "colab": {
          "base_uri": "https://localhost:8080/"
        },
        "id": "5EI_wFjY2XH-",
        "outputId": "82d8134b-f056-4d16-8e7f-72dc73a72bb6"
      },
      "execution_count": null,
      "outputs": [
        {
          "output_type": "stream",
          "name": "stdout",
          "text": [
            "{'criterion': 'entropy', 'max_depth': 10, 'min_samples_leaf': 6, 'min_samples_split': 2}\n"
          ]
        }
      ]
    },
    {
      "cell_type": "code",
      "source": [
        "# Best Params\n",
        "# {'criterion': 'entropy', 'max_depth': 10, 'min_samples_leaf': 6, 'min_samples_split': 2}"
      ],
      "metadata": {
        "id": "37u4kRYs3Req"
      },
      "execution_count": null,
      "outputs": []
    },
    {
      "cell_type": "code",
      "source": [
        "# train the final model on the entire training set using the best hyperparameters\n",
        "dtc_final = DecisionTreeClassifier(criterion='entropy', max_depth=10, min_samples_leaf=6, min_samples_split=2, random_state=42)\n",
        "dtc_final.fit(X_train_pval, y_train)\n",
        "y_pred_dtc_final = dtc_final.predict(X_test_pval)"
      ],
      "metadata": {
        "id": "XnKb-K5s2b82"
      },
      "execution_count": null,
      "outputs": []
    },
    {
      "cell_type": "code",
      "source": [
        "print(classification_report(y_test, y_pred_dtc_final))"
      ],
      "metadata": {
        "colab": {
          "base_uri": "https://localhost:8080/"
        },
        "id": "IouhfRWQ2nFp",
        "outputId": "83d64465-48ff-43ef-d41f-0e19f5c42a41"
      },
      "execution_count": null,
      "outputs": [
        {
          "output_type": "stream",
          "name": "stdout",
          "text": [
            "              precision    recall  f1-score   support\n",
            "\n",
            "       False       0.83      0.91      0.86      9659\n",
            "        True       0.60      0.43      0.50      3221\n",
            "\n",
            "    accuracy                           0.79     12880\n",
            "   macro avg       0.72      0.67      0.68     12880\n",
            "weighted avg       0.77      0.79      0.77     12880\n",
            "\n"
          ]
        }
      ]
    },
    {
      "cell_type": "code",
      "source": [
        "print(f1_score(y_test, y_pred_dtc_final))"
      ],
      "metadata": {
        "colab": {
          "base_uri": "https://localhost:8080/"
        },
        "id": "U_Ay-uYgZi4Q",
        "outputId": "8268bb53-02a1-44aa-86aa-854c9684e131"
      },
      "execution_count": null,
      "outputs": [
        {
          "output_type": "stream",
          "name": "stdout",
          "text": [
            "0.5022681908909453\n"
          ]
        }
      ]
    },
    {
      "cell_type": "markdown",
      "source": [
        "### DT Confusion Matrix"
      ],
      "metadata": {
        "id": "k9-mGN5eq7tg"
      }
    },
    {
      "cell_type": "code",
      "source": [
        "cm = confusion_matrix(y_test, y_pred_dtc_final)\n",
        "\n",
        "f, ax = plt.subplots(figsize =(3,3))\n",
        "sns.heatmap(cm,annot = True,cmap='Reds',linewidths=1,linecolor='k',square=True,mask=False,fmt = \".0f\",cbar=True,ax=ax)\n",
        "plt.xlabel(\"y_pred\")\n",
        "plt.ylabel(\"y_true\")\n",
        "plt.show()"
      ],
      "metadata": {
        "colab": {
          "base_uri": "https://localhost:8080/",
          "height": 288
        },
        "id": "s-OE9rdBrAFr",
        "outputId": "2dfc71df-f893-413b-a31c-2903df07706e"
      },
      "execution_count": null,
      "outputs": [
        {
          "output_type": "display_data",
          "data": {
            "text/plain": [
              "<Figure size 300x300 with 2 Axes>"
            ],
            "image/png": "[encoded data removed]"
          },
          "metadata": {}
        }
      ]
    },
    {
      "cell_type": "markdown",
      "source": [
        "### DT Threshold Tuning"
      ],
      "metadata": {
        "id": "4QnnAjfGrAzP"
      }
    },
    {
      "cell_type": "code",
      "source": [
        "y_pred_proba = dtc_final.predict_proba(X_test_pval)[:, 1]"
      ],
      "metadata": {
        "id": "RH2bupDkrED8"
      },
      "execution_count": null,
      "outputs": []
    },
    {
      "cell_type": "code",
      "source": [
        "# calculate precision-recall curve\n",
        "precision, recall, thresholds = precision_recall_curve(y_test, y_pred_proba)\n",
        "\n",
        "# plot the precision-recall curve\n",
        "plt.figure(figsize=(5, 4))\n",
        "plt.plot(recall, precision)\n",
        "plt.xlabel('Recall')\n",
        "plt.ylabel('Precision')\n",
        "plt.title('Precision-Recall Curve')\n",
        "plt.show()"
      ],
      "metadata": {
        "colab": {
          "base_uri": "https://localhost:8080/",
          "height": 410
        },
        "id": "ZnghqFXQ4rC1",
        "outputId": "56f6ac05-8ef8-425c-eea0-5386eb21e21c"
      },
      "execution_count": null,
      "outputs": [
        {
          "output_type": "display_data",
          "data": {
            "text/plain": [
              "<Figure size 500x400 with 1 Axes>"
            ],
            "image/png": "[encoded data removed]"
          },
          "metadata": {}
        }
      ]
    },
    {
      "cell_type": "code",
      "source": [
        "# calculate F1-score for each threshold\n",
        "f1_scores = [f1_score(y_test, y_pred_proba >= th) for th in thresholds]\n",
        "\n",
        "# find the threshold that maximizes the F1-score\n",
        "best_threshold = thresholds[np.argmax(f1_scores)]"
      ],
      "metadata": {
        "id": "eV91hD9j47hC"
      },
      "execution_count": null,
      "outputs": []
    },
    {
      "cell_type": "code",
      "source": [
        "# plot the F1-scores against the thresholds\n",
        "plt.plot(thresholds, f1_scores)\n",
        "plt.axvline(x=0.5, color='k', linestyle='--', label='Default threshold')\n",
        "plt.axvline(x=best_threshold, color='r', linestyle='--', label='Best threshold')\n",
        "plt.xlabel('Threshold')\n",
        "plt.ylabel('F1-score')\n",
        "plt.title('F1-score vs. Threshold')\n",
        "plt.legend()\n",
        "plt.show()"
      ],
      "metadata": {
        "colab": {
          "base_uri": "https://localhost:8080/",
          "height": 472
        },
        "id": "Q_5T_9G9MVaH",
        "outputId": "7ec239bf-cd7b-4622-e103-0d0b00322232"
      },
      "execution_count": null,
      "outputs": [
        {
          "output_type": "display_data",
          "data": {
            "text/plain": [
              "<Figure size 640x480 with 1 Axes>"
            ],
            "image/png": "[encoded data removed]"
          },
          "metadata": {}
        }
      ]
    },
    {
      "cell_type": "code",
      "source": [
        "best_threshold"
      ],
      "metadata": {
        "colab": {
          "base_uri": "https://localhost:8080/"
        },
        "id": "XxA-uU6t5BYi",
        "outputId": "815f353f-a684-416e-e235-cafdac6186d1"
      },
      "execution_count": null,
      "outputs": [
        {
          "output_type": "execute_result",
          "data": {
            "text/plain": [
              "0.35172413793103446"
            ]
          },
          "metadata": {},
          "execution_count": 274
        }
      ]
    },
    {
      "cell_type": "code",
      "source": [
        "# set a threshold value (0.5 by default)\n",
        "threshold = 0.35172413793103446\n",
        "\n",
        "# adjust threshold and make predictions\n",
        "y_pred_thresh_dtc = np.where(y_pred_proba > threshold, 1, 0)"
      ],
      "metadata": {
        "id": "38VYJGai5F5R"
      },
      "execution_count": null,
      "outputs": []
    },
    {
      "cell_type": "markdown",
      "source": [
        "### DT Metrics on Best Model"
      ],
      "metadata": {
        "id": "QL6smoAvrEoq"
      }
    },
    {
      "cell_type": "code",
      "source": [
        "print(classification_report(y_test, y_pred_thresh_dtc))"
      ],
      "metadata": {
        "colab": {
          "base_uri": "https://localhost:8080/"
        },
        "id": "Q2vQL4CsrIdp",
        "outputId": "6c7cbaeb-20f1-42bd-c8b3-68f61bb0c2e5"
      },
      "execution_count": null,
      "outputs": [
        {
          "output_type": "stream",
          "name": "stdout",
          "text": [
            "              precision    recall  f1-score   support\n",
            "\n",
            "       False       0.86      0.82      0.84      9659\n",
            "        True       0.52      0.58      0.55      3221\n",
            "\n",
            "    accuracy                           0.76     12880\n",
            "   macro avg       0.69      0.70      0.69     12880\n",
            "weighted avg       0.77      0.76      0.77     12880\n",
            "\n"
          ]
        }
      ]
    },
    {
      "cell_type": "code",
      "source": [
        "print(f1_score(y_test, y_pred_thresh_dtc))"
      ],
      "metadata": {
        "colab": {
          "base_uri": "https://localhost:8080/"
        },
        "id": "i2khoSCKaFo8",
        "outputId": "d6222b7b-9fd1-4cce-dd41-5a4ca745d556"
      },
      "execution_count": null,
      "outputs": [
        {
          "output_type": "stream",
          "name": "stdout",
          "text": [
            "0.550885927661444\n"
          ]
        }
      ]
    },
    {
      "cell_type": "code",
      "source": [
        "print(accuracy_score(y_test, y_pred_thresh_dtc))"
      ],
      "metadata": {
        "colab": {
          "base_uri": "https://localhost:8080/"
        },
        "id": "YeQagJz-Aka1",
        "outputId": "5754c3f8-f223-409f-a31b-ae2d1767b163"
      },
      "execution_count": null,
      "outputs": [
        {
          "output_type": "stream",
          "name": "stdout",
          "text": [
            "0.7618788819875777\n"
          ]
        }
      ]
    },
    {
      "cell_type": "code",
      "source": [
        "cm_dtc = confusion_matrix(y_test, y_pred_thresh_dtc)\n",
        "\n",
        "f, ax = plt.subplots(figsize =(3,3))\n",
        "sns.heatmap(cm_dtc,annot = True,cmap='Reds',linewidths=1,linecolor='k',square=True,mask=False,fmt = \".0f\",cbar=True,ax=ax)\n",
        "plt.xlabel(\"y_pred\")\n",
        "plt.ylabel(\"y_true\")\n",
        "plt.show()"
      ],
      "metadata": {
        "colab": {
          "base_uri": "https://localhost:8080/",
          "height": 288
        },
        "id": "pagbjUy66SVF",
        "outputId": "57ce95fa-51a8-4658-84ae-e3522e90f3d7"
      },
      "execution_count": null,
      "outputs": [
        {
          "output_type": "display_data",
          "data": {
            "text/plain": [
              "<Figure size 300x300 with 2 Axes>"
            ],
            "image/png": "[encoded data removed]"
          },
          "metadata": {}
        }
      ]
    },
    {
      "cell_type": "code",
      "source": [
        "skplt.metrics.plot_roc(y_test, dtc_final.predict_proba(X_test_pval), plot_micro=False)\n",
        "plt.show()"
      ],
      "metadata": {
        "colab": {
          "base_uri": "https://localhost:8080/",
          "height": 472
        },
        "id": "F4mtAOGzaPpA",
        "outputId": "4fa8c48d-3789-47b3-aa99-094862d6d8e9"
      },
      "execution_count": null,
      "outputs": [
        {
          "output_type": "display_data",
          "data": {
            "text/plain": [
              "<Figure size 640x480 with 1 Axes>"
            ],
            "image/png": "[encoded data removed]"
          },
          "metadata": {}
        }
      ]
    },
    {
      "cell_type": "markdown",
      "source": [
        "## Random Forest"
      ],
      "metadata": {
        "id": "lEvuXAOQs72O"
      }
    },
    {
      "cell_type": "markdown",
      "source": [
        "### Random Forest Baseline"
      ],
      "metadata": {
        "id": "MOfvBa6aAfr6"
      }
    },
    {
      "cell_type": "code",
      "source": [
        "rnd_clf = RandomForestClassifier(random_state=42)"
      ],
      "metadata": {
        "id": "DIrb6OUBs9iu"
      },
      "execution_count": null,
      "outputs": []
    },
    {
      "cell_type": "code",
      "source": [
        "rnd_clf.fit(X_train, y_train)"
      ],
      "metadata": {
        "colab": {
          "base_uri": "https://localhost:8080/",
          "height": 74
        },
        "id": "8fqj9KsIKPQF",
        "outputId": "c180b140-7834-4017-9d7a-218c7325c5ae"
      },
      "execution_count": null,
      "outputs": [
        {
          "output_type": "execute_result",
          "data": {
            "text/plain": [
              "RandomForestClassifier(random_state=42)"
            ],
            "text/html": [
              "<style>#sk-container-id-7 {color: black;background-color: white;}#sk-container-id-7 pre{padding: 0;}#sk-container-id-7 div.sk-toggleable {background-color: white;}#sk-container-id-7 label.sk-toggleable__label {cursor: pointer;display: block;width: 100%;margin-bottom: 0;padding: 0.3em;box-sizing: border-box;text-align: center;}#sk-container-id-7 label.sk-toggleable__label-arrow:before {content: \"▸\";float: left;margin-right: 0.25em;color: #696969;}#sk-container-id-7 label.sk-toggleable__label-arrow:hover:before {color: black;}#sk-container-id-7 div.sk-estimator:hover label.sk-toggleable__label-arrow:before {color: black;}#sk-container-id-7 div.sk-toggleable__content {max-height: 0;max-width: 0;overflow: hidden;text-align: left;background-color: #f0f8ff;}#sk-container-id-7 div.sk-toggleable__content pre {margin: 0.2em;color: black;border-radius: 0.25em;background-color: #f0f8ff;}#sk-container-id-7 input.sk-toggleable__control:checked~div.sk-toggleable__content {max-height: 200px;max-width: 100%;overflow: auto;}#sk-container-id-7 input.sk-toggleable__control:checked~label.sk-toggleable__label-arrow:before {content: \"▾\";}#sk-container-id-7 div.sk-estimator input.sk-toggleable__control:checked~label.sk-toggleable__label {background-color: #d4ebff;}#sk-container-id-7 div.sk-label input.sk-toggleable__control:checked~label.sk-toggleable__label {background-color: #d4ebff;}#sk-container-id-7 input.sk-hidden--visually {border: 0;clip: rect(1px 1px 1px 1px);clip: rect(1px, 1px, 1px, 1px);height: 1px;margin: -1px;overflow: hidden;padding: 0;position: absolute;width: 1px;}#sk-container-id-7 div.sk-estimator {font-family: monospace;background-color: #f0f8ff;border: 1px dotted black;border-radius: 0.25em;box-sizing: border-box;margin-bottom: 0.5em;}#sk-container-id-7 div.sk-estimator:hover {background-color: #d4ebff;}#sk-container-id-7 div.sk-parallel-item::after {content: \"\";width: 100%;border-bottom: 1px solid gray;flex-grow: 1;}#sk-container-id-7 div.sk-label:hover label.sk-toggleable__label {background-color: #d4ebff;}#sk-container-id-7 div.sk-serial::before {content: \"\";position: absolute;border-left: 1px solid gray;box-sizing: border-box;top: 0;bottom: 0;left: 50%;z-index: 0;}#sk-container-id-7 div.sk-serial {display: flex;flex-direction: column;align-items: center;background-color: white;padding-right: 0.2em;padding-left: 0.2em;position: relative;}#sk-container-id-7 div.sk-item {position: relative;z-index: 1;}#sk-container-id-7 div.sk-parallel {display: flex;align-items: stretch;justify-content: center;background-color: white;position: relative;}#sk-container-id-7 div.sk-item::before, #sk-container-id-7 div.sk-parallel-item::before {content: \"\";position: absolute;border-left: 1px solid gray;box-sizing: border-box;top: 0;bottom: 0;left: 50%;z-index: -1;}#sk-container-id-7 div.sk-parallel-item {display: flex;flex-direction: column;z-index: 1;position: relative;background-color: white;}#sk-container-id-7 div.sk-parallel-item:first-child::after {align-self: flex-end;width: 50%;}#sk-container-id-7 div.sk-parallel-item:last-child::after {align-self: flex-start;width: 50%;}#sk-container-id-7 div.sk-parallel-item:only-child::after {width: 0;}#sk-container-id-7 div.sk-dashed-wrapped {border: 1px dashed gray;margin: 0 0.4em 0.5em 0.4em;box-sizing: border-box;padding-bottom: 0.4em;background-color: white;}#sk-container-id-7 div.sk-label label {font-family: monospace;font-weight: bold;display: inline-block;line-height: 1.2em;}#sk-container-id-7 div.sk-label-container {text-align: center;}#sk-container-id-7 div.sk-container {/* jupyter's `normalize.less` sets `[hidden] { display: none; }` but bootstrap.min.css set `[hidden] { display: none !important; }` so we also need the `!important` here to be able to override the default hidden behavior on the sphinx rendered scikit-learn.org. See: https://github.com/scikit-learn/scikit-learn/issues/21755 */display: inline-block !important;position: relative;}#sk-container-id-7 div.sk-text-repr-fallback {display: none;}</style><div id=\"sk-container-id-7\" class=\"sk-top-container\"><div class=\"sk-text-repr-fallback\"><pre>RandomForestClassifier(random_state=42)</pre><b>In a Jupyter environment, please rerun this cell to show the HTML representation or trust the notebook. <br />On GitHub, the HTML representation is unable to render, please try loading this page with nbviewer.org.</b></div><div class=\"sk-container\" hidden><div class=\"sk-item\"><div class=\"sk-estimator sk-toggleable\"><input class=\"sk-toggleable__control sk-hidden--visually\" id=\"sk-estimator-id-11\" type=\"checkbox\" checked><label for=\"sk-estimator-id-11\" class=\"sk-toggleable__label sk-toggleable__label-arrow\">RandomForestClassifier</label><div class=\"sk-toggleable__content\"><pre>RandomForestClassifier(random_state=42)</pre></div></div></div></div></div>"
            ]
          },
          "metadata": {},
          "execution_count": 221
        }
      ]
    },
    {
      "cell_type": "code",
      "source": [
        "y_pred3 = rnd_clf.predict(X_test)"
      ],
      "metadata": {
        "id": "0AnsScidKRpv"
      },
      "execution_count": null,
      "outputs": []
    },
    {
      "cell_type": "code",
      "source": [
        "print(classification_report(y_test, y_pred3))"
      ],
      "metadata": {
        "colab": {
          "base_uri": "https://localhost:8080/"
        },
        "id": "USiU4xZdKY5W",
        "outputId": "7a22c0d6-9ee1-4385-a116-ad90231af9c0"
      },
      "execution_count": null,
      "outputs": [
        {
          "output_type": "stream",
          "name": "stdout",
          "text": [
            "              precision    recall  f1-score   support\n",
            "\n",
            "       False       0.83      0.95      0.89      9659\n",
            "        True       0.74      0.40      0.52      3221\n",
            "\n",
            "    accuracy                           0.82     12880\n",
            "   macro avg       0.78      0.68      0.70     12880\n",
            "weighted avg       0.81      0.82      0.79     12880\n",
            "\n"
          ]
        }
      ]
    },
    {
      "cell_type": "code",
      "source": [
        "print(f1_score(y_test, y_pred3))"
      ],
      "metadata": {
        "colab": {
          "base_uri": "https://localhost:8080/"
        },
        "id": "4yQjoGAtat9g",
        "outputId": "d355c29b-ff90-41a6-fcbc-8cab2e4a39f5"
      },
      "execution_count": null,
      "outputs": [
        {
          "output_type": "stream",
          "name": "stdout",
          "text": [
            "0.5211097708082026\n"
          ]
        }
      ]
    },
    {
      "cell_type": "markdown",
      "source": [
        "### RF P-Value"
      ],
      "metadata": {
        "id": "032LVrdDrR2Z"
      }
    },
    {
      "cell_type": "code",
      "source": [
        "rnd_clf_pval = RandomForestClassifier(random_state=42)\n",
        "rnd_clf_pval.fit(X_train_pval, y_train)\n",
        "y_pred_pval3 = rnd_clf_pval.predict(X_test_pval)"
      ],
      "metadata": {
        "id": "kQfSfo15rWTM"
      },
      "execution_count": null,
      "outputs": []
    },
    {
      "cell_type": "code",
      "source": [
        "print(classification_report(y_test, y_pred_pval3))"
      ],
      "metadata": {
        "colab": {
          "base_uri": "https://localhost:8080/"
        },
        "id": "Jdryz4c9CiTw",
        "outputId": "09685c76-1e26-47d1-fe72-d5789961f83b"
      },
      "execution_count": null,
      "outputs": [
        {
          "output_type": "stream",
          "name": "stdout",
          "text": [
            "              precision    recall  f1-score   support\n",
            "\n",
            "       False       0.83      0.95      0.88      9659\n",
            "        True       0.73      0.41      0.53      3221\n",
            "\n",
            "    accuracy                           0.81     12880\n",
            "   macro avg       0.78      0.68      0.71     12880\n",
            "weighted avg       0.80      0.81      0.80     12880\n",
            "\n"
          ]
        }
      ]
    },
    {
      "cell_type": "code",
      "source": [
        "print(f1_score(y_test, y_pred_pval3))"
      ],
      "metadata": {
        "colab": {
          "base_uri": "https://localhost:8080/"
        },
        "id": "AD4KE0T9a2yj",
        "outputId": "39c565c9-8500-41d0-e48d-a318f4b79b59"
      },
      "execution_count": null,
      "outputs": [
        {
          "output_type": "stream",
          "name": "stdout",
          "text": [
            "0.5273769519667918\n"
          ]
        }
      ]
    },
    {
      "cell_type": "code",
      "source": [
        "# Not Applicable"
      ],
      "metadata": {
        "id": "2Q264TxgrdAp"
      },
      "execution_count": null,
      "outputs": []
    },
    {
      "cell_type": "markdown",
      "source": [
        "### RF Hyper-parameter Tune"
      ],
      "metadata": {
        "id": "Ihxfz5SirdpH"
      }
    },
    {
      "cell_type": "code",
      "source": [
        "# Define hyperparameters to tune\n",
        "hyperparameters = {\n",
        "    'n_estimators': [50, 100, 200, 400],\n",
        "    'max_depth': [2, 4, 6, 8, 10, None],\n",
        "    'min_samples_split': [2, 5, 10],\n",
        "    'min_samples_leaf': [1, 2, 4]\n",
        "}"
      ],
      "metadata": {
        "id": "f8JXbYksriST"
      },
      "execution_count": null,
      "outputs": []
    },
    {
      "cell_type": "code",
      "source": [
        "# perform grid search cross-validation\n",
        "grid_search = GridSearchCV(rnd_clf_pval, hyperparameters, cv=5, scoring='f1')\n",
        "grid_search.fit(X_train_pval, y_train)"
      ],
      "metadata": {
        "colab": {
          "base_uri": "https://localhost:8080/",
          "height": 116
        },
        "id": "kNGyirXUC8hD",
        "outputId": "f7890045-41a2-441f-b34c-df7344e58342"
      },
      "execution_count": null,
      "outputs": [
        {
          "output_type": "execute_result",
          "data": {
            "text/plain": [
              "GridSearchCV(cv=5, estimator=RandomForestClassifier(random_state=42),\n",
              "             param_grid={'max_depth': [2, 4, 6, 8, 10, None],\n",
              "                         'min_samples_leaf': [1, 2, 4],\n",
              "                         'min_samples_split': [2, 5, 10],\n",
              "                         'n_estimators': [50, 100, 200, 400]},\n",
              "             scoring='f1')"
            ],
            "text/html": [
              "<style>#sk-container-id-8 {color: black;background-color: white;}#sk-container-id-8 pre{padding: 0;}#sk-container-id-8 div.sk-toggleable {background-color: white;}#sk-container-id-8 label.sk-toggleable__label {cursor: pointer;display: block;width: 100%;margin-bottom: 0;padding: 0.3em;box-sizing: border-box;text-align: center;}#sk-container-id-8 label.sk-toggleable__label-arrow:before {content: \"▸\";float: left;margin-right: 0.25em;color: #696969;}#sk-container-id-8 label.sk-toggleable__label-arrow:hover:before {color: black;}#sk-container-id-8 div.sk-estimator:hover label.sk-toggleable__label-arrow:before {color: black;}#sk-container-id-8 div.sk-toggleable__content {max-height: 0;max-width: 0;overflow: hidden;text-align: left;background-color: #f0f8ff;}#sk-container-id-8 div.sk-toggleable__content pre {margin: 0.2em;color: black;border-radius: 0.25em;background-color: #f0f8ff;}#sk-container-id-8 input.sk-toggleable__control:checked~div.sk-toggleable__content {max-height: 200px;max-width: 100%;overflow: auto;}#sk-container-id-8 input.sk-toggleable__control:checked~label.sk-toggleable__label-arrow:before {content: \"▾\";}#sk-container-id-8 div.sk-estimator input.sk-toggleable__control:checked~label.sk-toggleable__label {background-color: #d4ebff;}#sk-container-id-8 div.sk-label input.sk-toggleable__control:checked~label.sk-toggleable__label {background-color: #d4ebff;}#sk-container-id-8 input.sk-hidden--visually {border: 0;clip: rect(1px 1px 1px 1px);clip: rect(1px, 1px, 1px, 1px);height: 1px;margin: -1px;overflow: hidden;padding: 0;position: absolute;width: 1px;}#sk-container-id-8 div.sk-estimator {font-family: monospace;background-color: #f0f8ff;border: 1px dotted black;border-radius: 0.25em;box-sizing: border-box;margin-bottom: 0.5em;}#sk-container-id-8 div.sk-estimator:hover {background-color: #d4ebff;}#sk-container-id-8 div.sk-parallel-item::after {content: \"\";width: 100%;border-bottom: 1px solid gray;flex-grow: 1;}#sk-container-id-8 div.sk-label:hover label.sk-toggleable__label {background-color: #d4ebff;}#sk-container-id-8 div.sk-serial::before {content: \"\";position: absolute;border-left: 1px solid gray;box-sizing: border-box;top: 0;bottom: 0;left: 50%;z-index: 0;}#sk-container-id-8 div.sk-serial {display: flex;flex-direction: column;align-items: center;background-color: white;padding-right: 0.2em;padding-left: 0.2em;position: relative;}#sk-container-id-8 div.sk-item {position: relative;z-index: 1;}#sk-container-id-8 div.sk-parallel {display: flex;align-items: stretch;justify-content: center;background-color: white;position: relative;}#sk-container-id-8 div.sk-item::before, #sk-container-id-8 div.sk-parallel-item::before {content: \"\";position: absolute;border-left: 1px solid gray;box-sizing: border-box;top: 0;bottom: 0;left: 50%;z-index: -1;}#sk-container-id-8 div.sk-parallel-item {display: flex;flex-direction: column;z-index: 1;position: relative;background-color: white;}#sk-container-id-8 div.sk-parallel-item:first-child::after {align-self: flex-end;width: 50%;}#sk-container-id-8 div.sk-parallel-item:last-child::after {align-self: flex-start;width: 50%;}#sk-container-id-8 div.sk-parallel-item:only-child::after {width: 0;}#sk-container-id-8 div.sk-dashed-wrapped {border: 1px dashed gray;margin: 0 0.4em 0.5em 0.4em;box-sizing: border-box;padding-bottom: 0.4em;background-color: white;}#sk-container-id-8 div.sk-label label {font-family: monospace;font-weight: bold;display: inline-block;line-height: 1.2em;}#sk-container-id-8 div.sk-label-container {text-align: center;}#sk-container-id-8 div.sk-container {/* jupyter's `normalize.less` sets `[hidden] { display: none; }` but bootstrap.min.css set `[hidden] { display: none !important; }` so we also need the `!important` here to be able to override the default hidden behavior on the sphinx rendered scikit-learn.org. See: https://github.com/scikit-learn/scikit-learn/issues/21755 */display: inline-block !important;position: relative;}#sk-container-id-8 div.sk-text-repr-fallback {display: none;}</style><div id=\"sk-container-id-8\" class=\"sk-top-container\"><div class=\"sk-text-repr-fallback\"><pre>GridSearchCV(cv=5, estimator=RandomForestClassifier(random_state=42),\n",
              "             param_grid={&#x27;max_depth&#x27;: [2, 4, 6, 8, 10, None],\n",
              "                         &#x27;min_samples_leaf&#x27;: [1, 2, 4],\n",
              "                         &#x27;min_samples_split&#x27;: [2, 5, 10],\n",
              "                         &#x27;n_estimators&#x27;: [50, 100, 200, 400]},\n",
              "             scoring=&#x27;f1&#x27;)</pre><b>In a Jupyter environment, please rerun this cell to show the HTML representation or trust the notebook. <br />On GitHub, the HTML representation is unable to render, please try loading this page with nbviewer.org.</b></div><div class=\"sk-container\" hidden><div class=\"sk-item sk-dashed-wrapped\"><div class=\"sk-label-container\"><div class=\"sk-label sk-toggleable\"><input class=\"sk-toggleable__control sk-hidden--visually\" id=\"sk-estimator-id-12\" type=\"checkbox\" ><label for=\"sk-estimator-id-12\" class=\"sk-toggleable__label sk-toggleable__label-arrow\">GridSearchCV</label><div class=\"sk-toggleable__content\"><pre>GridSearchCV(cv=5, estimator=RandomForestClassifier(random_state=42),\n",
              "             param_grid={&#x27;max_depth&#x27;: [2, 4, 6, 8, 10, None],\n",
              "                         &#x27;min_samples_leaf&#x27;: [1, 2, 4],\n",
              "                         &#x27;min_samples_split&#x27;: [2, 5, 10],\n",
              "                         &#x27;n_estimators&#x27;: [50, 100, 200, 400]},\n",
              "             scoring=&#x27;f1&#x27;)</pre></div></div></div><div class=\"sk-parallel\"><div class=\"sk-parallel-item\"><div class=\"sk-item\"><div class=\"sk-label-container\"><div class=\"sk-label sk-toggleable\"><input class=\"sk-toggleable__control sk-hidden--visually\" id=\"sk-estimator-id-13\" type=\"checkbox\" ><label for=\"sk-estimator-id-13\" class=\"sk-toggleable__label sk-toggleable__label-arrow\">estimator: RandomForestClassifier</label><div class=\"sk-toggleable__content\"><pre>RandomForestClassifier(random_state=42)</pre></div></div></div><div class=\"sk-serial\"><div class=\"sk-item\"><div class=\"sk-estimator sk-toggleable\"><input class=\"sk-toggleable__control sk-hidden--visually\" id=\"sk-estimator-id-14\" type=\"checkbox\" ><label for=\"sk-estimator-id-14\" class=\"sk-toggleable__label sk-toggleable__label-arrow\">RandomForestClassifier</label><div class=\"sk-toggleable__content\"><pre>RandomForestClassifier(random_state=42)</pre></div></div></div></div></div></div></div></div></div></div>"
            ]
          },
          "metadata": {},
          "execution_count": 230
        }
      ]
    },
    {
      "cell_type": "code",
      "source": [
        " # print the best hyperparameters\n",
        "print(grid_search.best_params_)"
      ],
      "metadata": {
        "id": "6YU9mOIoDp2b",
        "colab": {
          "base_uri": "https://localhost:8080/"
        },
        "outputId": "f4e399f9-e9fd-4267-bfd4-cf707f0a9a6d"
      },
      "execution_count": null,
      "outputs": [
        {
          "output_type": "stream",
          "name": "stdout",
          "text": [
            "{'max_depth': None, 'min_samples_leaf': 1, 'min_samples_split': 10, 'n_estimators': 50}\n"
          ]
        }
      ]
    },
    {
      "cell_type": "code",
      "source": [
        "# best params\n",
        "# {'max_depth': None, 'min_samples_leaf': 1, 'min_samples_split': 10, 'n_estimators': 50}"
      ],
      "metadata": {
        "id": "ne5OthoXED5s"
      },
      "execution_count": null,
      "outputs": []
    },
    {
      "cell_type": "code",
      "source": [
        "# train the final model on the entire training set using the best hyperparameters\n",
        "#min_samples_leaf = 2 / 0.529388\n",
        "#min_sample_split = 10 / good\n",
        "#n_estimators = 49 / 0.530234\n",
        "#n_estimators = 48 / 0.5313914\n",
        "\n",
        "rnd_final = RandomForestClassifier(max_depth=None, min_samples_leaf=2, min_samples_split=10, n_estimators=48, random_state=42)\n",
        "rnd_final.fit(X_train_pval, y_train)\n",
        "y_pred_rnd_final = rnd_final.predict(X_test_pval)"
      ],
      "metadata": {
        "id": "5i28aHqNDydZ"
      },
      "execution_count": null,
      "outputs": []
    },
    {
      "cell_type": "code",
      "source": [
        "print(classification_report(y_test, y_pred_rnd_final))"
      ],
      "metadata": {
        "id": "OxCqwpT5EMrE",
        "colab": {
          "base_uri": "https://localhost:8080/"
        },
        "outputId": "dd98f329-08b1-45d7-a197-15b1ca217db8"
      },
      "execution_count": null,
      "outputs": [
        {
          "output_type": "stream",
          "name": "stdout",
          "text": [
            "              precision    recall  f1-score   support\n",
            "\n",
            "       False       0.83      0.95      0.88      9659\n",
            "        True       0.73      0.42      0.53      3221\n",
            "\n",
            "    accuracy                           0.82     12880\n",
            "   macro avg       0.78      0.68      0.71     12880\n",
            "weighted avg       0.80      0.82      0.80     12880\n",
            "\n"
          ]
        }
      ]
    },
    {
      "cell_type": "code",
      "source": [
        "print(f1_score(y_test, y_pred_rnd_final))"
      ],
      "metadata": {
        "id": "snLvPLMlbMp7",
        "colab": {
          "base_uri": "https://localhost:8080/"
        },
        "outputId": "3109c60b-fc0c-4f4a-94c2-47bb8e387ef2"
      },
      "execution_count": null,
      "outputs": [
        {
          "output_type": "stream",
          "name": "stdout",
          "text": [
            "0.5313914583743358\n"
          ]
        }
      ]
    },
    {
      "cell_type": "markdown",
      "source": [
        "### RF Confusion Matrix"
      ],
      "metadata": {
        "id": "jRFHsXTTrjEA"
      }
    },
    {
      "cell_type": "code",
      "source": [
        "cm = confusion_matrix(y_test, y_pred_rnd_final)\n",
        "\n",
        "f, ax = plt.subplots(figsize =(3,3))\n",
        "sns.heatmap(cm,annot = True,cmap='Reds',linewidths=1,linecolor='k',square=True,mask=False,fmt = \".0f\",cbar=True,ax=ax)\n",
        "plt.xlabel(\"y_pred\")\n",
        "plt.ylabel(\"y_true\")\n",
        "plt.show()"
      ],
      "metadata": {
        "id": "RBM0phKmrmhp",
        "colab": {
          "base_uri": "https://localhost:8080/",
          "height": 288
        },
        "outputId": "b1765678-5c66-48bf-e1db-cfc52a5b869d"
      },
      "execution_count": null,
      "outputs": [
        {
          "output_type": "display_data",
          "data": {
            "text/plain": [
              "<Figure size 300x300 with 2 Axes>"
            ],
            "image/png": "[encoded data removed]"
          },
          "metadata": {}
        }
      ]
    },
    {
      "cell_type": "markdown",
      "source": [
        "### RF Threshold Tuning"
      ],
      "metadata": {
        "id": "Iu07WLB6rnH-"
      }
    },
    {
      "cell_type": "code",
      "source": [
        "y_pred_proba = rnd_final.predict_proba(X_test_pval)[:, 1]"
      ],
      "metadata": {
        "id": "v7-BCukprqmY"
      },
      "execution_count": null,
      "outputs": []
    },
    {
      "cell_type": "code",
      "source": [
        "# calculate precision-recall curve\n",
        "precision, recall, thresholds = precision_recall_curve(y_test, y_pred_proba)\n",
        "\n",
        "# plot the precision-recall curve\n",
        "plt.figure(figsize=(5, 4))\n",
        "plt.plot(recall, precision)\n",
        "plt.xlabel('Recall')\n",
        "plt.ylabel('Precision')\n",
        "plt.title('Precision-Recall Curve')\n",
        "plt.show()"
      ],
      "metadata": {
        "id": "q8jNyJQtGYYK",
        "colab": {
          "base_uri": "https://localhost:8080/",
          "height": 410
        },
        "outputId": "bdc056e8-a64a-4d60-f769-30a9360618ad"
      },
      "execution_count": null,
      "outputs": [
        {
          "output_type": "display_data",
          "data": {
            "text/plain": [
              "<Figure size 500x400 with 1 Axes>"
            ],
            "image/png": "[encoded data removed]"
          },
          "metadata": {}
        }
      ]
    },
    {
      "cell_type": "code",
      "source": [
        "# calculate F1-score for each threshold\n",
        "f1_scores = [f1_score(y_test, y_pred_proba >= th) for th in thresholds]\n",
        "\n",
        "# find the threshold that maximizes the F1-score\n",
        "best_threshold = thresholds[np.argmax(f1_scores)]"
      ],
      "metadata": {
        "id": "EKfDnrPLGcUQ"
      },
      "execution_count": null,
      "outputs": []
    },
    {
      "cell_type": "code",
      "source": [
        "# plot the F1-scores against the thresholds\n",
        "plt.plot(thresholds, f1_scores)\n",
        "plt.axvline(x=0.5, color='k', linestyle='--', label='Default threshold')\n",
        "plt.axvline(x=best_threshold, color='r', linestyle='--', label='Best threshold')\n",
        "plt.xlabel('Threshold')\n",
        "plt.ylabel('F1-score')\n",
        "plt.title('F1-score vs. Threshold')\n",
        "plt.legend()\n",
        "plt.show()"
      ],
      "metadata": {
        "colab": {
          "base_uri": "https://localhost:8080/",
          "height": 472
        },
        "id": "KKKrXJlHMvsK",
        "outputId": "f06d2b61-581c-4d5f-86ff-c7dfd06659cf"
      },
      "execution_count": null,
      "outputs": [
        {
          "output_type": "display_data",
          "data": {
            "text/plain": [
              "<Figure size 640x480 with 1 Axes>"
            ],
            "image/png": "[encoded data removed]"
          },
          "metadata": {}
        }
      ]
    },
    {
      "cell_type": "code",
      "source": [
        "best_threshold"
      ],
      "metadata": {
        "id": "fY-bcS5LG5uw",
        "colab": {
          "base_uri": "https://localhost:8080/"
        },
        "outputId": "ac056c1a-857d-446c-e1ba-9478530b7d7b"
      },
      "execution_count": null,
      "outputs": [
        {
          "output_type": "execute_result",
          "data": {
            "text/plain": [
              "0.32894616957116957"
            ]
          },
          "metadata": {},
          "execution_count": 283
        }
      ]
    },
    {
      "cell_type": "code",
      "source": [
        "# set a threshold value (0.5 by default)\n",
        "threshold = 0.32894616957116957\n",
        "\n",
        "# adjust threshold and make predictions\n",
        "y_pred_thresh_rnd = np.where(y_pred_proba > threshold, 1, 0)"
      ],
      "metadata": {
        "id": "7CqxEhxuGz1L"
      },
      "execution_count": null,
      "outputs": []
    },
    {
      "cell_type": "markdown",
      "source": [
        "### RF Metrics on Best Model"
      ],
      "metadata": {
        "id": "ulGFKFnFrrPm"
      }
    },
    {
      "cell_type": "code",
      "source": [
        "print(classification_report(y_test, y_pred_thresh_rnd))"
      ],
      "metadata": {
        "id": "citYo5n1rvoh",
        "colab": {
          "base_uri": "https://localhost:8080/"
        },
        "outputId": "31eabff1-35fb-4c78-e1ca-5454118881e0"
      },
      "execution_count": null,
      "outputs": [
        {
          "output_type": "stream",
          "name": "stdout",
          "text": [
            "              precision    recall  f1-score   support\n",
            "\n",
            "       False       0.88      0.82      0.85      9659\n",
            "        True       0.56      0.68      0.61      3221\n",
            "\n",
            "    accuracy                           0.79     12880\n",
            "   macro avg       0.72      0.75      0.73     12880\n",
            "weighted avg       0.80      0.79      0.79     12880\n",
            "\n"
          ]
        }
      ]
    },
    {
      "cell_type": "code",
      "source": [
        "print(f1_score(y_test, y_pred_thresh_rnd))"
      ],
      "metadata": {
        "id": "4xvlLXkUbdH5",
        "colab": {
          "base_uri": "https://localhost:8080/"
        },
        "outputId": "4701f9ce-1add-476e-f14f-1d875317ef19"
      },
      "execution_count": null,
      "outputs": [
        {
          "output_type": "stream",
          "name": "stdout",
          "text": [
            "0.6123310810810811\n"
          ]
        }
      ]
    },
    {
      "cell_type": "code",
      "source": [
        "print(accuracy_score(y_test, y_pred_thresh_rnd))"
      ],
      "metadata": {
        "colab": {
          "base_uri": "https://localhost:8080/"
        },
        "id": "rTy6rrg0ArdQ",
        "outputId": "6551b3b8-a57e-4b7f-f4dc-22ac38df9573"
      },
      "execution_count": null,
      "outputs": [
        {
          "output_type": "stream",
          "name": "stdout",
          "text": [
            "0.7861801242236025\n"
          ]
        }
      ]
    },
    {
      "cell_type": "code",
      "source": [
        "cm_rnd = confusion_matrix(y_test, y_pred_thresh_rnd)\n",
        "\n",
        "f, ax = plt.subplots(figsize =(3,3))\n",
        "sns.heatmap(cm_rnd,annot = True,cmap='Reds',linewidths=1,linecolor='k',square=True,mask=False,fmt = \".0f\",cbar=True,ax=ax)\n",
        "plt.xlabel(\"y_pred\")\n",
        "plt.ylabel(\"y_true\")\n",
        "plt.show()"
      ],
      "metadata": {
        "id": "PmW492ehG_6I",
        "colab": {
          "base_uri": "https://localhost:8080/",
          "height": 288
        },
        "outputId": "4d1dcda4-7329-4f3d-93ae-611169f4e196"
      },
      "execution_count": null,
      "outputs": [
        {
          "output_type": "display_data",
          "data": {
            "text/plain": [
              "<Figure size 300x300 with 2 Axes>"
            ],
            "image/png": "[encoded data removed]"
          },
          "metadata": {}
        }
      ]
    },
    {
      "cell_type": "code",
      "source": [
        "skplt.metrics.plot_roc(y_test, rnd_final.predict_proba(X_test_pval), plot_micro=False)\n",
        "plt.show()"
      ],
      "metadata": {
        "id": "YGaFyF2lb5Pk",
        "colab": {
          "base_uri": "https://localhost:8080/",
          "height": 472
        },
        "outputId": "fbdbf3d0-8db7-4f22-9ce9-e3e470f5a711"
      },
      "execution_count": null,
      "outputs": [
        {
          "output_type": "display_data",
          "data": {
            "text/plain": [
              "<Figure size 640x480 with 1 Axes>"
            ],
            "image/png": "[encoded data removed]"
          },
          "metadata": {}
        }
      ]
    },
    {
      "cell_type": "markdown",
      "source": [
        "# F1 Score Comparing Models"
      ],
      "metadata": {
        "id": "yMFQuznGgCmr"
      }
    },
    {
      "cell_type": "markdown",
      "source": [
        "Logistic Regression"
      ],
      "metadata": {
        "id": "jNw-kiqcgcKU"
      }
    },
    {
      "cell_type": "code",
      "source": [
        "print(f1_score(y_test, y_pred_thresh_log))"
      ],
      "metadata": {
        "id": "tMNHjcqUgWzb",
        "colab": {
          "base_uri": "https://localhost:8080/"
        },
        "outputId": "ab665bec-6863-479e-ee0e-55e20b142735"
      },
      "execution_count": null,
      "outputs": [
        {
          "output_type": "stream",
          "name": "stdout",
          "text": [
            "0.5985563575791226\n"
          ]
        }
      ]
    },
    {
      "cell_type": "markdown",
      "source": [
        "Decision Tree"
      ],
      "metadata": {
        "id": "bh-xo3nngeXl"
      }
    },
    {
      "cell_type": "code",
      "source": [
        "print(f1_score(y_test, y_pred_thresh_dtc))"
      ],
      "metadata": {
        "id": "-YTecBqMgKY9",
        "colab": {
          "base_uri": "https://localhost:8080/"
        },
        "outputId": "49f36dc5-5270-4770-d7d5-9f05bd624428"
      },
      "execution_count": null,
      "outputs": [
        {
          "output_type": "stream",
          "name": "stdout",
          "text": [
            "0.550885927661444\n"
          ]
        }
      ]
    },
    {
      "cell_type": "markdown",
      "source": [
        "Random Forest"
      ],
      "metadata": {
        "id": "tOQJn--wgjg5"
      }
    },
    {
      "cell_type": "code",
      "source": [
        "print(f1_score(y_test, y_pred_thresh_rnd))"
      ],
      "metadata": {
        "id": "d328hJHAgGOF",
        "colab": {
          "base_uri": "https://localhost:8080/"
        },
        "outputId": "00e1febb-a869-4a8b-e952-6e4807bbe731"
      },
      "execution_count": null,
      "outputs": [
        {
          "output_type": "stream",
          "name": "stdout",
          "text": [
            "0.6123310810810811\n"
          ]
        }
      ]
    }
  ]
}